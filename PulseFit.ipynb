{
 "cells": [
  {
   "cell_type": "code",
   "execution_count": 1,
   "metadata": {},
   "outputs": [
    {
     "name": "stdout",
     "output_type": "stream",
     "text": [
      "Loading modules....\n"
     ]
    },
    {
     "name": "stderr",
     "output_type": "stream",
     "text": [
      "/cvmfs/cdms.opensciencegrid.org/releases/centos7/V04-00/lib/python3.7/site-packages/datacat/model.py:2: DeprecationWarning: Using or importing the ABCs from 'collections' instead of from 'collections.abc' is deprecated since Python 3.3,and in 3.9 it will stop working\n",
      "  from collections import OrderedDict, MutableMapping\n"
     ]
    },
    {
     "name": "stdout",
     "output_type": "stream",
     "text": [
      "Welcome to JupyROOT 6.22/00\n",
      "modules loaded...\n"
     ]
    }
   ],
   "source": [
    "print('Loading modules....')\n",
    "\n",
    "import os, sys\n",
    "\n",
    "\n",
    "import uproot\n",
    "import numpy as np\n",
    "import matplotlib.pyplot as plt\n",
    "from qetpy.utils import lowpassfilter \n",
    "from qetpy import autocuts\n",
    "import cdms\n",
    "#from CDMSDataCatalog import CDMSDataCatalog\n",
    "import scipy.optimize as optimize\n",
    "import matplotlib as mpl\n",
    "import pickle as pkl\n",
    "import ROOT as rt\n",
    "import seaborn as sns\n",
    "import operator as op\n",
    "import pandas as pd\n",
    "from collections import Counter\n",
    "\n",
    "print('modules loaded...')"
   ]
  },
  {
   "cell_type": "code",
   "execution_count": 2,
   "metadata": {},
   "outputs": [],
   "source": [
    "series = ['23231219_184002']\n",
    "event_numbers = [42499, 110523, 200199, 203569, 203576, 263548, 322159, 333501, 340031, 340043] #for Z1\n",
    "#event_numbers = [42778, 60675, 61585, 102412, 111229, 150793, 152887, 190538, 193667, 221976] #for Z3\n",
    "det = 'Z1'\n",
    "detNum = int(det[-1])"
   ]
  },
  {
   "cell_type": "markdown",
   "metadata": {},
   "source": [
    "## Load RQ related quantities"
   ]
  },
  {
   "cell_type": "code",
   "execution_count": 3,
   "metadata": {},
   "outputs": [
    {
     "name": "stdout",
     "output_type": "stream",
     "text": [
      "23231219_184002  :  /sdf/group/supercdms/data/CDMS/CUTE/R37/Processed/Tests/CUTE_T3_GeActivation_v1.0.0_V05-00_P0.2./Submerged/CUTE_T3_GeActivation_v1.0.0_V05-00_P0.2._23231219_184002.root\n",
      "Found series =  ['23231219_184002']\n",
      "Loading RQ and Event Tree...\n",
      "done..\n",
      "Loading OF spefic data....\n",
      "23231219_184002 loaded\n",
      "done!\n",
      " Loading Event specific data....\n",
      "23231219_184002 loaded\n",
      "Done!\n"
     ]
    }
   ],
   "source": [
    "base = '/sdf/group/supercdms/data/CDMS/CUTE/R37/Processed/Tests/CUTE_T3_GeActivation_v1.0.0_V05-00_P0.2./Submerged'\n",
    "file_prefix = 'CUTE_T3_GeActivation_v1.0.0_V05-00_P0.2.'\n",
    "# if(dataset == 'prompt'):\n",
    "#     base = '/sdf/group/supercdms/data/CDMS/CUTE/R37/Processed/Prompt/Prompt_V04-15_P0.2.1/Submerged'\n",
    "#     file_prefix = 'Prompt_V04-15_P0.2.1'\n",
    "\n",
    "\n",
    "filePath = []\n",
    "found_series = []\n",
    "for ser in series:\n",
    "    \n",
    "    fp = '%s/%s_%s.root'%(base,file_prefix,ser)\n",
    "    if(os.path.exists(fp)):\n",
    "        print(ser,' : ',fp)\n",
    "        filePath.append(fp)\n",
    "        found_series.append(ser)\n",
    "    else:\n",
    "        print('not found: ',fp)\n",
    "series = found_series\n",
    "print('Found series = ',series)\n",
    "\n",
    "\n",
    "print('Loading RQ and Event Tree...')\n",
    "RQ=[]\n",
    "for i,ser in enumerate(series):\n",
    "    RQ.append(uproot.open(filePath[i])['rqDir/zip%d'%(detNum)]) \n",
    "\n",
    "eventTree=[]\n",
    "for i,ser in enumerate(series):\n",
    "    eventTree.append(uproot.open(filePath[i])['rqDir/eventTree']) \n",
    "\n",
    "print('done..')\n",
    "\n",
    "\n",
    "print('Loading OF spefic data....')\n",
    "#Load RQs from processed files\n",
    "channels=['PT','PAS1','PBS1','PCS1','PDS1','PES1','PFS1','PAS2','PBS2','PCS2','PDS2','PES2','PFS2']\n",
    "\n",
    "OFchiq={}\n",
    "OFamps={}\n",
    "OFdelay={}\n",
    "OFamps0={}\n",
    "OFnorms={}\n",
    "OFbs={}\n",
    "\n",
    "for i,key in enumerate(series):\n",
    "    tc={}\n",
    "    ta={}\n",
    "    td={}\n",
    "    ta0={}\n",
    "    tn = {}\n",
    "    tbs = {}\n",
    "    for c in channels:\n",
    "        if(detNum == '3' and c == 'PAS1'):\n",
    "            print('\\tSkipping Z3-PAS1...')\n",
    "            continue\n",
    "        tc[c]=(RQ[i].array(c+\"OFchisq\"))\n",
    "        ta[c]=(RQ[i].array(c+\"OFamps\"))\n",
    "        ta0[c]=(RQ[i].array(c+\"OFamps0\"))\n",
    "        td[c]=(RQ[i].array(c+\"OFdelay\"))\n",
    "        if(c!='PT'):\n",
    "            tn[c] = (RQ[i].array(c+\"norm\"))\n",
    "            tbs[c] = (RQ[i].array(c+\"bs\"))\n",
    "    OFchiq[key]=tc\n",
    "    OFamps[key]=ta\n",
    "    OFamps0[key]=ta0\n",
    "    OFdelay[key]=td\n",
    "    OFnorms[key]=tn\n",
    "    OFbs[key]=tbs\n",
    "    print('%s loaded'%(key))\n",
    "    \n",
    "print('done!')\n",
    "\n",
    "print(' Loading Event specific data....')\n",
    "\n",
    "\n",
    "TriggerTime=[]\n",
    "TriggerType=[]\n",
    "EventNumber=[]\n",
    "TrigDet=[]\n",
    "TriggerMask=[]\n",
    "EventTime=[]\n",
    "\n",
    "R2 = {} # Radial parameter for S2\n",
    "R1 = {} # Radial parameter for S1\n",
    "amp_diff = {}  \n",
    "amp_diff_abs = {}\n",
    "for i,key in enumerate(series):\n",
    "    TriggerTime.append(eventTree[i].array(\"TriggerTime\"))\n",
    "    TriggerType.append(eventTree[i].array(\"TriggerType\"))\n",
    "    EventNumber.append(eventTree[i].array(\"EventNumber\"))\n",
    "    TrigDet.append(eventTree[i].array(\"TriggerDetectorNum\"))\n",
    "    TriggerMask.append(eventTree[i].array(\"TriggerMask\"))\n",
    "    EventTime.append(eventTree[i].array(\"EventTime\"))\n",
    "    R2[key] = OFdelay[key]['PFS2'] - OFdelay[key]['PAS2']\n",
    "    R1[key] = OFdelay[key]['PFS1'] - OFdelay[key]['PAS1']\n",
    "    amp_diff[key] = (OFamps[key]['PFS2'] - OFamps[key]['PAS2'])/(OFamps[key]['PFS2'] + OFamps[key]['PAS2'])\n",
    "    amp_diff_abs[key] = (OFamps[key]['PFS2'] - OFamps[key]['PAS2'])\n",
    "    print('%s loaded'%(key))\n",
    "\n",
    "print('Done!')"
   ]
  },
  {
   "cell_type": "code",
   "execution_count": 4,
   "metadata": {},
   "outputs": [
    {
     "name": "stdout",
     "output_type": "stream",
     "text": [
      "done\n"
     ]
    }
   ],
   "source": [
    "'''\n",
    "    Load  OFamps, baseline, and delay for specific events\n",
    "'''\n",
    "\n",
    "proc_of = {}\n",
    "proc_bs = {}\n",
    "proc_delay = {}\n",
    "\n",
    "for idx, key in enumerate(series):\n",
    "    t_of = []\n",
    "    t_bs = []\n",
    "    t_delay = []\n",
    "    for enum in event_numbers:\n",
    "        tt_of = {}\n",
    "        tt_bs = {}\n",
    "        tt_delay = {}\n",
    "        for c in channels:\n",
    "            if(c != 'PT'):\n",
    "                tt_bs[c] = ((OFbs[key][c][EventNumber[idx] == enum]))\n",
    "            tt_of[c] = ((OFamps[key][c][EventNumber[idx] == enum]))\n",
    "            \n",
    "            tt_delay[c] = ((OFdelay[key][c][EventNumber[idx] == enum]))\n",
    "        t_of.append(tt_of)\n",
    "        t_bs.append(tt_bs)\n",
    "        t_delay.append(tt_delay)\n",
    "    proc_of[key] = t_of\n",
    "    proc_bs[key] = t_bs\n",
    "    proc_delay[key] = t_delay\n",
    "print('done')"
   ]
  },
  {
   "cell_type": "markdown",
   "metadata": {},
   "source": [
    "## Load Noise file to get templates"
   ]
  },
  {
   "cell_type": "code",
   "execution_count": 5,
   "metadata": {},
   "outputs": [
    {
     "name": "stdout",
     "output_type": "stream",
     "text": [
      "Files loaded...\n",
      "Templates laoded as histograms...\n",
      "Templates loaded as dict...\n"
     ]
    }
   ],
   "source": [
    "'''\n",
    "    Get noise info from BatNoise file\n",
    "'''\n",
    "zips = {\n",
    "    'Z1' : 'zip1',\n",
    "    'Z2' : 'zip2',\n",
    "    'Z3' : 'zip3',\n",
    "    'Z4' : 'zip4',\n",
    "    'Z5' : 'zip5',\n",
    "    'Z6' : 'zip6'\n",
    "}\n",
    "\n",
    "noisebase = '/sdf/group/supercdms/data/CDMS/CUTE/R37/Processed/Tests/CUTE_T3_GeActivation_v1.0.0_V05-00_P0.2./Noise'\n",
    "noisefile_prefix = 'CUTE_T3_GeActivation_v1.0.0_V05-00_P0.2._Filter'\n",
    "\n",
    "\n",
    "noisefile = []\n",
    "for i,key in enumerate(series):\n",
    "    path = '%s/%s_%s.root'%(noisebase,noisefile_prefix,key)\n",
    "    file = rt.TFile.Open(path)\n",
    "    if(not file):\n",
    "        print('Couldnt open %s'%(path))\n",
    "    noisefile.append(file)    \n",
    "\n",
    "print('Files loaded...')\n",
    "\n",
    "template_hist = {}\n",
    "for i, key in enumerate(series):\n",
    "    th = {}\n",
    "    for c in channels:\n",
    "        if(det=='Z3' and c=='PAS1'):\n",
    "            continue\n",
    "        temp = noisefile[i].Get('%s/%sTemplateTime'%(zips[det],c))\n",
    "        if(not temp):\n",
    "            print('NULL for %s : %s'%(key,c))\n",
    "        th[c] = temp\n",
    "    template_hist[key] = th\n",
    "print('Templates laoded as histograms...')\n",
    "\n",
    "template = {}\n",
    "for i, key in enumerate(series):\n",
    "    tarr = {}\n",
    "    for c in channels:\n",
    "        if(det=='Z3' and c=='PAS1'):\n",
    "            continue\n",
    "        bincenter = []\n",
    "        bincontent = []\n",
    "        #bincontent = [temp.GetBinContent(j) for j in temp.GetNbinsX()]\n",
    "        temp = template_hist[key][c]\n",
    "        for j in range(temp.GetNbinsX()):\n",
    "            bincenter.append(temp.GetBinCenter(j))\n",
    "            bincontent.append(temp.GetBinContent(j))\n",
    "        tarr[c] = bincontent\n",
    "    template[key] = tarr\n",
    "\n",
    "print('Templates loaded as dict...')"
   ]
  },
  {
   "cell_type": "markdown",
   "metadata": {},
   "source": [
    "## Load raw traces\n",
    "* Change the values in the cell below accroding to the detector (UMN detectors have different settings)"
   ]
  },
  {
   "cell_type": "code",
   "execution_count": 6,
   "metadata": {},
   "outputs": [],
   "source": [
    "Rshunt = 5.0e-3 # shunt resistance\n",
    "Rfb = 5000.0 # feedback resistance\n",
    "ADCperVolt = 65536.0/8.0 # the number of ADC bins per V for the readout\n",
    "LoopRatio = 2.4 # SQUID turn ratio \n",
    "low_pass_filter = False\n",
    "high_cutoff, fs, order = 100000, 625000, 2\n",
    "trace_length = 1.6 # uS\n",
    "bins = 32768\n",
    "rawfilepath='/sdf/group/supercdms/data/CDMS/CUTE/R37/Raw/'\n",
    "\n",
    "channels=['PT','PAS1','PBS1','PCS1','PDS1','PES1','PFS1','PAS2','PBS2','PCS2','PDS2','PES2','PFS2']\n"
   ]
  },
  {
   "cell_type": "code",
   "execution_count": 7,
   "metadata": {},
   "outputs": [
    {
     "name": "stdout",
     "output_type": "stream",
     "text": [
      "The file is: /sdf/group/supercdms/data/CDMS/CUTE/R37/Raw//23231219_184002/23231219_184002_F0001.mid.gz\n",
      "\n",
      "Opened raw midas file: /sdf/group/supercdms/data/CDMS/CUTE/R37/Raw//23231219_184002/23231219_184002_F0001.mid.gz\n",
      "INFO in DetectorConfigData: list of available detectors = 1, 2, 3, 4, 5, 6\n"
     ]
    }
   ],
   "source": [
    "#Load detector settings\n",
    "dsettings={}\n",
    "for idx,key in enumerate(series):\n",
    "    dsettings[key]=cdms.rawio.IO.getDetectorSettings(rawfilepath,key)"
   ]
  },
  {
   "cell_type": "markdown",
   "metadata": {},
   "source": [
    "### Make sure to create a `rawdata` directory. The pulses will be dumped to this directory in pickle format so that you don't have to load the data from midas file again and again which takes time."
   ]
  },
  {
   "cell_type": "code",
   "execution_count": 8,
   "metadata": {},
   "outputs": [
    {
     "name": "stdout",
     "output_type": "stream",
     "text": [
      "pkl file loaded for PAS1\n",
      "pkl file loaded for PBS1\n",
      "pkl file loaded for PCS1\n"
     ]
    },
    {
     "name": "stderr",
     "output_type": "stream",
     "text": [
      "/cvmfs/sft.cern.ch/lcg/views/LCG_98py3cu10/x86_64-centos7-gcc8-opt/lib/python3.7/site-packages/ipykernel_launcher.py:16: ResourceWarning: unclosed file <_io.BufferedReader name='./rawdata/23231219_184002_Z1_PAS1_1kev.pkl'>\n",
      "  app.launch_new_instance()\n",
      "ResourceWarning: Enable tracemalloc to get the object allocation traceback\n",
      "/cvmfs/sft.cern.ch/lcg/views/LCG_98py3cu10/x86_64-centos7-gcc8-opt/lib/python3.7/site-packages/ipykernel_launcher.py:16: ResourceWarning: unclosed file <_io.BufferedReader name='./rawdata/23231219_184002_Z1_PBS1_1kev.pkl'>\n",
      "  app.launch_new_instance()\n",
      "ResourceWarning: Enable tracemalloc to get the object allocation traceback\n",
      "/cvmfs/sft.cern.ch/lcg/views/LCG_98py3cu10/x86_64-centos7-gcc8-opt/lib/python3.7/site-packages/ipykernel_launcher.py:16: ResourceWarning: unclosed file <_io.BufferedReader name='./rawdata/23231219_184002_Z1_PCS1_1kev.pkl'>\n",
      "  app.launch_new_instance()\n",
      "ResourceWarning: Enable tracemalloc to get the object allocation traceback\n",
      "/cvmfs/sft.cern.ch/lcg/views/LCG_98py3cu10/x86_64-centos7-gcc8-opt/lib/python3.7/site-packages/ipykernel_launcher.py:16: ResourceWarning: unclosed file <_io.BufferedReader name='./rawdata/23231219_184002_Z1_PDS1_1kev.pkl'>\n",
      "  app.launch_new_instance()\n",
      "ResourceWarning: Enable tracemalloc to get the object allocation traceback\n",
      "/cvmfs/sft.cern.ch/lcg/views/LCG_98py3cu10/x86_64-centos7-gcc8-opt/lib/python3.7/site-packages/ipykernel_launcher.py:16: ResourceWarning: unclosed file <_io.BufferedReader name='./rawdata/23231219_184002_Z1_PES1_1kev.pkl'>\n",
      "  app.launch_new_instance()\n",
      "ResourceWarning: Enable tracemalloc to get the object allocation traceback\n",
      "/cvmfs/sft.cern.ch/lcg/views/LCG_98py3cu10/x86_64-centos7-gcc8-opt/lib/python3.7/site-packages/ipykernel_launcher.py:16: ResourceWarning: unclosed file <_io.BufferedReader name='./rawdata/23231219_184002_Z1_PFS1_1kev.pkl'>\n",
      "  app.launch_new_instance()\n",
      "ResourceWarning: Enable tracemalloc to get the object allocation traceback\n",
      "/cvmfs/sft.cern.ch/lcg/views/LCG_98py3cu10/x86_64-centos7-gcc8-opt/lib/python3.7/site-packages/ipykernel_launcher.py:16: ResourceWarning: unclosed file <_io.BufferedReader name='./rawdata/23231219_184002_Z1_PAS2_1kev.pkl'>\n",
      "  app.launch_new_instance()\n",
      "ResourceWarning: Enable tracemalloc to get the object allocation traceback\n"
     ]
    },
    {
     "name": "stdout",
     "output_type": "stream",
     "text": [
      "pkl file loaded for PDS1\n",
      "pkl file loaded for PES1\n",
      "pkl file loaded for PFS1\n",
      "pkl file loaded for PAS2\n"
     ]
    },
    {
     "name": "stderr",
     "output_type": "stream",
     "text": [
      "/cvmfs/sft.cern.ch/lcg/views/LCG_98py3cu10/x86_64-centos7-gcc8-opt/lib/python3.7/site-packages/ipykernel_launcher.py:16: ResourceWarning: unclosed file <_io.BufferedReader name='./rawdata/23231219_184002_Z1_PBS2_1kev.pkl'>\n",
      "  app.launch_new_instance()\n",
      "ResourceWarning: Enable tracemalloc to get the object allocation traceback\n",
      "/cvmfs/sft.cern.ch/lcg/views/LCG_98py3cu10/x86_64-centos7-gcc8-opt/lib/python3.7/site-packages/ipykernel_launcher.py:16: ResourceWarning: unclosed file <_io.BufferedReader name='./rawdata/23231219_184002_Z1_PCS2_1kev.pkl'>\n",
      "  app.launch_new_instance()\n",
      "ResourceWarning: Enable tracemalloc to get the object allocation traceback\n"
     ]
    },
    {
     "name": "stdout",
     "output_type": "stream",
     "text": [
      "pkl file loaded for PBS2\n",
      "pkl file loaded for PCS2\n"
     ]
    },
    {
     "name": "stderr",
     "output_type": "stream",
     "text": [
      "/cvmfs/sft.cern.ch/lcg/views/LCG_98py3cu10/x86_64-centos7-gcc8-opt/lib/python3.7/site-packages/ipykernel_launcher.py:16: ResourceWarning: unclosed file <_io.BufferedReader name='./rawdata/23231219_184002_Z1_PDS2_1kev.pkl'>\n",
      "  app.launch_new_instance()\n",
      "ResourceWarning: Enable tracemalloc to get the object allocation traceback\n",
      "/cvmfs/sft.cern.ch/lcg/views/LCG_98py3cu10/x86_64-centos7-gcc8-opt/lib/python3.7/site-packages/ipykernel_launcher.py:16: ResourceWarning: unclosed file <_io.BufferedReader name='./rawdata/23231219_184002_Z1_PES2_1kev.pkl'>\n",
      "  app.launch_new_instance()\n",
      "ResourceWarning: Enable tracemalloc to get the object allocation traceback\n",
      "/cvmfs/sft.cern.ch/lcg/views/LCG_98py3cu10/x86_64-centos7-gcc8-opt/lib/python3.7/site-packages/ipykernel_launcher.py:16: ResourceWarning: unclosed file <_io.BufferedReader name='./rawdata/23231219_184002_Z1_PFS2_1kev.pkl'>\n",
      "  app.launch_new_instance()\n",
      "ResourceWarning: Enable tracemalloc to get the object allocation traceback\n"
     ]
    },
    {
     "name": "stdout",
     "output_type": "stream",
     "text": [
      "pkl file loaded for PDS2\n",
      "pkl file loaded for PES2\n",
      "pkl file loaded for PFS2\n",
      "Raw traces [ADC] loaded...\n"
     ]
    }
   ],
   "source": [
    "\n",
    "data = {}\n",
    "raw_data = {}\n",
    "for idx, key in enumerate(series):\n",
    "    c = 'PT'\n",
    "    t_rd = {}\n",
    "    \n",
    "    for c in channels:\n",
    "        fname = './rawdata/%s_%s_%s_1kev.pkl'%(key,det,c)\n",
    "        if(c=='PT'):\n",
    "            continue\n",
    "        #event_number[c] = EventNumber[idx][cut][:10]\n",
    "        if(det == 'Z3' and c == 'PAS1'):\n",
    "            continue\n",
    "        if os.path.exists(fname):\n",
    "            t_rd[c] = pkl.load(open(fname, \"rb\"))\n",
    "            print('pkl file loaded for %s'%(c))\n",
    "        else:\n",
    "            print('No pickle file available. Loading traces... ')\n",
    "            \n",
    "            t_rd[c] = cdms.rawio.IO.getRawEvents(rawfilepath,'/'+key,outputFormat = 2, eventNumbers=event_numbers, \n",
    "                                                   channelList=[c], detectorList=[detNum])\n",
    "            pkl.dump(t_rd[c], open(fname, \"wb\"))\n",
    "            \n",
    "            print('pkl file loaded for %s'%(c))\n",
    "    raw_data[key] = t_rd\n",
    "    print('Raw traces [ADC] loaded...')\n",
    "    \n",
    "\n"
   ]
  },
  {
   "cell_type": "code",
   "execution_count": 9,
   "metadata": {},
   "outputs": [
    {
     "name": "stdout",
     "output_type": "stream",
     "text": [
      "Now converting into amps...\n",
      "-------- 23231219_184002 : Traces coverted to Amps for channel -------------\n",
      "all done\n"
     ]
    }
   ],
   "source": [
    "'''\n",
    "    Convert traces from ADC to uA\n",
    "'''\n",
    "\n",
    "data = {}\n",
    "detNum = int(det[-1])\n",
    "adc2ua = {}\n",
    "for idx, key in enumerate(series):\n",
    "    print('Now converting into amps...')\n",
    "    t_adc2uA = {}\n",
    "    t_d = {}\n",
    "    t_rd = raw_data[key]\n",
    "    for c in channels:\n",
    "        if(c=='PT'):\n",
    "            continue\n",
    "        if(det == 'Z3' and c == 'PAS1'):\n",
    "            continue\n",
    "        temp = []\n",
    "        DriverGain = dsettings[key][det][c]['driverGain']*4.0 #Apply Driver Gain Correction\n",
    "        conv2Amps = 1/(Rfb*DriverGain*LoopRatio*ADCperVolt) #Convert detector parameters to amplitude for trace\n",
    "        t_adc2uA[c] = conv2Amps\n",
    "        \n",
    "        for i in range(len(t_rd[c])):\n",
    "            temp.append(((t_rd[c][i])[det][c])*conv2Amps)\n",
    "        t_d[c] = temp\n",
    "    data[key] = t_d\n",
    "    adc2ua[key] = t_adc2uA\n",
    "    \n",
    "    print('-------- %s : Traces coverted to Amps for channel -------------'%(key))\n",
    "print('all done')"
   ]
  },
  {
   "cell_type": "code",
   "execution_count": 10,
   "metadata": {},
   "outputs": [
    {
     "name": "stdout",
     "output_type": "stream",
     "text": [
      "Done\n"
     ]
    }
   ],
   "source": [
    "\n",
    "'''\n",
    "  Compute pedestal subtracted traces\n",
    "'''\n",
    "\n",
    "traces_ped_sub = {}\n",
    "for idx, key in enumerate(series):\n",
    "    t = {}\n",
    "    for c in channels:\n",
    "        if(c == 'PT'):\n",
    "            continue\n",
    "        if(det=='Z3' and c == 'PAS1'):\n",
    "            continue\n",
    "        tt = []\n",
    "        for i in range(len(event_numbers)):\n",
    "            pedestal = proc_bs[key][i][c][0] * adc2ua[key][c]\n",
    "            #ttt = data[key][c][i] - pedestal\n",
    "            tt.append(data[key][c][i] - pedestal)\n",
    "        t[c] = tt\n",
    "    traces_ped_sub[key] = t\n",
    "print('Done')"
   ]
  },
  {
   "cell_type": "code",
   "execution_count": 11,
   "metadata": {},
   "outputs": [
    {
     "name": "stdout",
     "output_type": "stream",
     "text": [
      "Done\n"
     ]
    }
   ],
   "source": [
    "'''\n",
    "    Construct PT traces\n",
    "'''\n",
    "\n",
    "\n",
    "for idx, key in enumerate(series):\n",
    "    \n",
    "    tt = []\n",
    "    for i in range(len(event_numbers)):\n",
    "        t = np.zeros(bins)\n",
    "        for c in channels:\n",
    "            if(c == 'PT'):\n",
    "                continue\n",
    "            if(det=='Z3' and c=='PAS1'):\n",
    "                continue\n",
    "            t += traces_ped_sub[key][c][i]\n",
    "        tt.append(t)\n",
    "    \n",
    "    traces_ped_sub[key]['PT'] = tt\n",
    "print('Done')"
   ]
  },
  {
   "cell_type": "code",
   "execution_count": 12,
   "metadata": {},
   "outputs": [
    {
     "name": "stdout",
     "output_type": "stream",
     "text": [
      "done!\n"
     ]
    }
   ],
   "source": [
    "'''\n",
    "    compute template for each event, each channel : time-shifted, scaled by ofamp\n",
    "'''\n",
    "\n",
    "template_ss = {} # per series , per channel, per event\n",
    "for idx, key in enumerate(series):\n",
    "    t = {}\n",
    "    for c in channels:\n",
    "        if(det=='Z3' and c=='PAS1'):\n",
    "            continue\n",
    "        tt = []\n",
    "        for i in range(len(event_numbers)):\n",
    "            shift = int((proc_delay[key][i][c]*1e6)/trace_length)\n",
    "            scale = proc_of[key][i][c]\n",
    "            ttt = np.array(template[key][c])\n",
    "            ttt = np.roll(ttt,shift)\n",
    "            ttt *= scale\n",
    "            tt.append(ttt)\n",
    "        t[c] = tt\n",
    "    template_ss[key] = t\n",
    "\n",
    "print('done!')"
   ]
  },
  {
   "cell_type": "code",
   "execution_count": 13,
   "metadata": {},
   "outputs": [],
   "source": [
    "'''\n",
    "    Low pass filter\n",
    "'''\n",
    "\n",
    "import scipy.optimize as optimize\n",
    "from scipy.signal import firwin, lfilter\n",
    "def low_pass_filter(signal, cutoff_frequency, sampling_rate, filter_order=100):\n",
    "    # Calculate the Nyquist frequency\n",
    "    nyquist_frequency = 0.5 * sampling_rate\n",
    "\n",
    "    # Normalize the cutoff frequency\n",
    "    normalized_cutoff = cutoff_frequency / nyquist_frequency\n",
    "\n",
    "    # Design a low-pass FIR filter\n",
    "    filter_coefficients = firwin(filter_order, normalized_cutoff, window='hamming')\n",
    "\n",
    "    # Apply the filter to the signal using lfilter\n",
    "    filtered_signal = lfilter(filter_coefficients, 1.0, signal)\n",
    "\n",
    "    return filtered_signal\n"
   ]
  },
  {
   "cell_type": "code",
   "execution_count": 14,
   "metadata": {},
   "outputs": [],
   "source": [
    "'''\n",
    "    Cosmetics\n",
    "'''\n",
    "\n",
    "color_p = {\n",
    "    'PAS1' : 'red',\n",
    "    'PBS1' : 'orange',\n",
    "    'PCS1' : 'brown',\n",
    "    'PDS1' : 'blue',\n",
    "    'PES1' : 'cyan',\n",
    "    'PFS1' : 'green',\n",
    "    'PAS2' : 'red',\n",
    "    'PBS2' : 'orange',\n",
    "    'PCS2' : 'brown',\n",
    "    'PDS2' : 'blue',\n",
    "    'PES2' : 'cyan',\n",
    "    'PFS2' : 'green',\n",
    "    'PT'   : 'black'\n",
    "    \n",
    "}\n",
    "style_p = {\n",
    "    'PAS1' : '-',\n",
    "    'PBS1' : '-',\n",
    "    'PCS1' : '-',\n",
    "    'PDS1' : '-',\n",
    "    'PES1' : '-',\n",
    "    'PFS1' : '-',\n",
    "    'PAS2' : '--',\n",
    "    'PBS2' : '--',\n",
    "    'PCS2' : '--',\n",
    "    'PDS2' : '--',\n",
    "    'PES2' : '--',\n",
    "    'PFS2' : '--',\n",
    "    'PT'   : '-'\n",
    "}\n",
    "# cycler = plt.cycler(linestyle=['-', '-', '-', '-', '-', '-', '--','--','--','--','--','--'],\n",
    "#                     color=['maroon', 'orange', 'yellow', 'black', 'blue', 'green', 'maroon', 'orange', 'yellow', 'black', 'blue', 'green'],\n",
    "# )"
   ]
  },
  {
   "cell_type": "code",
   "execution_count": 18,
   "metadata": {},
   "outputs": [
    {
     "data": {
      "image/png": "[encoded data removed]",
      "text/plain": [
       "<Figure size 432x288 with 1 Axes>"
      ]
     },
     "metadata": {
      "needs_background": "light"
     },
     "output_type": "display_data"
    }
   ],
   "source": [
    "\n",
    "idx = 2\n",
    "high_cutoff, fs, order = 1000, 625000, 10\n",
    "plt.figure()\n",
    "#def low_pass_filter(signal, cutoff_frequency, sampling_rate, filter_order=100):\n",
    "for c in channels:\n",
    "#     if(c=='PT'):\n",
    "#         continue\n",
    "    if(c!='PFS2'):\n",
    "         continue\n",
    "\n",
    "    if(det == 'Z3' and c == 'PAS1'):\n",
    "        continue\n",
    "   \n",
    "#     trace = data[key][c][idx]\n",
    "#     bs_corrected = trace - np.mean(trace[0:10000])\n",
    "    bs_corrected = traces_ped_sub[key][c][idx]\n",
    "    lp_filtered = low_pass_filter(bs_corrected,high_cutoff,fs,order)\n",
    "    #lp_filtered = (bs_corrected)\n",
    "    \n",
    "    plt.plot((lp_filtered)*1e6,label=c,color=color_p[c],linestyle=style_p[c])\n",
    "    plt.title(key+', '+det+', event #%d'%(raw_data[key]['PFS1'][idx]['event']['EventNumber']))\n",
    "plt.legend()\n",
    "plt.xlim(15500,17000)\n",
    "#plt.xlim(15000,18000)\n",
    "plt.ylabel('uA')\n",
    "plt.xlabel('Time bin')\n",
    "#plt.ylim(-0.02,0.14)\n",
    "plt.show()"
   ]
  },
  {
   "cell_type": "code",
   "execution_count": 23,
   "metadata": {},
   "outputs": [
    {
     "name": "stdout",
     "output_type": "stream",
     "text": [
      "9.114887841901639e-07\n"
     ]
    },
    {
     "data": {
      "image/png": "[encoded data removed]",
      "text/plain": [
       "<Figure size 432x288 with 1 Axes>"
      ]
     },
     "metadata": {
      "needs_background": "light"
     },
     "output_type": "display_data"
    }
   ],
   "source": [
    "\n",
    "idx = 2\n",
    "high_cutoff, fs, order = 1000, 625000, 10\n",
    "plt.figure()\n",
    "#def low_pass_filter(signal, cutoff_frequency, sampling_rate, filter_order=100):\n",
    "for c in channels:\n",
    "#     if(c=='PT'):\n",
    "#         continue\n",
    "    if(c!='PFS2'):\n",
    "         continue\n",
    "\n",
    "    if(det == 'Z3' and c == 'PAS1'):\n",
    "        continue\n",
    "   \n",
    "#     trace = data[key][c][idx]\n",
    "#     bs_corrected = trace - np.mean(trace[0:10000])\n",
    "    bs_corrected = traces_ped_sub[key][c][idx]\n",
    "    lp_filtered = low_pass_filter(bs_corrected,high_cutoff,fs,order)\n",
    "    #lp_filtered = (bs_corrected)\n",
    "    print(max(lp_filtered))\n",
    "    lp_filtered = lp_filtered/max(lp_filtered)\n",
    "    plt.plot((lp_filtered),label=c,color=color_p[c],linestyle=style_p[c])\n",
    "    plt.title(key+', '+det+', event #%d'%(raw_data[key]['PFS1'][idx]['event']['EventNumber']))\n",
    "plt.legend()\n",
    "plt.xlim(15500,17000)\n",
    "#plt.xlim(15000,18000)\n",
    "plt.ylabel('Normalized')\n",
    "plt.xlabel('Time bin')\n",
    "#plt.ylim(-0.02,0.14)\n",
    "plt.show()"
   ]
  },
  {
   "cell_type": "code",
   "execution_count": 117,
   "metadata": {},
   "outputs": [
    {
     "data": {
      "image/png": "[encoded data removed]",
      "text/plain": [
       "<Figure size 432x288 with 1 Axes>"
      ]
     },
     "metadata": {
      "needs_background": "light"
     },
     "output_type": "display_data"
    }
   ],
   "source": [
    "\n",
    "idx = 2\n",
    "high_cutoff, fs, order = 1000, 625000, 10\n",
    "plt.figure()\n",
    "#def low_pass_filter(signal, cutoff_frequency, sampling_rate, filter_order=100):\n",
    "for c in channels:\n",
    "    if(c!='PT'):\n",
    "        continue\n",
    "   \n",
    "#     trace = data[key][c][idx]\n",
    "#     bs_corrected = trace - np.mean(trace[0:10000])\n",
    "    bs_corrected = traces_ped_sub[key][c][idx]\n",
    "    #lp_filtered = low_pass_filter(bs_corrected,high_cutoff,fs,order)\n",
    "    lp_filtered = (bs_corrected)\n",
    "    \n",
    "    plt.plot((lp_filtered)*1e6,label=c,color=color_p[c],linestyle=style_p[c])\n",
    "    plt.title(key+', '+det+', event #%d'%(raw_data[key]['PFS1'][idx]['event']['EventNumber']))\n",
    "plt.legend()\n",
    "plt.xlim(15500,17000)\n",
    "#plt.xlim(15000,18000)\n",
    "plt.ylabel('uA')\n",
    "#plt.ylim(-0.02,0.14)\n",
    "plt.show()"
   ]
  },
  {
   "cell_type": "code",
   "execution_count": 33,
   "metadata": {},
   "outputs": [
    {
     "data": {
      "text/plain": [
       "[<matplotlib.lines.Line2D at 0x7ff9677b5d50>]"
      ]
     },
     "execution_count": 33,
     "metadata": {},
     "output_type": "execute_result"
    },
    {
     "data": {
      "image/png": "[encoded data removed]",
      "text/plain": [
       "<Figure size 432x288 with 1 Axes>"
      ]
     },
     "metadata": {
      "needs_background": "light"
     },
     "output_type": "display_data"
    }
   ],
   "source": [
    "plt.plot(data['23231219_184002']['PBS1'][0])"
   ]
  },
  {
   "cell_type": "code",
   "execution_count": 40,
   "metadata": {},
   "outputs": [
    {
     "data": {
      "text/plain": [
       "152887"
      ]
     },
     "execution_count": 40,
     "metadata": {},
     "output_type": "execute_result"
    }
   ],
   "source": [
    "raw_data['23231219_184002']['PBS1'][idx]['event']['EventNumber']"
   ]
  },
  {
   "cell_type": "code",
   "execution_count": 82,
   "metadata": {},
   "outputs": [
    {
     "data": {
      "text/plain": [
       "[<matplotlib.lines.Line2D at 0x7ff9658fbc50>]"
      ]
     },
     "execution_count": 82,
     "metadata": {},
     "output_type": "execute_result"
    },
    {
     "data": {
      "image/png": "[encoded data removed]",
      "text/plain": [
       "<Figure size 432x288 with 1 Axes>"
      ]
     },
     "metadata": {
      "needs_background": "light"
     },
     "output_type": "display_data"
    }
   ],
   "source": [
    "plt.plot(template_ss['23231219_184002']['PT'][2])\n"
   ]
  },
  {
   "cell_type": "code",
   "execution_count": 119,
   "metadata": {},
   "outputs": [
    {
     "data": {
      "image/png": "[encoded data removed]",
      "text/plain": [
       "<Figure size 432x288 with 1 Axes>"
      ]
     },
     "metadata": {
      "needs_background": "light"
     },
     "output_type": "display_data"
    }
   ],
   "source": [
    "idx = 0\n",
    "key = series[0]\n",
    "high_cutoff, fs, order = 1000, 625000, 10\n",
    "plt.figure()\n",
    "c = 'PT'\n",
    "bs_corrected = traces_ped_sub[key][c][idx]\n",
    "lp_filtered = (bs_corrected)\n",
    "temp = template_ss[key][c][idx]\n",
    "plt.plot((lp_filtered)*1e6,label=c,color='black',linestyle='-')\n",
    "plt.plot((temp)*1e6,color='red',linestyle='--',label='Template')\n",
    "plt.title(key+', '+det+', event #%d'%(raw_data[key]['PFS1'][idx]['event']['EventNumber']))\n",
    "\n",
    "plt.legend()\n",
    "plt.xlim(15500,18000)\n",
    "#plt.xlim(15000,18000)\n",
    "plt.ylabel('uA')\n",
    "#plt.ylim(-0.02,0.14)\n",
    "plt.show()"
   ]
  },
  {
   "cell_type": "code",
   "execution_count": 126,
   "metadata": {},
   "outputs": [
    {
     "name": "stdout",
     "output_type": "stream",
     "text": [
      "./plots/traces/Z1/Event0/PT.png\n",
      "./plots/traces/Z1/Event0/PAS1.png\n",
      "./plots/traces/Z1/Event0/PBS1.png\n",
      "./plots/traces/Z1/Event0/PCS1.png\n",
      "./plots/traces/Z1/Event0/PDS1.png\n",
      "./plots/traces/Z1/Event0/PES1.png\n",
      "./plots/traces/Z1/Event0/PFS1.png\n",
      "./plots/traces/Z1/Event0/PAS2.png\n",
      "./plots/traces/Z1/Event0/PBS2.png\n",
      "./plots/traces/Z1/Event0/PCS2.png\n",
      "./plots/traces/Z1/Event0/PDS2.png\n",
      "./plots/traces/Z1/Event0/PES2.png\n",
      "./plots/traces/Z1/Event0/PFS2.png\n",
      "./plots/traces/Z1/Event1/PT.png\n",
      "./plots/traces/Z1/Event1/PAS1.png\n",
      "./plots/traces/Z1/Event1/PBS1.png\n",
      "./plots/traces/Z1/Event1/PCS1.png\n",
      "./plots/traces/Z1/Event1/PDS1.png\n",
      "./plots/traces/Z1/Event1/PES1.png\n",
      "./plots/traces/Z1/Event1/PFS1.png\n",
      "./plots/traces/Z1/Event1/PAS2.png\n",
      "./plots/traces/Z1/Event1/PBS2.png\n",
      "./plots/traces/Z1/Event1/PCS2.png\n",
      "./plots/traces/Z1/Event1/PDS2.png\n",
      "./plots/traces/Z1/Event1/PES2.png\n",
      "./plots/traces/Z1/Event1/PFS2.png\n",
      "./plots/traces/Z1/Event2/PT.png\n",
      "./plots/traces/Z1/Event2/PAS1.png\n",
      "./plots/traces/Z1/Event2/PBS1.png\n",
      "./plots/traces/Z1/Event2/PCS1.png\n",
      "./plots/traces/Z1/Event2/PDS1.png\n",
      "./plots/traces/Z1/Event2/PES1.png\n",
      "./plots/traces/Z1/Event2/PFS1.png\n",
      "./plots/traces/Z1/Event2/PAS2.png\n",
      "./plots/traces/Z1/Event2/PBS2.png\n",
      "./plots/traces/Z1/Event2/PCS2.png\n",
      "./plots/traces/Z1/Event2/PDS2.png\n",
      "./plots/traces/Z1/Event2/PES2.png\n",
      "./plots/traces/Z1/Event2/PFS2.png\n",
      "./plots/traces/Z1/Event3/PT.png\n",
      "./plots/traces/Z1/Event3/PAS1.png\n",
      "./plots/traces/Z1/Event3/PBS1.png\n",
      "./plots/traces/Z1/Event3/PCS1.png\n",
      "./plots/traces/Z1/Event3/PDS1.png\n",
      "./plots/traces/Z1/Event3/PES1.png\n",
      "./plots/traces/Z1/Event3/PFS1.png\n",
      "./plots/traces/Z1/Event3/PAS2.png\n",
      "./plots/traces/Z1/Event3/PBS2.png\n",
      "./plots/traces/Z1/Event3/PCS2.png\n",
      "./plots/traces/Z1/Event3/PDS2.png\n",
      "./plots/traces/Z1/Event3/PES2.png\n",
      "./plots/traces/Z1/Event3/PFS2.png\n",
      "./plots/traces/Z1/Event4/PT.png\n",
      "./plots/traces/Z1/Event4/PAS1.png\n",
      "./plots/traces/Z1/Event4/PBS1.png\n",
      "./plots/traces/Z1/Event4/PCS1.png\n",
      "./plots/traces/Z1/Event4/PDS1.png\n",
      "./plots/traces/Z1/Event4/PES1.png\n",
      "./plots/traces/Z1/Event4/PFS1.png\n",
      "./plots/traces/Z1/Event4/PAS2.png\n",
      "./plots/traces/Z1/Event4/PBS2.png\n",
      "./plots/traces/Z1/Event4/PCS2.png\n",
      "./plots/traces/Z1/Event4/PDS2.png\n",
      "./plots/traces/Z1/Event4/PES2.png\n",
      "./plots/traces/Z1/Event4/PFS2.png\n",
      "./plots/traces/Z1/Event5/PT.png\n",
      "./plots/traces/Z1/Event5/PAS1.png\n",
      "./plots/traces/Z1/Event5/PBS1.png\n",
      "./plots/traces/Z1/Event5/PCS1.png\n",
      "./plots/traces/Z1/Event5/PDS1.png\n",
      "./plots/traces/Z1/Event5/PES1.png\n",
      "./plots/traces/Z1/Event5/PFS1.png\n",
      "./plots/traces/Z1/Event5/PAS2.png\n",
      "./plots/traces/Z1/Event5/PBS2.png\n",
      "./plots/traces/Z1/Event5/PCS2.png\n",
      "./plots/traces/Z1/Event5/PDS2.png\n",
      "./plots/traces/Z1/Event5/PES2.png\n",
      "./plots/traces/Z1/Event5/PFS2.png\n",
      "./plots/traces/Z1/Event6/PT.png\n",
      "./plots/traces/Z1/Event6/PAS1.png\n",
      "./plots/traces/Z1/Event6/PBS1.png\n",
      "./plots/traces/Z1/Event6/PCS1.png\n",
      "./plots/traces/Z1/Event6/PDS1.png\n",
      "./plots/traces/Z1/Event6/PES1.png\n",
      "./plots/traces/Z1/Event6/PFS1.png\n",
      "./plots/traces/Z1/Event6/PAS2.png\n",
      "./plots/traces/Z1/Event6/PBS2.png\n",
      "./plots/traces/Z1/Event6/PCS2.png\n",
      "./plots/traces/Z1/Event6/PDS2.png\n",
      "./plots/traces/Z1/Event6/PES2.png\n",
      "./plots/traces/Z1/Event6/PFS2.png\n",
      "./plots/traces/Z1/Event7/PT.png\n",
      "./plots/traces/Z1/Event7/PAS1.png\n",
      "./plots/traces/Z1/Event7/PBS1.png\n",
      "./plots/traces/Z1/Event7/PCS1.png\n",
      "./plots/traces/Z1/Event7/PDS1.png\n",
      "./plots/traces/Z1/Event7/PES1.png\n",
      "./plots/traces/Z1/Event7/PFS1.png\n",
      "./plots/traces/Z1/Event7/PAS2.png\n",
      "./plots/traces/Z1/Event7/PBS2.png\n",
      "./plots/traces/Z1/Event7/PCS2.png\n",
      "./plots/traces/Z1/Event7/PDS2.png\n",
      "./plots/traces/Z1/Event7/PES2.png\n",
      "./plots/traces/Z1/Event7/PFS2.png\n",
      "./plots/traces/Z1/Event8/PT.png\n",
      "./plots/traces/Z1/Event8/PAS1.png\n",
      "./plots/traces/Z1/Event8/PBS1.png\n",
      "./plots/traces/Z1/Event8/PCS1.png\n",
      "./plots/traces/Z1/Event8/PDS1.png\n",
      "./plots/traces/Z1/Event8/PES1.png\n",
      "./plots/traces/Z1/Event8/PFS1.png\n",
      "./plots/traces/Z1/Event8/PAS2.png\n",
      "./plots/traces/Z1/Event8/PBS2.png\n",
      "./plots/traces/Z1/Event8/PCS2.png\n",
      "./plots/traces/Z1/Event8/PDS2.png\n",
      "./plots/traces/Z1/Event8/PES2.png\n",
      "./plots/traces/Z1/Event8/PFS2.png\n",
      "./plots/traces/Z1/Event9/PT.png\n",
      "./plots/traces/Z1/Event9/PAS1.png\n",
      "./plots/traces/Z1/Event9/PBS1.png\n",
      "./plots/traces/Z1/Event9/PCS1.png\n",
      "./plots/traces/Z1/Event9/PDS1.png\n",
      "./plots/traces/Z1/Event9/PES1.png\n",
      "./plots/traces/Z1/Event9/PFS1.png\n",
      "./plots/traces/Z1/Event9/PAS2.png\n",
      "./plots/traces/Z1/Event9/PBS2.png\n",
      "./plots/traces/Z1/Event9/PCS2.png\n",
      "./plots/traces/Z1/Event9/PDS2.png\n",
      "./plots/traces/Z1/Event9/PES2.png\n",
      "./plots/traces/Z1/Event9/PFS2.png\n"
     ]
    }
   ],
   "source": [
    "'''\n",
    "    Save tra\n",
    "'''\n",
    "key = series[0]\n",
    "save=True\n",
    "for idx in range(len(event_numbers)):\n",
    "    for c in channels:\n",
    "        if(det=='Z3' and c == 'PAS1'):\n",
    "            continue\n",
    "        #plt.ioff()\n",
    "        plt.figure()\n",
    "        \n",
    "        bs_corrected = traces_ped_sub[key][c][idx]\n",
    "        lp_filtered = (bs_corrected)\n",
    "        temp = template_ss[key][c][idx]\n",
    "        plt.plot((lp_filtered)*1e6,label=c,color='black',linestyle='-')\n",
    "        plt.plot((temp)*1e6,color='red',linestyle='--',label='Template')\n",
    "        plt.title(key+', '+det+', event #%d'%(raw_data[key]['PFS1'][idx]['event']['EventNumber']))\n",
    "\n",
    "        plt.legend()\n",
    "        plt.xlim(15500,18000)\n",
    "        plt.ylabel('uA')\n",
    "        #plt.show()\n",
    "        savename = './plots/traces/%s/Event%d/%s.png'%(det,idx,c)\n",
    "        if(save):\n",
    "            plt.savefig(savename)\n",
    "            print(savename)\n",
    "        plt.close()\n",
    "        \n"
   ]
  },
  {
   "cell_type": "code",
   "execution_count": null,
   "metadata": {},
   "outputs": [],
   "source": []
  }
 ],
 "metadata": {
  "kernelspec": {
   "display_name": "Python 3 (ipykernel)",
   "language": "python",
   "name": "python3"
  },
  "language_info": {
   "codemirror_mode": {
    "name": "ipython",
    "version": 3
   },
   "file_extension": ".py",
   "mimetype": "text/x-python",
   "name": "python",
   "nbconvert_exporter": "python",
   "pygments_lexer": "ipython3",
   "version": "3.8.10"
  }
 },
 "nbformat": 4,
 "nbformat_minor": 4
}
