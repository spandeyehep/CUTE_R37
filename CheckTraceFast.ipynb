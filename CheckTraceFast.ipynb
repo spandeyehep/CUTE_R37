{
 "cells": [
  {
   "cell_type": "code",
   "execution_count": 1,
   "metadata": {},
   "outputs": [
    {
     "name": "stderr",
     "output_type": "stream",
     "text": [
      "/cvmfs/cdms.opensciencegrid.org/releases/centos7/V04-00/lib/python3.7/site-packages/datacat/model.py:2: DeprecationWarning: Using or importing the ABCs from 'collections' instead of from 'collections.abc' is deprecated since Python 3.3,and in 3.9 it will stop working\n",
      "  from collections import OrderedDict, MutableMapping\n"
     ]
    },
    {
     "name": "stdout",
     "output_type": "stream",
     "text": [
      "Welcome to JupyROOT 6.22/00\n"
     ]
    }
   ],
   "source": [
    "import uproot\n",
    "import numpy as np\n",
    "import matplotlib.pyplot as plt\n",
    "from qetpy.utils import lowpassfilter \n",
    "from qetpy import autocuts\n",
    "import cdms\n",
    "#from CDMSDataCatalog import CDMSDataCatalog\n",
    "import scipy.optimize as optimize\n",
    "import matplotlib as mpl\n",
    "import pickle as pkl\n",
    "import os, sys\n",
    "import ROOT as rt"
   ]
  },
  {
   "cell_type": "code",
   "execution_count": 9,
   "metadata": {},
   "outputs": [],
   "source": [
    "Rshunt = 5.0e-3 # shunt resistance\n",
    "Rfb = 5000.0 # feedback resistance\n",
    "ADCperVolt = 65536.0/8.0 # the number of ADC bins per V for the readout\n",
    "LoopRatio = 2.4 # SQUID turn ratio \n",
    "low_pass_filter = False\n",
    "high_cutoff, fs, order = 100000, 625000, 2\n",
    "trace_length = 1.6 # uS\n",
    "bins = 32768\n",
    "series = {\n",
    "    'latest' : '23240122_150110'\n",
    "}\n",
    "channels=['PT','PAS1','PBS1','PCS1','PDS1','PES1','PFS1','PAS2','PBS2','PCS2','PDS2','PES2','PFS2']\n",
    "rawfilepath='/sdf/group/supercdms/data/CDMS/CUTE/R37/Raw/'\n",
    "filePath = '/sdf/group/supercdms/data/CDMS/CUTE/R37/Raw/23240122_150110/23240122_150110_F0003.mid.gz'"
   ]
  },
  {
   "cell_type": "code",
   "execution_count": 6,
   "metadata": {},
   "outputs": [
    {
     "name": "stdout",
     "output_type": "stream",
     "text": [
      "Input path is not a directory!\n"
     ]
    }
   ],
   "source": []
  },
  {
   "cell_type": "code",
   "execution_count": 4,
   "metadata": {},
   "outputs": [],
   "source": []
  },
  {
   "cell_type": "code",
   "execution_count": 8,
   "metadata": {},
   "outputs": [
    {
     "name": "stdout",
     "output_type": "stream",
     "text": [
      "The file is: /sdf/group/supercdms/data/CDMS/CUTE/R37/Raw//23240122_150110/23240122_150110_F0001.mid.gz\n",
      "\n",
      "Opened raw midas file: /sdf/group/supercdms/data/CDMS/CUTE/R37/Raw//23240122_150110/23240122_150110_F0001.mid.gz\n",
      "INFO in DetectorConfigData: list of available detectors = 2\n"
     ]
    }
   ],
   "source": [
    "#Load detector settings\n",
    "dsettings={}\n",
    "for i,key in enumerate(series.keys()):\n",
    "    dsettings[series[key]]=cdms.rawio.IO.getDetectorSettings(rawfilepath,series[key])"
   ]
  },
  {
   "cell_type": "code",
   "execution_count": 13,
   "metadata": {},
   "outputs": [
    {
     "name": "stdout",
     "output_type": "stream",
     "text": [
      "No pickle file available. Loading traces... \n"
     ]
    },
    {
     "ename": "TypeError",
     "evalue": "getRawEvents() missing 1 required positional argument: 'files_series'",
     "output_type": "error",
     "traceback": [
      "\u001b[0;31m---------------------------------------------------------------------------\u001b[0m",
      "\u001b[0;31mTypeError\u001b[0m                                 Traceback (most recent call last)",
      "\u001b[0;32m<ipython-input-13-d8467eb2de09>\u001b[0m in \u001b[0;36m<module>\u001b[0;34m\u001b[0m\n\u001b[1;32m     30\u001b[0m \u001b[0;31m#                                                    channelList=[c], detectorList=[2])\u001b[0m\u001b[0;34m\u001b[0m\u001b[0;34m\u001b[0m\u001b[0;34m\u001b[0m\u001b[0m\n\u001b[1;32m     31\u001b[0m             t_rd[c] = cdms.rawio.IO.getRawEvents(filePath,outputFormat = 2, maxNumEvents=15, \n\u001b[0;32m---> 32\u001b[0;31m                                                    channelList=[c], detectorList=[2])\n\u001b[0m\u001b[1;32m     33\u001b[0m             \u001b[0mpkl\u001b[0m\u001b[0;34m.\u001b[0m\u001b[0mdump\u001b[0m\u001b[0;34m(\u001b[0m\u001b[0mt_rd\u001b[0m\u001b[0;34m[\u001b[0m\u001b[0mc\u001b[0m\u001b[0;34m]\u001b[0m\u001b[0;34m,\u001b[0m \u001b[0mopen\u001b[0m\u001b[0;34m(\u001b[0m\u001b[0;34m'./rawdata/%s_%s_selected_events.pkl'\u001b[0m\u001b[0;34m%\u001b[0m\u001b[0;34m(\u001b[0m\u001b[0mseries\u001b[0m\u001b[0;34m[\u001b[0m\u001b[0mkey\u001b[0m\u001b[0;34m]\u001b[0m\u001b[0;34m,\u001b[0m\u001b[0mc\u001b[0m\u001b[0;34m)\u001b[0m\u001b[0;34m,\u001b[0m \u001b[0;34m\"wb\"\u001b[0m\u001b[0;34m)\u001b[0m\u001b[0;34m)\u001b[0m\u001b[0;34m\u001b[0m\u001b[0;34m\u001b[0m\u001b[0m\n\u001b[1;32m     34\u001b[0m             \u001b[0mprint\u001b[0m\u001b[0;34m(\u001b[0m\u001b[0;34m'pkl file loaded for %s'\u001b[0m\u001b[0;34m%\u001b[0m\u001b[0;34m(\u001b[0m\u001b[0mc\u001b[0m\u001b[0;34m)\u001b[0m\u001b[0;34m)\u001b[0m\u001b[0;34m\u001b[0m\u001b[0;34m\u001b[0m\u001b[0m\n",
      "\u001b[0;31mTypeError\u001b[0m: getRawEvents() missing 1 required positional argument: 'files_series'"
     ]
    }
   ],
   "source": [
    "\n",
    "#c = 'PAS2'\n",
    "data = {}\n",
    "raw_data = {}\n",
    "det = 'Z2'\n",
    "event_number = {}\n",
    "adc2ua = {}\n",
    "for idx, key in enumerate(series.keys()):\n",
    "#     idx = 1\n",
    "#     key = list(series.keys())[idx]\n",
    "#     c = 'PT'\n",
    "#     mask = (TriggerType[idx] == 1) & (OFamps[series[key]][c] > 0.) & (TrigDet[idx] == 2)\n",
    "#     cut = mask & (OFamps[series[key]][c] > 2e-6) & (OFamps[series[key]][c] < 20e-6)\n",
    "    #event_number[c] = EventNumber[0][cut]\n",
    "    t_rd = {}\n",
    "    t_d = {}\n",
    "    \n",
    "    #event_number[key] = EventNumber[idx][cut][:10]\n",
    "    for c in channels:\n",
    "        if(c=='PT'):\n",
    "            continue\n",
    "        #event_number[c] = EventNumber[idx][cut][:10]\n",
    "        if os.path.exists('./rawdata/%s_%s_selected_events.pkl'%(series[key],c)):\n",
    "            t_rd[c] = pkl.load(open('./rawdata/%s_%s_selected_events.pkl'%(series[key],c), \"rb\"))\n",
    "            print('pkl file loaded for %s'%(c))\n",
    "        else:\n",
    "            print('No pickle file available. Loading traces... ')\n",
    "            \n",
    "#             t_rd[c] = cdms.rawio.IO.getRawEvents(rawfilepath,'/'+series[key],outputFormat = 2, eventNumbers=(event_number[key]).astype(int).tolist(), \n",
    "#                                                    channelList=[c], detectorList=[2])\n",
    "            t_rd[c] = cdms.rawio.IO.getRawEvents(filePath,outputFormat = 2, maxNumEvents=15, \n",
    "                                                   channelList=[c], detectorList=[2])\n",
    "            pkl.dump(t_rd[c], open('./rawdata/%s_%s_selected_events.pkl'%(series[key],c), \"wb\"))\n",
    "            print('pkl file loaded for %s'%(c))\n",
    "    raw_data[key] = t_rd\n",
    "    print('Raw traces [ADC] loaded : %d'%(len(raw_data[key])))\n",
    "    print('Now converting into amps...')\n",
    "    t_adc2uA = {}\n",
    "    for c in channels:\n",
    "        if(c=='PT'):\n",
    "            continue\n",
    "        temp = []\n",
    "        DriverGain = dsettings[series[key]][det][c]['driverGain']*4.0 #Apply Driver Gain Correction\n",
    "        conv2Amps = 1/(Rfb*DriverGain*LoopRatio*ADCperVolt) #Convert detector parameters to amplitude for trace\n",
    "        t_adc2uA[c] = conv2Amps\n",
    "        for i in range(len(t_rd[c])):\n",
    "            temp.append(((t_rd[c][i])[det][c])*conv2Amps)\n",
    "        t_d[c] = temp\n",
    "    data[key] = t_d\n",
    "    adc2ua[key] = t_adc2uA\n",
    "    \n",
    "    print('-------- %s : Traces coverted to Amps for channel -------------'%(key))\n",
    "\n"
   ]
  },
  {
   "cell_type": "code",
   "execution_count": 12,
   "metadata": {},
   "outputs": [
    {
     "data": {
      "text/plain": [
       "{'PAS1': None,\n",
       " 'PBS1': None,\n",
       " 'PCS1': None,\n",
       " 'PDS1': None,\n",
       " 'PES1': None,\n",
       " 'PFS1': None,\n",
       " 'PAS2': None,\n",
       " 'PBS2': None,\n",
       " 'PCS2': None,\n",
       " 'PDS2': None,\n",
       " 'PES2': None,\n",
       " 'PFS2': None}"
      ]
     },
     "execution_count": 12,
     "metadata": {},
     "output_type": "execute_result"
    }
   ],
   "source": [
    "raw_data[key]"
   ]
  },
  {
   "cell_type": "code",
   "execution_count": 14,
   "metadata": {},
   "outputs": [
    {
     "ename": "AttributeError",
     "evalue": "module 'rawio.IO' has no attribute 'RawDataReader'",
     "output_type": "error",
     "traceback": [
      "\u001b[0;31m---------------------------------------------------------------------------\u001b[0m",
      "\u001b[0;31mAttributeError\u001b[0m                            Traceback (most recent call last)",
      "\u001b[0;32m<ipython-input-14-56687ddd4024>\u001b[0m in \u001b[0;36m<module>\u001b[0;34m\u001b[0m\n\u001b[0;32m----> 1\u001b[0;31m \u001b[0mmyreader\u001b[0m \u001b[0;34m=\u001b[0m \u001b[0mcdms\u001b[0m\u001b[0;34m.\u001b[0m\u001b[0mrawio\u001b[0m\u001b[0;34m.\u001b[0m\u001b[0mIO\u001b[0m\u001b[0;34m.\u001b[0m\u001b[0mRawDataReader\u001b[0m\u001b[0;34m(\u001b[0m\u001b[0mfilePath\u001b[0m\u001b[0;34m)\u001b[0m\u001b[0;34m\u001b[0m\u001b[0;34m\u001b[0m\u001b[0m\n\u001b[0m",
      "\u001b[0;31mAttributeError\u001b[0m: module 'rawio.IO' has no attribute 'RawDataReader'"
     ]
    }
   ],
   "source": [
    "myreader = cdms.rawio.IO.RawDataReader(filePath)"
   ]
  },
  {
   "cell_type": "code",
   "execution_count": null,
   "metadata": {},
   "outputs": [],
   "source": []
  }
 ],
 "metadata": {
  "kernelspec": {
   "display_name": "CDMS V04-00",
   "language": "python",
   "name": "cdms_v04-00"
  },
  "language_info": {
   "codemirror_mode": {
    "name": "ipython",
    "version": 3
   },
   "file_extension": ".py",
   "mimetype": "text/x-python",
   "name": "python",
   "nbconvert_exporter": "python",
   "pygments_lexer": "ipython3",
   "version": "3.7.6"
  }
 },
 "nbformat": 4,
 "nbformat_minor": 4
}
