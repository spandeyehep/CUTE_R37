{
 "cells": [
  {
   "cell_type": "code",
   "execution_count": 1,
   "metadata": {},
   "outputs": [
    {
     "name": "stdout",
     "output_type": "stream",
     "text": [
      "Loading modules....\n"
     ]
    },
    {
     "name": "stderr",
     "output_type": "stream",
     "text": [
      "<frozen importlib._bootstrap>:219: RuntimeWarning: numpy.ndarray size changed, may indicate binary incompatibility. Expected 80 from C header, got 96 from PyObject\n",
      "/usr/local/lib/python3.8/dist-packages/CDMSDataCatalog/CDMSDataCatalog.py:6: DeprecationWarning: pkg_resources is deprecated as an API. See https://setuptools.pypa.io/en/latest/pkg_resources.html\n",
      "  import pkg_resources\n",
      "/usr/local/lib/python3.8/dist-packages/pkg_resources/__init__.py:2868: DeprecationWarning: Deprecated call to `pkg_resources.declare_namespace('mpl_toolkits')`.\n",
      "Implementing implicit namespace packages (as specified in PEP 420) is preferred to `pkg_resources.declare_namespace`. See https://setuptools.pypa.io/en/latest/references/keywords.html#keyword-namespace-packages\n",
      "  declare_namespace(pkg)\n",
      "/usr/local/lib/python3.8/dist-packages/pkg_resources/__init__.py:2868: DeprecationWarning: Deprecated call to `pkg_resources.declare_namespace('sphinxcontrib')`.\n",
      "Implementing implicit namespace packages (as specified in PEP 420) is preferred to `pkg_resources.declare_namespace`. See https://setuptools.pypa.io/en/latest/references/keywords.html#keyword-namespace-packages\n",
      "  declare_namespace(pkg)\n"
     ]
    },
    {
     "name": "stdout",
     "output_type": "stream",
     "text": [
      "Welcome to JupyROOT 6.24/06\n",
      "modules loaded...\n"
     ]
    }
   ],
   "source": [
    "print('Loading modules....')\n",
    "\n",
    "import os, sys\n",
    "\n",
    "\n",
    "import uproot\n",
    "import numpy as np\n",
    "import matplotlib.pyplot as plt\n",
    "from qetpy.utils import lowpassfilter \n",
    "from qetpy import autocuts\n",
    "import cdms\n",
    "#from CDMSDataCatalog import CDMSDataCatalog\n",
    "import scipy.optimize as optimize\n",
    "import matplotlib as mpl\n",
    "import pickle as pkl\n",
    "import ROOT as rt\n",
    "import seaborn as sns\n",
    "import operator as op\n",
    "import pandas as pd\n",
    "from collections import Counter\n",
    "from tqdm import tqdm\n",
    "print('modules loaded...')"
   ]
  },
  {
   "cell_type": "code",
   "execution_count": 2,
   "metadata": {},
   "outputs": [],
   "source": [
    "dataset = 'v2.1.1'\n",
    "detNum = 1"
   ]
  },
  {
   "cell_type": "code",
   "execution_count": 3,
   "metadata": {},
   "outputs": [
    {
     "name": "stdout",
     "output_type": "stream",
     "text": [
      "23231219_034952  :  /fs/ddn/sdf/group/supercdms/data/CDMS/CUTE/R37/Processed/Tests/CUTE_T3_GeActivation_v2.1.1_V05-00_P0.2./Submerged/CUTE_T3_GeActivation_v2.1.1_V05-00_P0.2._23231219_034952.root\n",
      "23231219_110331  :  /fs/ddn/sdf/group/supercdms/data/CDMS/CUTE/R37/Processed/Tests/CUTE_T3_GeActivation_v2.1.1_V05-00_P0.2./Submerged/CUTE_T3_GeActivation_v2.1.1_V05-00_P0.2._23231219_110331.root\n",
      "23231218_223530  :  /fs/ddn/sdf/group/supercdms/data/CDMS/CUTE/R37/Processed/Tests/CUTE_T3_GeActivation_v2.1.1_V05-00_P0.2./Submerged/CUTE_T3_GeActivation_v2.1.1_V05-00_P0.2._23231218_223530.root\n",
      "23231217_212512  :  /fs/ddn/sdf/group/supercdms/data/CDMS/CUTE/R37/Processed/Tests/CUTE_T3_GeActivation_v2.1.1_V05-00_P0.2./Submerged/CUTE_T3_GeActivation_v2.1.1_V05-00_P0.2._23231217_212512.root\n",
      "Found series =  ['23231219_034952', '23231219_110331', '23231218_223530', '23231217_212512']\n",
      "Number of found series =  4\n"
     ]
    }
   ],
   "source": [
    "prod='CUTE_T3_GeActivation_%s_V05-00_P0.2.'%(dataset)\n",
    "base = '/fs/ddn/sdf/group/supercdms/data/CDMS/CUTE/R37/Processed/Tests/%s/Submerged'%(prod)\n",
    "\n",
    "if(dataset == 'prompt'):\n",
    "    base = '/fs/ddn/sdf/group/supercdms/data/CDMS/CUTE/R37/Processed/Prompt/Prompt_V04-15_P0.2.1/Submerged'\n",
    "    prod = 'Prompt_V04-15_P0.2.1'\n",
    "\n",
    "\n",
    "file_prefix = prod\n",
    "\n",
    "#Only 4 series\n",
    "series = ['23231219_034952','23231219_110331','23231218_223530','23231217_212512']\n",
    "\n",
    "# 11 data series\n",
    "# series = [\n",
    "#     '23231220_012745','23231219_184002','23231219_110331','23231219_034952','23231218_223530',\n",
    "#     '23231218_190035','23231218_152721','23231218_093255','23231217_212512','23231217_171613',\n",
    "#     '23231217_135018'\n",
    "#          ]\n",
    "\n",
    "# 20 data series\n",
    "# series = [\n",
    "#     '23231216_013604', '23231216_043946', '23231216_100125', '23231216_115012', '23231216_145300',\n",
    "#     '23231216_182937', '23231216_194929', '23231216_211119', '23231216_233807', '23231217_135018',\n",
    "#     '23231217_171613', '23231217_212512', '23231218_093255', '23231218_152721', '23231218_190035',\n",
    "#     '23231218_223530', '23231219_034952', '23231219_110331', '23231219_184002', '23231220_012745'\n",
    "# ]\n",
    "\n",
    "filePath = []\n",
    "found_series = []\n",
    "for ser in series:\n",
    "    \n",
    "    fp = '%s/%s_%s.root'%(base,file_prefix,ser)\n",
    "    if(os.path.exists(fp)):\n",
    "        print(ser,' : ',fp)\n",
    "        filePath.append(fp)\n",
    "        found_series.append(ser)\n",
    "    else:\n",
    "        print('not found: ',fp)\n",
    "series = found_series\n",
    "print('Found series = ',series)\n",
    "print('Number of found series = ',len(series))\n"
   ]
  },
  {
   "cell_type": "code",
   "execution_count": 4,
   "metadata": {},
   "outputs": [
    {
     "name": "stdout",
     "output_type": "stream",
     "text": [
      "Loading RQ and Event Tree...\n",
      "done..\n",
      "Loading OF spefic data....\n",
      "23231219_034952 loaded\n",
      "23231219_110331 loaded\n",
      "23231218_223530 loaded\n",
      "23231217_212512 loaded\n",
      "done!\n",
      " Loading Event specific data....\n",
      "23231219_034952 loaded\n",
      "23231219_110331 loaded\n",
      "23231218_223530 loaded\n",
      "23231217_212512 loaded\n",
      "Done!\n"
     ]
    }
   ],
   "source": [
    "print('Loading RQ and Event Tree...')\n",
    "RQ=[]\n",
    "for i,ser in enumerate(series):\n",
    "    RQ.append(uproot.open(filePath[i])['rqDir/zip%d'%(detNum)]) \n",
    "\n",
    "eventTree=[]\n",
    "for i,ser in enumerate(series):\n",
    "    eventTree.append(uproot.open(filePath[i])['rqDir/eventTree']) \n",
    "\n",
    "print('done..')\n",
    "\n",
    "\n",
    "print('Loading OF spefic data....')\n",
    "#Load RQs from processed files\n",
    "channels=['PT','PAS1','PBS1','PCS1','PDS1','PES1','PFS1','PAS2','PBS2','PCS2','PDS2','PES2','PFS2']\n",
    "\n",
    "OFchiq={}\n",
    "OFamps={}\n",
    "OFdelay={}\n",
    "OFamps0={}\n",
    "OFnorms={}\n",
    "OFbs={}\n",
    "\n",
    "for i,key in enumerate(series):\n",
    "    tc={}\n",
    "    ta={}\n",
    "    td={}\n",
    "    ta0={}\n",
    "    tn = {}\n",
    "    tbs = {}\n",
    "    for c in channels:\n",
    "        if(detNum == '3' and c == 'PAS1'):\n",
    "            print('\\tSkipping Z3-PAS1...')\n",
    "            continue\n",
    "        tc[c]=(RQ[i][c+\"OFchisq\"].array(library='np'))\n",
    "        ta[c]=(RQ[i][c+\"OFamps\"].array(library='np'))\n",
    "        ta0[c]=(RQ[i][c+\"OFamps0\"].array(library='np'))\n",
    "        td[c]=(RQ[i][c+\"OFdelay\"].array(library='np'))\n",
    "        \n",
    "        if(c!='PT'):\n",
    "            tn[c] = (RQ[i][c+\"norm\"].array(library='np'))\n",
    "            tbs[c] = (RQ[i][c+\"bs\"].array(library='np'))\n",
    "\n",
    "            \n",
    "    OFchiq[key]=tc\n",
    "    OFamps[key]=ta\n",
    "    OFamps0[key]=ta0\n",
    "    OFdelay[key]=td\n",
    "    OFnorms[key]=tn\n",
    "    OFbs[key]=tbs\n",
    "    print('%s loaded'%(key))\n",
    "    \n",
    "print('done!')\n",
    "\n",
    "print(' Loading Event specific data....')\n",
    "\n",
    "\n",
    "TriggerTime=[]\n",
    "TriggerType=[]\n",
    "EventNumber=[]\n",
    "TrigDet=[]\n",
    "TriggerMask=[]\n",
    "EventTime=[]\n",
    "\n",
    "R2 = {} # Radial parameter for S2\n",
    "R1 = {} # Radial parameter for S1\n",
    "amp_diff = {}  \n",
    "amp_diff_abs = {}\n",
    "for i,key in enumerate(series):\n",
    "    TriggerTime.append(eventTree[i][\"TriggerTime\"].array())\n",
    "    TriggerType.append(eventTree[i][\"TriggerType\"].array())\n",
    "    EventNumber.append(eventTree[i][\"EventNumber\"].array())\n",
    "    TrigDet.append(eventTree[i][\"TriggerDetectorNum\"].array())\n",
    "    TriggerMask.append(eventTree[i][\"TriggerMask\"].array())\n",
    "    EventTime.append(eventTree[i][\"EventTime\"].array())\n",
    "    \n",
    "    R2[key] = OFdelay[key]['PFS2'] - OFdelay[key]['PAS2']\n",
    "    R1[key] = OFdelay[key]['PFS1'] - OFdelay[key]['PAS1']\n",
    "    amp_diff[key] = (OFamps[key]['PFS2'] - OFamps[key]['PAS2'])/(OFamps[key]['PFS2'] + OFamps[key]['PAS2'])\n",
    "    amp_diff_abs[key] = (OFamps[key]['PFS2'] - OFamps[key]['PAS2'])\n",
    "    print('%s loaded'%(key))\n",
    "\n",
    "print('Done!')"
   ]
  },
  {
   "cell_type": "code",
   "execution_count": 5,
   "metadata": {},
   "outputs": [
    {
     "name": "stdout",
     "output_type": "stream",
     "text": [
      "PAS1 loaded..: 143\n",
      "PBS1 loaded..: 143\n",
      "PCS1 loaded..: 143\n",
      "PDS1 loaded..: 143\n",
      "PES1 loaded..: 143\n",
      "PFS1 loaded..: 143\n",
      "PAS2 loaded..: 143\n",
      "PBS2 loaded..: 143\n",
      "PCS2 loaded..: 143\n",
      "PDS2 loaded..: 143\n",
      "PES2 loaded..: 143\n",
      "PFS2 loaded..: 143\n"
     ]
    }
   ],
   "source": [
    "chan = 'PT'\n",
    "amps = {}\n",
    "\n",
    "for c in channels:\n",
    "    if(c == 'PT'):\n",
    "        continue\n",
    "    temp = []\n",
    "    for idx, key in enumerate(series):\n",
    "        mask = (TriggerType[idx] == 1) & (TrigDet[idx] == detNum) & (OFamps[key][chan] > 3e-6) & (OFamps[key][chan] < 4.2e-6) & (OFchiq[key][chan] < 5e5) & (abs(OFdelay[key][chan])*1e3 < 20)\n",
    "        temp = np.append(temp, OFamps[key][c][mask])\n",
    "        #print(series,' : ',EventNumber[idx][mask])\n",
    "    amps[c] = temp\n",
    "    print('%s loaded..: %d'%(c, len(amps[c])))\n",
    "\n"
   ]
  },
  {
   "cell_type": "code",
   "execution_count": 6,
   "metadata": {},
   "outputs": [
    {
     "name": "stdout",
     "output_type": "stream",
     "text": [
      "0 : 0.6 done\n",
      "1 : 0.8 done\n",
      "2 : 1.0 done\n",
      "3 : 1.2 done\n",
      "4 : 1.4 done\n",
      "all Done\n"
     ]
    }
   ],
   "source": [
    "chan = 'PT'\n",
    "hists1 = []\n",
    "hists2 = []\n",
    "low = 0.6\n",
    "high = 1.6\n",
    "step = 0.2\n",
    "\n",
    "for j1, i1 in (enumerate(np.arange(low,high,step))):\n",
    "    a = i1\n",
    "    for j2, i2 in enumerate(np.arange(low,high,step)):\n",
    "        b = i2\n",
    "        for j3, i3 in enumerate(np.arange(low,high,step)):\n",
    "            c = i3\n",
    "            for j4, i4 in enumerate(np.arange(low,high,step)):\n",
    "                d = i4\n",
    "                for j5, i5 in enumerate(np.arange(low,high,step)):\n",
    "                    e = i5\n",
    "                    for j6, i6 in enumerate(np.arange(low,high,step)):\n",
    "                        f = i6\n",
    "                        hname = 'h_S1_a%02d_b%02d_c%02d_d%02d_e%02d_f%02d'%(j1, j2, j3, j4, j5, j6)\n",
    "                        temp1 = rt.TH1F(hname, hname, 200, 1.0, 4.5)\n",
    "                        hname = 'h_S2_a%02d_b%02d_c%02d_d%02d_e%02d_f%02d'%(j1, j2, j3, j4, j5, j6)\n",
    "                        temp2 = rt.TH1F(hname, hname, 200, 1.0, 4.5)\n",
    "                        for i in range(len(amps['PAS1'])):\n",
    "                            s = a*amps['PAS1'][i] + b*amps['PBS1'][i] + c*amps['PCS1'][i] + d*amps['PDS1'][i] + e*amps['PES1'][i] + f*amps['PFS1'][i]\n",
    "                            temp1.Fill(s*1e6)\n",
    "                            s = a*amps['PAS2'][i] + b*amps['PBS2'][i] + c*amps['PCS2'][i] + d*amps['PDS2'][i] + e*amps['PES2'][i] + f*amps['PFS2'][i]\n",
    "                            temp2.Fill(s*1e6)\n",
    "                        hists1.append(temp1)\n",
    "                        hists2.append(temp2)\n",
    "    print('%d : %0.1f done'%(j1, i1))\n",
    "print('all Done')"
   ]
  },
  {
   "cell_type": "code",
   "execution_count": 7,
   "metadata": {},
   "outputs": [
    {
     "data": {
      "image/png": "[encoded data removed]",
      "text/plain": [
       "<IPython.core.display.Image object>"
      ]
     },
     "metadata": {},
     "output_type": "display_data"
    }
   ],
   "source": [
    "res1 = []\n",
    "can = rt.TCanvas()\n",
    "gr = rt.TGraph()\n",
    "gr.GetXaxis().SetTitle('Combination Index')\n",
    "gr.GetYaxis().SetTitle('Relative resolution')\n",
    "for i, h in enumerate(hists1):\n",
    "    if(h.GetMean() == 0 or h.GetRMS() == 0 or h.GetBinContent(0) > 0.):\n",
    "        reso_ = 999\n",
    "    else:\n",
    "        reso_ = h.GetRMS()/h.GetMean()\n",
    "        \n",
    "    res1.append(reso_)\n",
    "    gr.AddPoint(i, reso_)\n",
    "\n",
    "\n",
    "gr.Draw('AP*')\n",
    "gr.SetTitle('Side 1')\n",
    "gr.GetYaxis().SetRangeUser(0., 0.2)\n",
    "#gr.GetXaxis().SetRangeUser(7700, 7720)\n",
    "#7711\n",
    "\n",
    "can.Draw()\n"
   ]
  },
  {
   "cell_type": "code",
   "execution_count": 8,
   "metadata": {},
   "outputs": [
    {
     "data": {
      "image/png": "[encoded data removed]",
      "text/plain": [
       "<IPython.core.display.Image object>"
      ]
     },
     "metadata": {},
     "output_type": "display_data"
    }
   ],
   "source": [
    "res2 = []\n",
    "can = rt.TCanvas()\n",
    "gr = rt.TGraph()\n",
    "gr.GetXaxis().SetTitle('Combination Index')\n",
    "gr.GetYaxis().SetTitle('Relative resolution')\n",
    "for i, h in enumerate(hists2):\n",
    "    if(h.GetMean() == 0 or h.GetRMS() == 0 or h.GetBinContent(0) > 0.):\n",
    "        reso_ = 999\n",
    "    else:\n",
    "        reso_ = h.GetRMS()/h.GetMean()\n",
    "        \n",
    "    res2.append(reso_)\n",
    "    gr.AddPoint(i, reso_)\n",
    "\n",
    "\n",
    "gr.Draw('Ap*')\n",
    "gr.SetTitle('Side 2')\n",
    "gr.GetYaxis().SetRangeUser(0., 0.2)\n",
    "\n",
    "\n",
    "can.Draw()"
   ]
  },
  {
   "cell_type": "code",
   "execution_count": 9,
   "metadata": {
    "editable": true,
    "slideshow": {
     "slide_type": ""
    },
    "tags": []
   },
   "outputs": [
    {
     "name": "stdout",
     "output_type": "stream",
     "text": [
      "Best for side 1 =  h_S1_a02_b03_c01_d04_e02_f01\n",
      "index S1 =  8361\n",
      "Best for side 2 =  h_S2_a03_b04_c00_d04_e02_f02\n",
      "index S2 =  11987\n"
     ]
    }
   ],
   "source": [
    "best = np.argmin(res1)\n",
    "print('Best for side 1 = ',hists1[best].GetName())\n",
    "print('index S1 = ',best)\n",
    "best = np.argmin(res2)\n",
    "print('Best for side 2 = ',hists2[best].GetName())\n",
    "print('index S2 = ',best)"
   ]
  },
  {
   "cell_type": "code",
   "execution_count": 10,
   "metadata": {},
   "outputs": [
    {
     "name": "stdout",
     "output_type": "stream",
     "text": [
      "0.04759100704605132\n",
      "overflow:  0.0\n",
      "underflow:  0.0\n"
     ]
    },
    {
     "data": {
      "image/png": "[encoded data removed]",
      "text/plain": [
       "<IPython.core.display.Image object>"
      ]
     },
     "metadata": {},
     "output_type": "display_data"
    }
   ],
   "source": [
    "n = 8361\n",
    "can = rt.TCanvas()\n",
    "h = hists1[n]\n",
    "h.Draw()\n",
    "print(h.GetRMS()/h.GetMean())\n",
    "nbins = h.GetNbinsX()\n",
    "print('overflow: ',h.GetBinContent(nbins+1))\n",
    "print('underflow: ',h.GetBinContent(0))\n",
    "can.Draw()"
   ]
  },
  {
   "cell_type": "code",
   "execution_count": 11,
   "metadata": {},
   "outputs": [
    {
     "name": "stdout",
     "output_type": "stream",
     "text": [
      "0.03856528468297429\n",
      "overflow:  0.0\n",
      "underflow:  0.0\n"
     ]
    },
    {
     "data": {
      "image/png": "[encoded data removed]",
      "text/plain": [
       "<IPython.core.display.Image object>"
      ]
     },
     "metadata": {},
     "output_type": "display_data"
    }
   ],
   "source": [
    "n = 11987\n",
    "can = rt.TCanvas()\n",
    "h = hists2[n]\n",
    "h.Draw()\n",
    "print(h.GetRMS()/h.GetMean())\n",
    "nbins = h.GetNbinsX()\n",
    "print('overflow: ',h.GetBinContent(nbins+1))\n",
    "print('underflow: ',h.GetBinContent(0))\n",
    "can.Draw()"
   ]
  },
  {
   "cell_type": "code",
   "execution_count": 13,
   "metadata": {},
   "outputs": [
    {
     "name": "stdout",
     "output_type": "stream",
     "text": [
      "0 : 0.6\n",
      "1 : 0.8\n",
      "2 : 1.0\n",
      "3 : 1.2\n",
      "4 : 1.4\n"
     ]
    }
   ],
   "source": [
    "low = 0.6\n",
    "high = 1.6\n",
    "step = 0.2\n",
    "\n",
    "for j1, i1 in enumerate(np.arange(low,high,step)):\n",
    "    print('%d : %0.1f'%(j1, i1))\n"
   ]
  },
  {
   "cell_type": "code",
   "execution_count": 14,
   "metadata": {
    "editable": true,
    "slideshow": {
     "slide_type": ""
    },
    "tags": []
   },
   "outputs": [],
   "source": [
    "calib = {}\n",
    "calib['PAS1'] = 1.0\n",
    "calib['PBS1'] = 1.2\n",
    "calib['PCS1'] = 0.8\n",
    "calib['PDS1'] = 1.4\n",
    "calib['PES1'] = 1.0\n",
    "calib['PFS1'] = 0.8\n",
    "\n",
    "calib['PAS2'] = 1.2\n",
    "calib['PBS2'] = 1.4\n",
    "calib['PCS2'] = 0.6\n",
    "calib['PDS2'] = 1.4\n",
    "calib['PES2'] = 1.0\n",
    "calib['PFS2'] = 1.0\n",
    "reweight = 0.6"
   ]
  },
  {
   "cell_type": "code",
   "execution_count": 15,
   "metadata": {},
   "outputs": [],
   "source": [
    "low = 0.1\n",
    "high = 1.5\n",
    "step = 0.1\n",
    "hists_all = []\n",
    "for j1, i1 in enumerate(np.arange(low,high,step)):\n",
    "    hname = 'h_both_%0d'%(j1)\n",
    "    temp1 = rt.TH1F(hname, hname, 200, 1.0, 6.0)\n",
    "    for i in range(len(amps['PAS1'])):\n",
    "        s1 = calib['PAS1']*amps['PAS1'][i] + calib['PBS1']*amps['PBS1'][i] + calib['PCS1']*amps['PCS1'][i] + calib['PDS1']*amps['PDS1'][i] + calib['PES1']*amps['PES1'][i] + calib['PFS1']*amps['PFS1'][i]\n",
    "        s2 = calib['PAS2']*amps['PAS2'][i] + calib['PBS2']*amps['PBS2'][i] + calib['PCS2']*amps['PCS2'][i] + calib['PDS2']*amps['PDS2'][i] + calib['PES2']*amps['PES2'][i] + calib['PFS2']*amps['PFS2'][i]\n",
    "        s1 = s1*i1\n",
    "        temp1.Fill((s1+s2)*1e6)\n",
    "    hists_all.append(temp1)\n"
   ]
  },
  {
   "cell_type": "code",
   "execution_count": 16,
   "metadata": {},
   "outputs": [
    {
     "data": {
      "image/png": "[encoded data removed]",
      "text/plain": [
       "<IPython.core.display.Image object>"
      ]
     },
     "metadata": {},
     "output_type": "display_data"
    }
   ],
   "source": [
    "res_all = []\n",
    "can = rt.TCanvas()\n",
    "gr = rt.TGraph()\n",
    "gr.GetXaxis().SetTitle('Index')\n",
    "gr.GetYaxis().SetTitle('Relative resolution')\n",
    "for i, h in enumerate(hists_all):\n",
    "    if(h.GetMean() == 0 or h.GetRMS() == 0 or h.GetBinContent(0) > 5.):\n",
    "        reso_ = 999\n",
    "    else:\n",
    "        reso_ = h.GetRMS()/h.GetMean()\n",
    "        \n",
    "    res_all.append(reso_)\n",
    "    gr.AddPoint(i, reso_)\n",
    "\n",
    "\n",
    "gr.Draw('AP*')\n",
    "gr.SetTitle('Side 1 + Side 2')\n",
    "#gr.GetYaxis().SetRangeUser(0.033, 0.037)\n",
    "#gr.GetXaxis().SetRangeUser(0, 4)\n",
    "can.Draw()"
   ]
  },
  {
   "cell_type": "code",
   "execution_count": 17,
   "metadata": {},
   "outputs": [
    {
     "name": "stdout",
     "output_type": "stream",
     "text": [
      "Best for side 1 =  h_both_5\n",
      "index S1 =  5\n"
     ]
    }
   ],
   "source": [
    "best = np.argmin(res_all)\n",
    "print('Best for side 1 = ',hists_all[best].GetName())\n",
    "print('index S1 = ',best)"
   ]
  },
  {
   "cell_type": "code",
   "execution_count": 18,
   "metadata": {},
   "outputs": [
    {
     "name": "stdout",
     "output_type": "stream",
     "text": [
      "0 : 0.1\n",
      "1 : 0.2\n",
      "2 : 0.3\n",
      "3 : 0.4\n",
      "4 : 0.5\n",
      "5 : 0.6\n",
      "6 : 0.7\n",
      "7 : 0.8\n",
      "8 : 0.9\n",
      "9 : 1.0\n",
      "10 : 1.1\n",
      "11 : 1.2\n",
      "12 : 1.3\n",
      "13 : 1.4\n"
     ]
    }
   ],
   "source": [
    "low = 0.1\n",
    "high = 1.5\n",
    "step = 0.1\n",
    "\n",
    "for j1, i1 in enumerate(np.arange(low,high,step)):\n",
    "    print('%d : %0.1f'%(j1, i1))"
   ]
  },
  {
   "cell_type": "code",
   "execution_count": 19,
   "metadata": {},
   "outputs": [
    {
     "name": "stdout",
     "output_type": "stream",
     "text": [
      "0.03270304733313565\n",
      "overflow:  0.0\n",
      "underflow:  0.0\n"
     ]
    },
    {
     "data": {
      "image/png": "[encoded data removed]",
      "text/plain": [
       "<IPython.core.display.Image object>"
      ]
     },
     "metadata": {},
     "output_type": "display_data"
    }
   ],
   "source": [
    "n = 5\n",
    "can = rt.TCanvas()\n",
    "h = hists_all[n]\n",
    "h.Draw()\n",
    "print(h.GetRMS()/h.GetMean())\n",
    "nbins = h.GetNbinsX()\n",
    "print('overflow: ',h.GetBinContent(nbins+1))\n",
    "print('underflow: ',h.GetBinContent(0))\n",
    "can.Draw()"
   ]
  },
  {
   "cell_type": "code",
   "execution_count": 39,
   "metadata": {},
   "outputs": [],
   "source": [
    "filename = 'check_calib_S2.root'\n",
    "outfile = rt.TFile.Open(filename,'recreate')\n",
    "outfile.cd()\n",
    "for h in hists:\n",
    "    h.Write()\n",
    "    \n",
    "outfile.Write()\n",
    "outfile.Close()"
   ]
  },
  {
   "cell_type": "code",
   "execution_count": null,
   "metadata": {},
   "outputs": [],
   "source": []
  },
  {
   "cell_type": "code",
   "execution_count": 23,
   "metadata": {
    "editable": true,
    "slideshow": {
     "slide_type": ""
    },
    "tags": []
   },
   "outputs": [
    {
     "name": "stdout",
     "output_type": "stream",
     "text": [
      "sum before normalization =  6.299999999999999\n",
      "normalization factor =  1.904761904761905\n",
      "calib['PAS1'] = 0.7619\n",
      "calib['PBS1'] = 0.7619\n",
      "calib['PCS1'] = 0.5714\n",
      "calib['PDS1'] = 0.9524\n",
      "calib['PES1'] = 0.7619\n",
      "calib['PFS1'] = 0.5714\n",
      "calib['PAS2'] = 1.5238\n",
      "calib['PBS2'] = 1.5238\n",
      "calib['PCS2'] = 0.7619\n",
      "calib['PDS2'] = 1.5238\n",
      "calib['PES2'] = 1.1429\n",
      "calib['PFS2'] = 1.1429\n",
      "after remorm =  12.0\n"
     ]
    }
   ],
   "source": [
    "### original ###\n",
    "\n",
    "calib_official = {\n",
    "    'PAS1' : 1.1849,\n",
    "    'PBS1' : 0.9570,\n",
    "    'PCS1' : 0.9115,\n",
    "    'PDS1' : 1.0482,\n",
    "    'PES1' : 0.8659,\n",
    "    'PFS1' : 0.7292,\n",
    "    'PAS2' : 1.2351,\n",
    "    'PBS2' : 1.0477,\n",
    "    'PCS2' : 0.8518,\n",
    "    'PDS2' : 1.2948,\n",
    "    'PES2' : 1.0222,\n",
    "    'PFS2' : 0.8518\n",
    "}\n",
    "\n",
    "\n",
    "\n",
    "calib = {\n",
    "    \n",
    "}\n",
    "reweight = 1.06\n",
    "\n",
    "\n",
    "calib['PAS1'] = 0.8\n",
    "calib['PBS1'] = 0.8\n",
    "calib['PCS1'] = 0.6\n",
    "calib['PDS1'] = 1.0\n",
    "calib['PES1'] = 0.8\n",
    "calib['PFS1'] = 0.6\n",
    "\n",
    "calib['PAS2'] = 0.8\n",
    "calib['PBS2'] = 0.8\n",
    "calib['PCS2'] = 0.4\n",
    "calib['PDS2'] = 0.8\n",
    "calib['PES2'] = 0.6\n",
    "calib['PFS2'] = 0.6\n",
    "reweight = 0.5\n",
    "\n",
    "channels=['PAS1','PBS1','PCS1','PDS1','PES1','PFS1','PAS2','PBS2','PCS2','PDS2','PES2','PFS2']\n",
    "\n",
    "calib_final = {}\n",
    "sum_ = 0.0\n",
    "for c in channels:\n",
    "    factor = 1.0\n",
    "    if('S1' in c):\n",
    "        factor = reweight\n",
    "    calib_final[c] =  1.0 * calib[c] * factor\n",
    "    sum_ += calib_final[c]\n",
    "check = 0.0\n",
    "\n",
    "print('sum before normalization = ',sum_)\n",
    "print('normalization factor = ',(12.0/sum_))\n",
    "\n",
    "for c in channels:\n",
    "    norm = 12.0/sum_\n",
    "    check += norm*calib_final[c]\n",
    "    print(\"calib['%s'] = %0.4f\"%(c,calib_final[c]*norm))\n",
    "    name=c[1].lower() + c[3]\n",
    "    #print('%s = %0.4f'%(name,calib_final[c]*norm))\n",
    "print('after remorm = ',check)"
   ]
  },
  {
   "cell_type": "code",
   "execution_count": null,
   "metadata": {
    "editable": true,
    "slideshow": {
     "slide_type": ""
    },
    "tags": []
   },
   "outputs": [],
   "source": []
  }
 ],
 "metadata": {
  "kernelspec": {
   "display_name": "Python 3 (ipykernel)",
   "language": "python",
   "name": "python3"
  },
  "language_info": {
   "codemirror_mode": {
    "name": "ipython",
    "version": 3
   },
   "file_extension": ".py",
   "mimetype": "text/x-python",
   "name": "python",
   "nbconvert_exporter": "python",
   "pygments_lexer": "ipython3",
   "version": "3.8.10"
  }
 },
 "nbformat": 4,
 "nbformat_minor": 4
}
