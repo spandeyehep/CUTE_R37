{
 "cells": [
  {
   "cell_type": "code",
   "execution_count": 1,
   "metadata": {},
   "outputs": [
    {
     "name": "stdout",
     "output_type": "stream",
     "text": [
      "Loading modules....\n"
     ]
    },
    {
     "name": "stderr",
     "output_type": "stream",
     "text": [
      "<frozen importlib._bootstrap>:219: RuntimeWarning: numpy.ndarray size changed, may indicate binary incompatibility. Expected 80 from C header, got 96 from PyObject\n",
      "/usr/local/lib/python3.8/dist-packages/CDMSDataCatalog/CDMSDataCatalog.py:6: DeprecationWarning: pkg_resources is deprecated as an API. See https://setuptools.pypa.io/en/latest/pkg_resources.html\n",
      "  import pkg_resources\n",
      "/usr/local/lib/python3.8/dist-packages/pkg_resources/__init__.py:2868: DeprecationWarning: Deprecated call to `pkg_resources.declare_namespace('mpl_toolkits')`.\n",
      "Implementing implicit namespace packages (as specified in PEP 420) is preferred to `pkg_resources.declare_namespace`. See https://setuptools.pypa.io/en/latest/references/keywords.html#keyword-namespace-packages\n",
      "  declare_namespace(pkg)\n",
      "/usr/local/lib/python3.8/dist-packages/pkg_resources/__init__.py:2868: DeprecationWarning: Deprecated call to `pkg_resources.declare_namespace('sphinxcontrib')`.\n",
      "Implementing implicit namespace packages (as specified in PEP 420) is preferred to `pkg_resources.declare_namespace`. See https://setuptools.pypa.io/en/latest/references/keywords.html#keyword-namespace-packages\n",
      "  declare_namespace(pkg)\n"
     ]
    },
    {
     "name": "stdout",
     "output_type": "stream",
     "text": [
      "Welcome to JupyROOT 6.24/06\n",
      "modules loaded...\n"
     ]
    }
   ],
   "source": [
    "print('Loading modules....')\n",
    "\n",
    "import os, sys\n",
    "\n",
    "\n",
    "import uproot\n",
    "import numpy as np\n",
    "import matplotlib.pyplot as plt\n",
    "from qetpy.utils import lowpassfilter \n",
    "from qetpy import autocuts\n",
    "import cdms\n",
    "#from CDMSDataCatalog import CDMSDataCatalog\n",
    "import scipy.optimize as optimize\n",
    "import matplotlib as mpl\n",
    "import pickle as pkl\n",
    "import ROOT as rt\n",
    "import seaborn as sns\n",
    "import operator as op\n",
    "import pandas as pd\n",
    "from collections import Counter\n",
    "\n",
    "print('modules loaded...')"
   ]
  },
  {
   "cell_type": "code",
   "execution_count": 2,
   "metadata": {},
   "outputs": [],
   "source": [
    "dataset = 'v2.1.1'\n",
    "detNum = 1"
   ]
  },
  {
   "cell_type": "code",
   "execution_count": 3,
   "metadata": {},
   "outputs": [
    {
     "name": "stdout",
     "output_type": "stream",
     "text": [
      "23231219_034952  :  /fs/ddn/sdf/group/supercdms/data/CDMS/CUTE/R37/Processed/Tests/CUTE_T3_GeActivation_v2.1.1_V05-00_P0.2./Submerged/CUTE_T3_GeActivation_v2.1.1_V05-00_P0.2._23231219_034952.root\n",
      "23231219_110331  :  /fs/ddn/sdf/group/supercdms/data/CDMS/CUTE/R37/Processed/Tests/CUTE_T3_GeActivation_v2.1.1_V05-00_P0.2./Submerged/CUTE_T3_GeActivation_v2.1.1_V05-00_P0.2._23231219_110331.root\n",
      "23231218_223530  :  /fs/ddn/sdf/group/supercdms/data/CDMS/CUTE/R37/Processed/Tests/CUTE_T3_GeActivation_v2.1.1_V05-00_P0.2./Submerged/CUTE_T3_GeActivation_v2.1.1_V05-00_P0.2._23231218_223530.root\n",
      "23231217_212512  :  /fs/ddn/sdf/group/supercdms/data/CDMS/CUTE/R37/Processed/Tests/CUTE_T3_GeActivation_v2.1.1_V05-00_P0.2./Submerged/CUTE_T3_GeActivation_v2.1.1_V05-00_P0.2._23231217_212512.root\n",
      "Found series =  ['23231219_034952', '23231219_110331', '23231218_223530', '23231217_212512']\n",
      "Number of found series =  4\n"
     ]
    }
   ],
   "source": [
    "prod='CUTE_T3_GeActivation_%s_V05-00_P0.2.'%(dataset)\n",
    "base = '/fs/ddn/sdf/group/supercdms/data/CDMS/CUTE/R37/Processed/Tests/%s/Submerged'%(prod)\n",
    "\n",
    "if(dataset == 'prompt'):\n",
    "    base = '/fs/ddn/sdf/group/supercdms/data/CDMS/CUTE/R37/Processed/Prompt/Prompt_V04-15_P0.2.1/Submerged'\n",
    "    prod = 'Prompt_V04-15_P0.2.1'\n",
    "\n",
    "\n",
    "file_prefix = prod\n",
    "\n",
    "#Only 4 series\n",
    "series = ['23231219_034952','23231219_110331','23231218_223530','23231217_212512']\n",
    "\n",
    "# 11 data series\n",
    "# series = [\n",
    "#     '23231220_012745','23231219_184002','23231219_110331','23231219_034952','23231218_223530',\n",
    "#     '23231218_190035','23231218_152721','23231218_093255','23231217_212512','23231217_171613',\n",
    "#     '23231217_135018'\n",
    "#          ]\n",
    "\n",
    "# 20 data series\n",
    "# series = [\n",
    "#     '23231216_013604', '23231216_043946', '23231216_100125', '23231216_115012', '23231216_145300',\n",
    "#     '23231216_182937', '23231216_194929', '23231216_211119', '23231216_233807', '23231217_135018',\n",
    "#     '23231217_171613', '23231217_212512', '23231218_093255', '23231218_152721', '23231218_190035',\n",
    "#     '23231218_223530', '23231219_034952', '23231219_110331', '23231219_184002', '23231220_012745'\n",
    "# ]\n",
    "\n",
    "filePath = []\n",
    "found_series = []\n",
    "for ser in series:\n",
    "    \n",
    "    fp = '%s/%s_%s.root'%(base,file_prefix,ser)\n",
    "    if(os.path.exists(fp)):\n",
    "        print(ser,' : ',fp)\n",
    "        filePath.append(fp)\n",
    "        found_series.append(ser)\n",
    "    else:\n",
    "        print('not found: ',fp)\n",
    "series = found_series\n",
    "print('Found series = ',series)\n",
    "print('Number of found series = ',len(series))\n"
   ]
  },
  {
   "cell_type": "code",
   "execution_count": 4,
   "metadata": {},
   "outputs": [
    {
     "name": "stdout",
     "output_type": "stream",
     "text": [
      "Loading RQ and Event Tree...\n",
      "done..\n",
      "Loading OF spefic data....\n",
      "23231219_034952 loaded\n",
      "23231219_110331 loaded\n",
      "23231218_223530 loaded\n",
      "23231217_212512 loaded\n",
      "done!\n",
      " Loading Event specific data....\n",
      "23231219_034952 loaded\n",
      "23231219_110331 loaded\n",
      "23231218_223530 loaded\n",
      "23231217_212512 loaded\n",
      "Done!\n"
     ]
    }
   ],
   "source": [
    "print('Loading RQ and Event Tree...')\n",
    "RQ=[]\n",
    "for i,ser in enumerate(series):\n",
    "    RQ.append(uproot.open(filePath[i])['rqDir/zip%d'%(detNum)]) \n",
    "\n",
    "eventTree=[]\n",
    "for i,ser in enumerate(series):\n",
    "    eventTree.append(uproot.open(filePath[i])['rqDir/eventTree']) \n",
    "\n",
    "print('done..')\n",
    "\n",
    "\n",
    "print('Loading OF spefic data....')\n",
    "#Load RQs from processed files\n",
    "channels=['PT','PAS1','PBS1','PCS1','PDS1','PES1','PFS1','PAS2','PBS2','PCS2','PDS2','PES2','PFS2']\n",
    "\n",
    "OFchiq={}\n",
    "OFamps={}\n",
    "OFdelay={}\n",
    "OFamps0={}\n",
    "OFnorms={}\n",
    "OFbs={}\n",
    "\n",
    "for i,key in enumerate(series):\n",
    "    tc={}\n",
    "    ta={}\n",
    "    td={}\n",
    "    ta0={}\n",
    "    tn = {}\n",
    "    tbs = {}\n",
    "    for c in channels:\n",
    "        if(detNum == '3' and c == 'PAS1'):\n",
    "            print('\\tSkipping Z3-PAS1...')\n",
    "            continue\n",
    "        tc[c]=(RQ[i][c+\"OFchisq\"].array(library='np'))\n",
    "        ta[c]=(RQ[i][c+\"OFamps\"].array(library='np'))\n",
    "        ta0[c]=(RQ[i][c+\"OFamps0\"].array(library='np'))\n",
    "        td[c]=(RQ[i][c+\"OFdelay\"].array(library='np'))\n",
    "        \n",
    "        # tc[c]=(RQ[i].array(c+\"OFchisq\"))\n",
    "        # ta[c]=(RQ[i].array(c+\"OFamps\"))\n",
    "        # ta0[c]=(RQ[i].array(c+\"OFamps0\"))\n",
    "        # td[c]=(RQ[i].array(c+\"OFdelay\"))\n",
    "        if(c!='PT'):\n",
    "            tn[c] = (RQ[i][c+\"norm\"].array(library='np'))\n",
    "            tbs[c] = (RQ[i][c+\"bs\"].array(library='np'))\n",
    "            # tn[c] = (RQ[i].array(c+\"norm\"))\n",
    "            # tbs[c] = (RQ[i].array(c+\"bs\"))\n",
    "            \n",
    "    OFchiq[key]=tc\n",
    "    OFamps[key]=ta\n",
    "    OFamps0[key]=ta0\n",
    "    OFdelay[key]=td\n",
    "    OFnorms[key]=tn\n",
    "    OFbs[key]=tbs\n",
    "    print('%s loaded'%(key))\n",
    "    \n",
    "print('done!')\n",
    "\n",
    "print(' Loading Event specific data....')\n",
    "\n",
    "\n",
    "TriggerTime=[]\n",
    "TriggerType=[]\n",
    "EventNumber=[]\n",
    "TrigDet=[]\n",
    "TriggerMask=[]\n",
    "EventTime=[]\n",
    "\n",
    "R2 = {} # Radial parameter for S2\n",
    "R1 = {} # Radial parameter for S1\n",
    "amp_diff = {}  \n",
    "amp_diff_abs = {}\n",
    "for i,key in enumerate(series):\n",
    "    TriggerTime.append(eventTree[i][\"TriggerTime\"].array())\n",
    "    TriggerType.append(eventTree[i][\"TriggerType\"].array())\n",
    "    EventNumber.append(eventTree[i][\"EventNumber\"].array())\n",
    "    TrigDet.append(eventTree[i][\"TriggerDetectorNum\"].array())\n",
    "    TriggerMask.append(eventTree[i][\"TriggerMask\"].array())\n",
    "    EventTime.append(eventTree[i][\"EventTime\"].array())\n",
    "    \n",
    "    # TriggerTime.append(eventTree[i].array(\"TriggerTime\"))\n",
    "    # TriggerType.append(eventTree[i].array(\"TriggerType\"))\n",
    "    # EventNumber.append(eventTree[i].array(\"EventNumber\"))\n",
    "    # TrigDet.append(eventTree[i].array(\"TriggerDetectorNum\"))\n",
    "    # TriggerMask.append(eventTree[i].array(\"TriggerMask\"))\n",
    "    # EventTime.append(eventTree[i].array(\"EventTime\"))\n",
    "    R2[key] = OFdelay[key]['PFS2'] - OFdelay[key]['PAS2']\n",
    "    R1[key] = OFdelay[key]['PFS1'] - OFdelay[key]['PAS1']\n",
    "    amp_diff[key] = (OFamps[key]['PFS2'] - OFamps[key]['PAS2'])/(OFamps[key]['PFS2'] + OFamps[key]['PAS2'])\n",
    "    amp_diff_abs[key] = (OFamps[key]['PFS2'] - OFamps[key]['PAS2'])\n",
    "    print('%s loaded'%(key))\n",
    "\n",
    "print('Done!')"
   ]
  },
  {
   "cell_type": "code",
   "execution_count": 15,
   "metadata": {},
   "outputs": [
    {
     "name": "stderr",
     "output_type": "stream",
     "text": [
      "Warning in <TROOT::Append>: Replacing existing TH1: h_check (Potential memory leak).\n"
     ]
    }
   ],
   "source": [
    "# hname = 'h_a%02d_b%02d_c%02d_d%02d_e%02d_f%02d'%(j1, j2, j3, j4, j5, j6)\n",
    "a = 0.5\n",
    "b = 1.0\n",
    "c = 1.0\n",
    "d = 1.0\n",
    "e = 1.0\n",
    "f = 1.0\n",
    "hname = 'h_check'\n",
    "chan = 'PT'\n",
    "temp = rt.TH1F(hname, hname, 200, 1.0, 4.5)\n",
    "for idx, key in enumerate(series):\n",
    "    mask = (TriggerType[idx] == 1) & (TrigDet[idx] == detNum) & (OFamps[key][chan] > 3e-6) & (OFamps[key][chan] < 4.2e-6) & (OFchiq[key][chan] < 5e5) & (abs(OFdelay[key][chan])*1e3 < 20)\n",
    "    side = 'S2'\n",
    "    A_def = OFamps[key]['PA%s'%(side)][mask]\n",
    "    B_def = OFamps[key]['PB%s'%(side)][mask]\n",
    "    C_def = OFamps[key]['PC%s'%(side)][mask]\n",
    "    D_def = OFamps[key]['PD%s'%(side)][mask]\n",
    "    E_def = OFamps[key]['PE%s'%(side)][mask]\n",
    "    F_def = OFamps[key]['PF%s'%(side)][mask]                            \n",
    "    s = a*A_def + b*B_def + c*C_def + d*D_def + e*E_def + f*F_def\n",
    "    \n",
    "    for i in s:\n",
    "        temp.Fill(i*1e6)"
   ]
  },
  {
   "cell_type": "code",
   "execution_count": 16,
   "metadata": {},
   "outputs": [
    {
     "data": {
      "image/png": "[encoded data removed]",
      "text/plain": [
       "<IPython.core.display.Image object>"
      ]
     },
     "metadata": {},
     "output_type": "display_data"
    }
   ],
   "source": [
    "can = rt.TCanvas()\n",
    "temp.Draw()\n",
    "can.Draw()"
   ]
  },
  {
   "cell_type": "code",
   "execution_count": null,
   "metadata": {},
   "outputs": [],
   "source": []
  },
  {
   "cell_type": "code",
   "execution_count": 34,
   "metadata": {},
   "outputs": [
    {
     "name": "stdout",
     "output_type": "stream",
     "text": [
      "0 done\n",
      "1 done\n",
      "2 done\n",
      "3 done\n",
      "all done\n"
     ]
    },
    {
     "name": "stderr",
     "output_type": "stream",
     "text": [
      "Warning in <TROOT::Append>: Replacing existing TH1: h_a03_b03_c03_d03_e03_f03 (Potential memory leak).\n"
     ]
    }
   ],
   "source": [
    "chan = 'PT'\n",
    "hists = []\n",
    "low = 0.6\n",
    "high = 1.4\n",
    "step = 0.2\n",
    "\n",
    "for j1, i1 in enumerate(np.arange(low,high,step)):\n",
    "    a = i1\n",
    "    for j2, i2 in enumerate(np.arange(low,high,step)):\n",
    "        b = i2\n",
    "        for j3, i3 in enumerate(np.arange(low,high,step)):\n",
    "            c = i3\n",
    "            for j4, i4 in enumerate(np.arange(low,high,step)):\n",
    "                d = i4\n",
    "                for j5, i5 in enumerate(np.arange(low,high,step)):\n",
    "                    e = i5\n",
    "                    for j6, i6 in enumerate(np.arange(low,high,step)):\n",
    "                        f = i6\n",
    "                        hname = 'h_a%02d_b%02d_c%02d_d%02d_e%02d_f%02d'%(j1, j2, j3, j4, j5, j6)\n",
    "                        temp = rt.TH1F(hname, hname, 200, 1.0, 4.5)\n",
    "                        for idx, key in enumerate(series):\n",
    "                            mask = (TriggerType[idx] == 1) & (TrigDet[idx] == detNum) & (OFamps[key][chan] > 3e-6) & (OFamps[key][chan] < 4.2e-6) & (OFchiq[key][chan] < 5e5) & (abs(OFdelay[key][chan])*1e3 < 20)\n",
    "                            side = 'S2'\n",
    "                            A_def = OFamps[key]['PA%s'%(side)][mask]\n",
    "                            B_def = OFamps[key]['PB%s'%(side)][mask]\n",
    "                            C_def = OFamps[key]['PC%s'%(side)][mask]\n",
    "                            D_def = OFamps[key]['PD%s'%(side)][mask]\n",
    "                            E_def = OFamps[key]['PE%s'%(side)][mask]\n",
    "                            F_def = OFamps[key]['PF%s'%(side)][mask]                            \n",
    "                            s = a*A_def + b*B_def + c*C_def + d*D_def + e*E_def + f*F_def\n",
    "                            \n",
    "                            for i in s:\n",
    "                                temp.Fill(i*1e6)\n",
    "                        hists.append(temp)\n",
    "                        #sys.exit(0)\n",
    "    print('%d done'%(j1))\n",
    "print('all done')"
   ]
  },
  {
   "cell_type": "code",
   "execution_count": 22,
   "metadata": {},
   "outputs": [
    {
     "data": {
      "text/plain": [
       "4096"
      ]
     },
     "execution_count": 22,
     "metadata": {},
     "output_type": "execute_result"
    }
   ],
   "source": [
    "len(hists)"
   ]
  },
  {
   "cell_type": "code",
   "execution_count": 38,
   "metadata": {},
   "outputs": [
    {
     "data": {
      "image/png": "[encoded data removed]",
      "text/plain": [
       "<IPython.core.display.Image object>"
      ]
     },
     "metadata": {},
     "output_type": "display_data"
    }
   ],
   "source": [
    "can = rt.TCanvas()\n",
    "hists[2869].Draw()\n",
    "can.Draw()"
   ]
  },
  {
   "cell_type": "code",
   "execution_count": 35,
   "metadata": {},
   "outputs": [
    {
     "data": {
      "image/png": "[encoded data removed]",
      "text/plain": [
       "<IPython.core.display.Image object>"
      ]
     },
     "metadata": {},
     "output_type": "display_data"
    }
   ],
   "source": [
    "res = []\n",
    "can = rt.TCanvas()\n",
    "gr = rt.TGraph()\n",
    "gr.GetXaxis().SetTitle('Index')\n",
    "gr.GetYaxis().SetTitle('Relative resolution')\n",
    "for i, h in enumerate(hists):\n",
    "    reso_ = h.GetRMS()/h.GetMean()\n",
    "    res.append(reso_)\n",
    "    gr.AddPoint(i, reso_)\n",
    "\n",
    "gr.Draw('AP*')\n",
    "can.Draw()\n"
   ]
  },
  {
   "cell_type": "code",
   "execution_count": 32,
   "metadata": {},
   "outputs": [
    {
     "data": {
      "image/png": "[encoded data removed]",
      "text/plain": [
       "<IPython.core.display.Image object>"
      ]
     },
     "metadata": {},
     "output_type": "display_data"
    }
   ],
   "source": [
    "can = rt.TCanvas()\n",
    "gr = rt.TGraph()\n",
    "gr.GetXaxis().SetTitle('Index')\n",
    "gr.GetYaxis().SetTitle('Relative resolution')\n",
    "for i, j in enumerate(res):\n",
    "    gr.AddPoint(i, j*100)\n",
    "\n",
    "gr.Draw('AP*')\n",
    "#gr.GetXaxis().SetLimits(-100,4500)\n",
    "gr.GetXaxis().SetLimits(1314,1318)\n",
    "can.Draw()"
   ]
  },
  {
   "cell_type": "code",
   "execution_count": 36,
   "metadata": {},
   "outputs": [
    {
     "data": {
      "text/plain": [
       "2869"
      ]
     },
     "execution_count": 36,
     "metadata": {},
     "output_type": "execute_result"
    }
   ],
   "source": [
    "np.argmin(res)"
   ]
  },
  {
   "cell_type": "code",
   "execution_count": 37,
   "metadata": {},
   "outputs": [
    {
     "data": {
      "text/plain": [
       "0.03978400580190866"
      ]
     },
     "execution_count": 37,
     "metadata": {},
     "output_type": "execute_result"
    }
   ],
   "source": [
    "res[2869]"
   ]
  },
  {
   "cell_type": "code",
   "execution_count": 27,
   "metadata": {},
   "outputs": [
    {
     "data": {
      "text/plain": [
       "46656"
      ]
     },
     "execution_count": 27,
     "metadata": {},
     "output_type": "execute_result"
    }
   ],
   "source": [
    "len(hists)"
   ]
  },
  {
   "cell_type": "code",
   "execution_count": 40,
   "metadata": {},
   "outputs": [
    {
     "data": {
      "text/plain": [
       "'h_a02_b03_c00_d03_e01_f01'"
      ]
     },
     "execution_count": 40,
     "metadata": {},
     "output_type": "execute_result"
    }
   ],
   "source": [
    "hists[2869].GetName()"
   ]
  },
  {
   "cell_type": "code",
   "execution_count": null,
   "metadata": {},
   "outputs": [],
   "source": [
    "# calib['PAS2'] = 1.0\n",
    "# calib['PBS2'] = 1.2\n",
    "# calib['PCS2'] = 0.6\n",
    "# calib['PDS2'] = 1.2\n",
    "# calib['PES2'] = 0.8\n",
    "# calib['PFS2'] = 0.8\n",
    "\n",
    "calib['PAS1'] = 0.8\n",
    "calib['PBS1'] = 0.8\n",
    "calib['PCS1'] = 0.6\n",
    "calib['PDS1'] = 1.0\n",
    "calib['PES1'] = 0.8\n",
    "calib['PFS1'] = 0.6\n",
    "calib['PAS2'] = 1.0\n",
    "calib['PBS2'] = 1.2\n",
    "calib['PCS2'] = 0.6\n",
    "calib['PDS2'] = 1.2\n",
    "calib['PES2'] = 0.8\n",
    "calib['PFS2'] = 0.8\n",
    "reweight = 1.0"
   ]
  },
  {
   "cell_type": "code",
   "execution_count": 24,
   "metadata": {},
   "outputs": [
    {
     "data": {
      "text/plain": [
       "'h_a00_b00_c00_d00_e00_f00'"
      ]
     },
     "execution_count": 24,
     "metadata": {},
     "output_type": "execute_result"
    }
   ],
   "source": [
    "hists[0].GetName()"
   ]
  },
  {
   "cell_type": "code",
   "execution_count": 31,
   "metadata": {},
   "outputs": [
    {
     "name": "stdout",
     "output_type": "stream",
     "text": [
      "0  :  0.6\n",
      "1  :  0.8\n",
      "2  :  1.0\n",
      "3  :  1.2000000000000002\n"
     ]
    }
   ],
   "source": [
    "low = 0.6\n",
    "high = 1.4\n",
    "step = 0.2\n",
    "\n",
    "for j1, i1 in enumerate(np.arange(low,high,step)):\n",
    "    print(j1,' : ',i1)\n"
   ]
  },
  {
   "cell_type": "raw",
   "metadata": {
    "scrolled": true
   },
   "source": [
    "for i, h in enumerate(hists):\n",
    "    if(h.GetMean() > 0.):\n",
    "        print(i,' : ',h.GetName(),' :  ',h.GetMean())"
   ]
  },
  {
   "cell_type": "code",
   "execution_count": 39,
   "metadata": {},
   "outputs": [],
   "source": [
    "filename = 'check_calib_S2.root'\n",
    "outfile = rt.TFile.Open(filename,'recreate')\n",
    "outfile.cd()\n",
    "for h in hists:\n",
    "    h.Write()\n",
    "    \n",
    "outfile.Write()\n",
    "outfile.Close()"
   ]
  },
  {
   "cell_type": "code",
   "execution_count": null,
   "metadata": {},
   "outputs": [],
   "source": []
  },
  {
   "cell_type": "code",
   "execution_count": null,
   "metadata": {},
   "outputs": [],
   "source": [
    "# hname = 'h_a%02d_b%02d_c%02d_d%02d_e%02d_f%02d'%(j1, j2, j3, j4, j5, j6)\n",
    "a = 0.5\n",
    "b = 1.0\n",
    "c = 1.0\n",
    "d = 1.0\n",
    "e = 1.0\n",
    "f = 1.0\n",
    "calib['PAS1'] = 0.8\n",
    "calib['PBS1'] = 0.8\n",
    "calib['PCS1'] = 0.6\n",
    "calib['PDS1'] = 1.0\n",
    "calib['PES1'] = 0.8\n",
    "calib['PFS1'] = 0.6\n",
    "hname = 'h_check'\n",
    "chan = 'PT'\n",
    "temp = rt.TH1F(hname, hname, 200, 1.0, 4.5)\n",
    "for idx, key in enumerate(series):\n",
    "    mask = (TriggerType[idx] == 1) & (TrigDet[idx] == detNum) & (OFamps[key][chan] > 3e-6) & (OFamps[key][chan] < 4.2e-6) & (OFchiq[key][chan] < 5e5) & (abs(OFdelay[key][chan])*1e3 < 20)\n",
    "    side = 'S2'\n",
    "    A_def = OFamps[key]['PA%s'%(side)][mask]\n",
    "    B_def = OFamps[key]['PB%s'%(side)][mask]\n",
    "    C_def = OFamps[key]['PC%s'%(side)][mask]\n",
    "    D_def = OFamps[key]['PD%s'%(side)][mask]\n",
    "    E_def = OFamps[key]['PE%s'%(side)][mask]\n",
    "    F_def = OFamps[key]['PF%s'%(side)][mask]                            \n",
    "    s = a*A_def + b*B_def + c*C_def + d*D_def + e*E_def + f*F_def\n",
    "    \n",
    "    for i in s:\n",
    "        temp.Fill(i*1e6)"
   ]
  },
  {
   "cell_type": "code",
   "execution_count": null,
   "metadata": {},
   "outputs": [],
   "source": []
  },
  {
   "cell_type": "code",
   "execution_count": null,
   "metadata": {},
   "outputs": [],
   "source": []
  },
  {
   "cell_type": "code",
   "execution_count": null,
   "metadata": {},
   "outputs": [],
   "source": []
  },
  {
   "cell_type": "code",
   "execution_count": null,
   "metadata": {},
   "outputs": [],
   "source": []
  },
  {
   "cell_type": "code",
   "execution_count": null,
   "metadata": {},
   "outputs": [],
   "source": []
  },
  {
   "cell_type": "code",
   "execution_count": null,
   "metadata": {},
   "outputs": [],
   "source": []
  },
  {
   "cell_type": "code",
   "execution_count": null,
   "metadata": {},
   "outputs": [],
   "source": []
  }
 ],
 "metadata": {
  "kernelspec": {
   "display_name": "Python 3 (ipykernel)",
   "language": "python",
   "name": "python3"
  },
  "language_info": {
   "codemirror_mode": {
    "name": "ipython",
    "version": 3
   },
   "file_extension": ".py",
   "mimetype": "text/x-python",
   "name": "python",
   "nbconvert_exporter": "python",
   "pygments_lexer": "ipython3",
   "version": "3.8.10"
  }
 },
 "nbformat": 4,
 "nbformat_minor": 4
}
