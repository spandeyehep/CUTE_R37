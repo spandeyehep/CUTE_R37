{
 "cells": [
  {
   "cell_type": "code",
   "execution_count": 1,
   "metadata": {},
   "outputs": [
    {
     "name": "stderr",
     "output_type": "stream",
     "text": [
      "/cvmfs/cdms.opensciencegrid.org/releases/centos7/V04-00/lib/python3.7/site-packages/datacat/model.py:2: DeprecationWarning: Using or importing the ABCs from 'collections' instead of from 'collections.abc' is deprecated since Python 3.3,and in 3.9 it will stop working\n",
      "  from collections import OrderedDict, MutableMapping\n"
     ]
    },
    {
     "name": "stdout",
     "output_type": "stream",
     "text": [
      "Welcome to JupyROOT 6.22/00\n"
     ]
    }
   ],
   "source": [
    "import uproot\n",
    "import numpy as np\n",
    "import matplotlib.pyplot as plt\n",
    "from qetpy.utils import lowpassfilter \n",
    "from qetpy import autocuts\n",
    "import cdms\n",
    "#from CDMSDataCatalog import CDMSDataCatalog\n",
    "import scipy.optimize as optimize\n",
    "import matplotlib as mpl\n",
    "import pickle as pkl\n",
    "import os, sys\n",
    "import ROOT as rt"
   ]
  },
  {
   "cell_type": "code",
   "execution_count": 37,
   "metadata": {},
   "outputs": [
    {
     "name": "stdout",
     "output_type": "stream",
     "text": [
      "23231221_015705  :  /sdf/group/supercdms/data/CDMS/CUTE/R37/Processed/Prompt/Prompt_V04-15_P0.2.1/Submerged/Prompt_V04-15_P0.2.1_23231221_015705.root\n",
      "23231220_190923  :  /sdf/group/supercdms/data/CDMS/CUTE/R37/Processed/Prompt/Prompt_V04-15_P0.2.1/Submerged/Prompt_V04-15_P0.2.1_23231220_190923.root\n",
      "23231220_122140  :  /sdf/group/supercdms/data/CDMS/CUTE/R37/Processed/Prompt/Prompt_V04-15_P0.2.1/Submerged/Prompt_V04-15_P0.2.1_23231220_122140.root\n",
      "23231220_053358  :  /sdf/group/supercdms/data/CDMS/CUTE/R37/Processed/Prompt/Prompt_V04-15_P0.2.1/Submerged/Prompt_V04-15_P0.2.1_23231220_053358.root\n",
      "23231220_012745  :  /sdf/group/supercdms/data/CDMS/CUTE/R37/Processed/Prompt/Prompt_V04-15_P0.2.1/Submerged/Prompt_V04-15_P0.2.1_23231220_012745.root\n",
      "23231219_184002  :  /sdf/group/supercdms/data/CDMS/CUTE/R37/Processed/Prompt/Prompt_V04-15_P0.2.1/Submerged/Prompt_V04-15_P0.2.1_23231219_184002.root\n",
      "23231219_110331  :  /sdf/group/supercdms/data/CDMS/CUTE/R37/Processed/Prompt/Prompt_V04-15_P0.2.1/Submerged/Prompt_V04-15_P0.2.1_23231219_110331.root\n",
      "23231219_034952  :  /sdf/group/supercdms/data/CDMS/CUTE/R37/Processed/Prompt/Prompt_V04-15_P0.2.1/Submerged/Prompt_V04-15_P0.2.1_23231219_034952.root\n",
      "23231218_223530  :  /sdf/group/supercdms/data/CDMS/CUTE/R37/Processed/Prompt/Prompt_V04-15_P0.2.1/Submerged/Prompt_V04-15_P0.2.1_23231218_223530.root\n",
      "23231218_190035  :  /sdf/group/supercdms/data/CDMS/CUTE/R37/Processed/Prompt/Prompt_V04-15_P0.2.1/Submerged/Prompt_V04-15_P0.2.1_23231218_190035.root\n",
      "23231218_152721  :  /sdf/group/supercdms/data/CDMS/CUTE/R37/Processed/Prompt/Prompt_V04-15_P0.2.1/Submerged/Prompt_V04-15_P0.2.1_23231218_152721.root\n",
      "23231218_093255  :  /sdf/group/supercdms/data/CDMS/CUTE/R37/Processed/Prompt/Prompt_V04-15_P0.2.1/Submerged/Prompt_V04-15_P0.2.1_23231218_093255.root\n",
      "23231217_212512  :  /sdf/group/supercdms/data/CDMS/CUTE/R37/Processed/Prompt/Prompt_V04-15_P0.2.1/Submerged/Prompt_V04-15_P0.2.1_23231217_212512.root\n",
      "23231217_171613  :  /sdf/group/supercdms/data/CDMS/CUTE/R37/Processed/Prompt/Prompt_V04-15_P0.2.1/Submerged/Prompt_V04-15_P0.2.1_23231217_171613.root\n",
      "23231217_135018  :  /sdf/group/supercdms/data/CDMS/CUTE/R37/Processed/Prompt/Prompt_V04-15_P0.2.1/Submerged/Prompt_V04-15_P0.2.1_23231217_135018.root\n"
     ]
    }
   ],
   "source": [
    "base=\"/sdf/group/supercdms/data/CDMS/CUTE/R37/Processed/Prompt/Prompt_V04-15_P0.2.1/Submerged\"\n",
    "\n",
    "# series = {\n",
    "#     '7hr' : '23231219_034952',\n",
    "#     '6hr' : '23231219_110331'\n",
    "    \n",
    "# }\n",
    "\n",
    "# lname = series\n",
    "# filePath = {}\n",
    "\n",
    "# for key in series.keys():\n",
    "    \n",
    "#     filePath[key] = '%s/Prompt_V04-15_P0.2.1_%s.root'%(base,series[key])\n",
    "#     if(os.path.exists(filePath[key])):\n",
    "#         print(key,' : ',filePath[key])\n",
    "#     else:\n",
    "#         print('not found: ',filePath[key])\n",
    "\n",
    "\n",
    "        \n",
    "\n",
    "series = ['23231221_015705','23231220_190923','23231220_122140','23231220_053358','23231220_012745',\n",
    "         '23231219_184002','23231219_110331','23231219_034952','23231218_223530','23231218_190035',\n",
    "         '23231218_152721','23231218_093255','23231217_212512','23231217_171613','23231217_135018']\n",
    "\n",
    "filePath = []\n",
    "\n",
    "for ser in series:\n",
    "    \n",
    "    fp = '%s/Prompt_V04-15_P0.2.1_%s.root'%(base,ser)\n",
    "    if(os.path.exists(fp)):\n",
    "        print(ser,' : ',fp)\n",
    "        filePath.append(fp)\n",
    "    else:\n",
    "        print('not found: ',fp)"
   ]
  },
  {
   "cell_type": "code",
   "execution_count": 38,
   "metadata": {},
   "outputs": [
    {
     "name": "stdout",
     "output_type": "stream",
     "text": [
      "Done!\n"
     ]
    }
   ],
   "source": [
    "# Get trees from RQ file\n",
    "\n",
    "# RQ=[]\n",
    "# for i,key in enumerate(series.keys()):\n",
    "#     RQ.append(uproot.open(filePath[key])['rqDir/zip1']) \n",
    "\n",
    "# eventTree=[]\n",
    "# for i,key in enumerate(series.keys()):\n",
    "#     eventTree.append(uproot.open(filePath[key])['rqDir/eventTree']) \n",
    "    \n",
    "RQ=[]\n",
    "for i,ser in enumerate(series):\n",
    "    RQ.append(uproot.open(filePath[i])['rqDir/zip1']) \n",
    "\n",
    "eventTree=[]\n",
    "for i,ser in enumerate(series):\n",
    "    eventTree.append(uproot.open(filePath[i])['rqDir/eventTree']) \n",
    "    \n",
    "    \n",
    "print('Done!')\n"
   ]
  },
  {
   "cell_type": "code",
   "execution_count": 39,
   "metadata": {},
   "outputs": [
    {
     "name": "stdout",
     "output_type": "stream",
     "text": [
      "23231221_015705 loaded\n",
      "23231220_190923 loaded\n",
      "23231220_122140 loaded\n",
      "23231220_053358 loaded\n",
      "23231220_012745 loaded\n",
      "23231219_184002 loaded\n",
      "23231219_110331 loaded\n",
      "23231219_034952 loaded\n",
      "23231218_223530 loaded\n",
      "23231218_190035 loaded\n",
      "23231218_152721 loaded\n",
      "23231218_093255 loaded\n",
      "23231217_212512 loaded\n",
      "23231217_171613 loaded\n",
      "23231217_135018 loaded\n",
      "Done!\n"
     ]
    }
   ],
   "source": [
    "#Load RQs from processed files\n",
    "channels=['PT','PAS1','PBS1','PCS1','PDS1','PES1','PFS1','PAS2','PBS2','PCS2','PDS2','PES2','PFS2']\n",
    "\n",
    "OFchiq={}\n",
    "OFamps={}\n",
    "OFdelay={}\n",
    "OFamps0={}\n",
    "OFnorms={}\n",
    "OFbs={}\n",
    "# for i,key in enumerate(series.keys()):\n",
    "#     tc={}\n",
    "#     ta={}\n",
    "#     td={}\n",
    "#     ta0={}\n",
    "#     tn = {}\n",
    "#     tbs = {}\n",
    "#     for c in channels:\n",
    "#         tc[c]=(RQ[i].array(c+\"OFchisq\"))\n",
    "#         ta[c]=(RQ[i].array(c+\"OFamps\"))\n",
    "#         ta0[c]=(RQ[i].array(c+\"OFamps0\"))\n",
    "#         td[c]=(RQ[i].array(c+\"OFdelay\"))\n",
    "#         if(c!='PT'):\n",
    "#             tn[c] = (RQ[i].array(c+\"norm\"))\n",
    "#             tbs[c] = (RQ[i].array(c+\"bs\"))\n",
    "#     OFchiq[series[key]]=tc\n",
    "#     OFamps[series[key]]=ta\n",
    "#     OFamps0[series[key]]=ta0\n",
    "#     OFdelay[series[key]]=td\n",
    "#     OFnorms[series[key]]=tn\n",
    "#     OFbs[series[key]]=tbs\n",
    "    \n",
    "for i,key in enumerate(series):\n",
    "    tc={}\n",
    "    ta={}\n",
    "    td={}\n",
    "    ta0={}\n",
    "    tn = {}\n",
    "    tbs = {}\n",
    "    for c in channels:\n",
    "        tc[c]=(RQ[i].array(c+\"OFchisq\"))\n",
    "        ta[c]=(RQ[i].array(c+\"OFamps\"))\n",
    "        ta0[c]=(RQ[i].array(c+\"OFamps0\"))\n",
    "        td[c]=(RQ[i].array(c+\"OFdelay\"))\n",
    "        if(c!='PT'):\n",
    "            tn[c] = (RQ[i].array(c+\"norm\"))\n",
    "            tbs[c] = (RQ[i].array(c+\"bs\"))\n",
    "    OFchiq[key]=tc\n",
    "    OFamps[key]=ta\n",
    "    OFamps0[key]=ta0\n",
    "    OFdelay[key]=td\n",
    "    OFnorms[key]=tn\n",
    "    OFbs[key]=tbs\n",
    "    print('%s loaded'%(key))\n",
    "    \n",
    "        \n",
    "print('Done!')"
   ]
  },
  {
   "cell_type": "code",
   "execution_count": 40,
   "metadata": {},
   "outputs": [
    {
     "name": "stdout",
     "output_type": "stream",
     "text": [
      "23231221_015705 loaded\n",
      "23231220_190923 loaded\n",
      "23231220_122140 loaded\n",
      "23231220_053358 loaded\n",
      "23231220_012745 loaded\n",
      "23231219_184002 loaded\n",
      "23231219_110331 loaded\n",
      "23231219_034952 loaded\n",
      "23231218_223530 loaded\n",
      "23231218_190035 loaded\n",
      "23231218_152721 loaded\n",
      "23231218_093255 loaded\n",
      "23231217_212512 loaded\n",
      "23231217_171613 loaded\n",
      "23231217_135018 loaded\n",
      "Done!\n"
     ]
    }
   ],
   "source": [
    "# Get event info from processed files\n",
    "\n",
    "TriggerTime=[]\n",
    "TriggerType=[]\n",
    "EventNumber=[]\n",
    "TrigDet=[]\n",
    "TriggerMask=[]\n",
    "EventTime=[]\n",
    "# for i,key in enumerate(series.keys()):\n",
    "#     TriggerTime.append(eventTree[i].array(\"TriggerTime\"))\n",
    "#     TriggerType.append(eventTree[i].array(\"TriggerType\"))\n",
    "#     EventNumber.append(eventTree[i].array(\"EventNumber\"))\n",
    "#     TrigDet.append(eventTree[i].array(\"TriggerDetectorNum\"))\n",
    "#     TriggerMask.append(eventTree[i].array(\"TriggerMask\"))\n",
    "#     EventTime.append(eventTree[i].array(\"EventTime\"))\n",
    "    \n",
    "    \n",
    "for i,key in enumerate(series):\n",
    "    TriggerTime.append(eventTree[i].array(\"TriggerTime\"))\n",
    "    TriggerType.append(eventTree[i].array(\"TriggerType\"))\n",
    "    EventNumber.append(eventTree[i].array(\"EventNumber\"))\n",
    "    TrigDet.append(eventTree[i].array(\"TriggerDetectorNum\"))\n",
    "    TriggerMask.append(eventTree[i].array(\"TriggerMask\"))\n",
    "    EventTime.append(eventTree[i].array(\"EventTime\"))\n",
    "    print('%s loaded'%(key))\n",
    "print('Done!')"
   ]
  },
  {
   "cell_type": "code",
   "execution_count": 15,
   "metadata": {},
   "outputs": [],
   "source": [
    "def ntl_gain(voltage, material):\n",
    "    eps = 2.98 # average energy needed to produce 1 eh pair in ev\n",
    "    if((material == 'si') or (material == 'Si') or (material == 'SI') or (material == 'silicon') or (material == 'Silicon')):\n",
    "        eps = 3.6\n",
    "    return((1.0+(voltage/eps)))\n",
    "        "
   ]
  },
  {
   "cell_type": "code",
   "execution_count": 75,
   "metadata": {},
   "outputs": [
    {
     "data": {
      "text/plain": [
       "24.889932885906042"
      ]
     },
     "execution_count": 75,
     "metadata": {},
     "output_type": "execute_result"
    }
   ],
   "source": [
    "1.4*ntl_gain(50,'Ge')"
   ]
  },
  {
   "cell_type": "code",
   "execution_count": 50,
   "metadata": {},
   "outputs": [
    {
     "data": {
      "text/plain": [
       "[1, 1, 1]"
      ]
     },
     "execution_count": 50,
     "metadata": {},
     "output_type": "execute_result"
    }
   ],
   "source": [
    "([] + [1,1,1])"
   ]
  },
  {
   "cell_type": "code",
   "execution_count": 86,
   "metadata": {},
   "outputs": [
    {
     "name": "stdout",
     "output_type": "stream",
     "text": [
      "data loaded..\n"
     ]
    },
    {
     "ename": "KeyboardInterrupt",
     "evalue": "",
     "output_type": "error",
     "traceback": [
      "\u001b[0;31m---------------------------------------------------------------------------\u001b[0m",
      "\u001b[0;31mKeyboardInterrupt\u001b[0m                         Traceback (most recent call last)",
      "\u001b[0;32m<ipython-input-86-1ae7c158139a>\u001b[0m in \u001b[0;36m<module>\u001b[0;34m\u001b[0m\n\u001b[1;32m     17\u001b[0m \u001b[0;34m\u001b[0m\u001b[0m\n\u001b[1;32m     18\u001b[0m \u001b[0;32mfor\u001b[0m \u001b[0mi\u001b[0m \u001b[0;32min\u001b[0m \u001b[0mrange\u001b[0m\u001b[0;34m(\u001b[0m\u001b[0mlen\u001b[0m\u001b[0;34m(\u001b[0m\u001b[0mx\u001b[0m\u001b[0;34m)\u001b[0m\u001b[0;34m)\u001b[0m\u001b[0;34m:\u001b[0m\u001b[0;34m\u001b[0m\u001b[0;34m\u001b[0m\u001b[0m\n\u001b[0;32m---> 19\u001b[0;31m     \u001b[0mplt\u001b[0m\u001b[0;34m.\u001b[0m\u001b[0mscatter\u001b[0m\u001b[0;34m(\u001b[0m\u001b[0mx\u001b[0m\u001b[0;34m[\u001b[0m\u001b[0mi\u001b[0m\u001b[0;34m]\u001b[0m\u001b[0;34m,\u001b[0m\u001b[0my\u001b[0m\u001b[0;34m[\u001b[0m\u001b[0mi\u001b[0m\u001b[0;34m]\u001b[0m\u001b[0;34m,\u001b[0m\u001b[0ms\u001b[0m\u001b[0;34m=\u001b[0m\u001b[0;36m5\u001b[0m\u001b[0;34m,\u001b[0m\u001b[0mcolor\u001b[0m\u001b[0;34m=\u001b[0m\u001b[0;34m'r'\u001b[0m\u001b[0;34m)\u001b[0m\u001b[0;34m\u001b[0m\u001b[0;34m\u001b[0m\u001b[0m\n\u001b[0m\u001b[1;32m     20\u001b[0m \u001b[0;31m#plt.xlim(0,40)\u001b[0m\u001b[0;34m\u001b[0m\u001b[0;34m\u001b[0m\u001b[0;34m\u001b[0m\u001b[0m\n\u001b[1;32m     21\u001b[0m \u001b[0;31m# plt.ylim(1e4,1e8)\u001b[0m\u001b[0;34m\u001b[0m\u001b[0;34m\u001b[0m\u001b[0;34m\u001b[0m\u001b[0m\n",
      "\u001b[0;32m/cvmfs/sft.cern.ch/lcg/views/LCG_98py3cu10/x86_64-centos7-gcc8-opt/lib/python3.7/site-packages/matplotlib/pyplot.py\u001b[0m in \u001b[0;36mscatter\u001b[0;34m(x, y, s, c, marker, cmap, norm, vmin, vmax, alpha, linewidths, verts, edgecolors, plotnonfinite, data, **kwargs)\u001b[0m\n\u001b[1;32m   2839\u001b[0m         \u001b[0mverts\u001b[0m\u001b[0;34m=\u001b[0m\u001b[0mverts\u001b[0m\u001b[0;34m,\u001b[0m \u001b[0medgecolors\u001b[0m\u001b[0;34m=\u001b[0m\u001b[0medgecolors\u001b[0m\u001b[0;34m,\u001b[0m\u001b[0;34m\u001b[0m\u001b[0;34m\u001b[0m\u001b[0m\n\u001b[1;32m   2840\u001b[0m         plotnonfinite=plotnonfinite, **({\"data\": data} if data is not\n\u001b[0;32m-> 2841\u001b[0;31m         None else {}), **kwargs)\n\u001b[0m\u001b[1;32m   2842\u001b[0m     \u001b[0msci\u001b[0m\u001b[0;34m(\u001b[0m\u001b[0m__ret\u001b[0m\u001b[0;34m)\u001b[0m\u001b[0;34m\u001b[0m\u001b[0;34m\u001b[0m\u001b[0m\n\u001b[1;32m   2843\u001b[0m     \u001b[0;32mreturn\u001b[0m \u001b[0m__ret\u001b[0m\u001b[0;34m\u001b[0m\u001b[0;34m\u001b[0m\u001b[0m\n",
      "\u001b[0;32m/cvmfs/sft.cern.ch/lcg/views/LCG_98py3cu10/x86_64-centos7-gcc8-opt/lib/python3.7/site-packages/matplotlib/__init__.py\u001b[0m in \u001b[0;36minner\u001b[0;34m(ax, data, *args, **kwargs)\u001b[0m\n\u001b[1;32m   1587\u001b[0m     \u001b[0;32mdef\u001b[0m \u001b[0minner\u001b[0m\u001b[0;34m(\u001b[0m\u001b[0max\u001b[0m\u001b[0;34m,\u001b[0m \u001b[0;34m*\u001b[0m\u001b[0margs\u001b[0m\u001b[0;34m,\u001b[0m \u001b[0mdata\u001b[0m\u001b[0;34m=\u001b[0m\u001b[0;32mNone\u001b[0m\u001b[0;34m,\u001b[0m \u001b[0;34m**\u001b[0m\u001b[0mkwargs\u001b[0m\u001b[0;34m)\u001b[0m\u001b[0;34m:\u001b[0m\u001b[0;34m\u001b[0m\u001b[0;34m\u001b[0m\u001b[0m\n\u001b[1;32m   1588\u001b[0m         \u001b[0;32mif\u001b[0m \u001b[0mdata\u001b[0m \u001b[0;32mis\u001b[0m \u001b[0;32mNone\u001b[0m\u001b[0;34m:\u001b[0m\u001b[0;34m\u001b[0m\u001b[0;34m\u001b[0m\u001b[0m\n\u001b[0;32m-> 1589\u001b[0;31m             \u001b[0;32mreturn\u001b[0m \u001b[0mfunc\u001b[0m\u001b[0;34m(\u001b[0m\u001b[0max\u001b[0m\u001b[0;34m,\u001b[0m \u001b[0;34m*\u001b[0m\u001b[0mmap\u001b[0m\u001b[0;34m(\u001b[0m\u001b[0msanitize_sequence\u001b[0m\u001b[0;34m,\u001b[0m \u001b[0margs\u001b[0m\u001b[0;34m)\u001b[0m\u001b[0;34m,\u001b[0m \u001b[0;34m**\u001b[0m\u001b[0mkwargs\u001b[0m\u001b[0;34m)\u001b[0m\u001b[0;34m\u001b[0m\u001b[0;34m\u001b[0m\u001b[0m\n\u001b[0m\u001b[1;32m   1590\u001b[0m \u001b[0;34m\u001b[0m\u001b[0m\n\u001b[1;32m   1591\u001b[0m         \u001b[0mbound\u001b[0m \u001b[0;34m=\u001b[0m \u001b[0mnew_sig\u001b[0m\u001b[0;34m.\u001b[0m\u001b[0mbind\u001b[0m\u001b[0;34m(\u001b[0m\u001b[0max\u001b[0m\u001b[0;34m,\u001b[0m \u001b[0;34m*\u001b[0m\u001b[0margs\u001b[0m\u001b[0;34m,\u001b[0m \u001b[0;34m**\u001b[0m\u001b[0mkwargs\u001b[0m\u001b[0;34m)\u001b[0m\u001b[0;34m\u001b[0m\u001b[0;34m\u001b[0m\u001b[0m\n",
      "\u001b[0;32m/cvmfs/sft.cern.ch/lcg/views/LCG_98py3cu10/x86_64-centos7-gcc8-opt/lib/python3.7/site-packages/matplotlib/axes/_axes.py\u001b[0m in \u001b[0;36mscatter\u001b[0;34m(self, x, y, s, c, marker, cmap, norm, vmin, vmax, alpha, linewidths, verts, edgecolors, plotnonfinite, **kwargs)\u001b[0m\n\u001b[1;32m   4518\u001b[0m \u001b[0;34m\u001b[0m\u001b[0m\n\u001b[1;32m   4519\u001b[0m         \u001b[0mself\u001b[0m\u001b[0;34m.\u001b[0m\u001b[0madd_collection\u001b[0m\u001b[0;34m(\u001b[0m\u001b[0mcollection\u001b[0m\u001b[0;34m)\u001b[0m\u001b[0;34m\u001b[0m\u001b[0;34m\u001b[0m\u001b[0m\n\u001b[0;32m-> 4520\u001b[0;31m         \u001b[0mself\u001b[0m\u001b[0;34m.\u001b[0m\u001b[0mautoscale_view\u001b[0m\u001b[0;34m(\u001b[0m\u001b[0;34m)\u001b[0m\u001b[0;34m\u001b[0m\u001b[0;34m\u001b[0m\u001b[0m\n\u001b[0m\u001b[1;32m   4521\u001b[0m \u001b[0;34m\u001b[0m\u001b[0m\n\u001b[1;32m   4522\u001b[0m         \u001b[0;32mreturn\u001b[0m \u001b[0mcollection\u001b[0m\u001b[0;34m\u001b[0m\u001b[0;34m\u001b[0m\u001b[0m\n",
      "\u001b[0;32m/cvmfs/sft.cern.ch/lcg/views/LCG_98py3cu10/x86_64-centos7-gcc8-opt/lib/python3.7/site-packages/matplotlib/axes/_base.py\u001b[0m in \u001b[0;36mautoscale_view\u001b[0;34m(self, tight, scalex, scaley)\u001b[0m\n\u001b[1;32m   2491\u001b[0m         handle_single_axis(\n\u001b[1;32m   2492\u001b[0m             \u001b[0mscalex\u001b[0m\u001b[0;34m,\u001b[0m \u001b[0mself\u001b[0m\u001b[0;34m.\u001b[0m\u001b[0m_autoscaleXon\u001b[0m\u001b[0;34m,\u001b[0m \u001b[0mself\u001b[0m\u001b[0;34m.\u001b[0m\u001b[0m_shared_x_axes\u001b[0m\u001b[0;34m,\u001b[0m \u001b[0;34m'intervalx'\u001b[0m\u001b[0;34m,\u001b[0m\u001b[0;34m\u001b[0m\u001b[0;34m\u001b[0m\u001b[0m\n\u001b[0;32m-> 2493\u001b[0;31m             'minposx', self.xaxis, self._xmargin, x_stickies, self.set_xbound)\n\u001b[0m\u001b[1;32m   2494\u001b[0m         handle_single_axis(\n\u001b[1;32m   2495\u001b[0m             \u001b[0mscaley\u001b[0m\u001b[0;34m,\u001b[0m \u001b[0mself\u001b[0m\u001b[0;34m.\u001b[0m\u001b[0m_autoscaleYon\u001b[0m\u001b[0;34m,\u001b[0m \u001b[0mself\u001b[0m\u001b[0;34m.\u001b[0m\u001b[0m_shared_y_axes\u001b[0m\u001b[0;34m,\u001b[0m \u001b[0;34m'intervaly'\u001b[0m\u001b[0;34m,\u001b[0m\u001b[0;34m\u001b[0m\u001b[0;34m\u001b[0m\u001b[0m\n",
      "\u001b[0;32m/cvmfs/sft.cern.ch/lcg/views/LCG_98py3cu10/x86_64-centos7-gcc8-opt/lib/python3.7/site-packages/matplotlib/axes/_base.py\u001b[0m in \u001b[0;36mhandle_single_axis\u001b[0;34m(scale, autoscaleon, shared_axes, interval, minpos, axis, margin, stickies, set_bound)\u001b[0m\n\u001b[1;32m   2434\u001b[0m                 \u001b[0;31m# if finite limits exist for atleast one axis (and the\u001b[0m\u001b[0;34m\u001b[0m\u001b[0;34m\u001b[0m\u001b[0;34m\u001b[0m\u001b[0m\n\u001b[1;32m   2435\u001b[0m                 \u001b[0;31m# other is infinite), restore the finite limits\u001b[0m\u001b[0;34m\u001b[0m\u001b[0;34m\u001b[0m\u001b[0;34m\u001b[0m\u001b[0m\n\u001b[0;32m-> 2436\u001b[0;31m                 x_finite = [d for d in dl\n\u001b[0m\u001b[1;32m   2437\u001b[0m                             if (np.isfinite(d.intervalx).all() and\n\u001b[1;32m   2438\u001b[0m                                 (d not in finite_dl))]\n",
      "\u001b[0;32m/cvmfs/sft.cern.ch/lcg/views/LCG_98py3cu10/x86_64-centos7-gcc8-opt/lib/python3.7/site-packages/matplotlib/axes/_base.py\u001b[0m in \u001b[0;36m<listcomp>\u001b[0;34m(.0)\u001b[0m\n\u001b[1;32m   2435\u001b[0m                 \u001b[0;31m# other is infinite), restore the finite limits\u001b[0m\u001b[0;34m\u001b[0m\u001b[0;34m\u001b[0m\u001b[0;34m\u001b[0m\u001b[0m\n\u001b[1;32m   2436\u001b[0m                 x_finite = [d for d in dl\n\u001b[0;32m-> 2437\u001b[0;31m                             if (np.isfinite(d.intervalx).all() and\n\u001b[0m\u001b[1;32m   2438\u001b[0m                                 (d not in finite_dl))]\n\u001b[1;32m   2439\u001b[0m                 y_finite = [d for d in dl\n",
      "\u001b[0;32m/cvmfs/sft.cern.ch/lcg/views/LCG_98py3cu10/x86_64-centos7-gcc8-opt/lib/python3.7/site-packages/numpy/core/_methods.py\u001b[0m in \u001b[0;36m_all\u001b[0;34m(a, axis, dtype, out, keepdims)\u001b[0m\n\u001b[1;32m     46\u001b[0m \u001b[0;34m\u001b[0m\u001b[0m\n\u001b[1;32m     47\u001b[0m \u001b[0;32mdef\u001b[0m \u001b[0m_all\u001b[0m\u001b[0;34m(\u001b[0m\u001b[0ma\u001b[0m\u001b[0;34m,\u001b[0m \u001b[0maxis\u001b[0m\u001b[0;34m=\u001b[0m\u001b[0;32mNone\u001b[0m\u001b[0;34m,\u001b[0m \u001b[0mdtype\u001b[0m\u001b[0;34m=\u001b[0m\u001b[0;32mNone\u001b[0m\u001b[0;34m,\u001b[0m \u001b[0mout\u001b[0m\u001b[0;34m=\u001b[0m\u001b[0;32mNone\u001b[0m\u001b[0;34m,\u001b[0m \u001b[0mkeepdims\u001b[0m\u001b[0;34m=\u001b[0m\u001b[0;32mFalse\u001b[0m\u001b[0;34m)\u001b[0m\u001b[0;34m:\u001b[0m\u001b[0;34m\u001b[0m\u001b[0;34m\u001b[0m\u001b[0m\n\u001b[0;32m---> 48\u001b[0;31m     \u001b[0;32mreturn\u001b[0m \u001b[0mumr_all\u001b[0m\u001b[0;34m(\u001b[0m\u001b[0ma\u001b[0m\u001b[0;34m,\u001b[0m \u001b[0maxis\u001b[0m\u001b[0;34m,\u001b[0m \u001b[0mdtype\u001b[0m\u001b[0;34m,\u001b[0m \u001b[0mout\u001b[0m\u001b[0;34m,\u001b[0m \u001b[0mkeepdims\u001b[0m\u001b[0;34m)\u001b[0m\u001b[0;34m\u001b[0m\u001b[0;34m\u001b[0m\u001b[0m\n\u001b[0m\u001b[1;32m     49\u001b[0m \u001b[0;34m\u001b[0m\u001b[0m\n\u001b[1;32m     50\u001b[0m \u001b[0;32mdef\u001b[0m \u001b[0m_count_reduce_items\u001b[0m\u001b[0;34m(\u001b[0m\u001b[0marr\u001b[0m\u001b[0;34m,\u001b[0m \u001b[0maxis\u001b[0m\u001b[0;34m)\u001b[0m\u001b[0;34m:\u001b[0m\u001b[0;34m\u001b[0m\u001b[0;34m\u001b[0m\u001b[0m\n",
      "\u001b[0;31mKeyboardInterrupt\u001b[0m: "
     ]
    },
    {
     "data": {
      "image/png": "[encoded data removed]",
      "text/plain": [
       "<Figure size 432x288 with 1 Axes>"
      ]
     },
     "metadata": {
      "needs_background": "light"
     },
     "output_type": "display_data"
    }
   ],
   "source": [
    "x = []\n",
    "y = []\n",
    "chan = 'PT'\n",
    "for idx,key in enumerate(series):\n",
    "    mask = (TriggerType[idx] == 1) & (OFamps[key][chan] > 0.) & (TrigDet[idx] == 1)\n",
    "    x += (OFamps[key][chan][mask]).tolist()\n",
    "    y += (OFchiq[key][chan][mask]).tolist()\n",
    "#     print(len(OFchiq[key][chan][mask]))\n",
    "#     print(OFchiq[key][chan][mask])\n",
    "#     print(len(y))\n",
    "#     print(y)\n",
    "    #print(y)\n",
    "    break\n",
    "#print(x)\n",
    "print('data loaded..')\n",
    "plt.figure()\n",
    "\n",
    "for i in range(len(x)):\n",
    "    plt.scatter(x[i],y[i],s=5,color='r')\n",
    "#plt.xlim(0,40)\n",
    "# plt.ylim(1e4,1e8)\n",
    "\n",
    "\n",
    "plt.xscale(\"log\")\n",
    "plt.yscale(\"log\")\n",
    "plt.xlabel(\"OFamps\")\n",
    "plt.ylabel(\"OF chisq\")\n",
    "plt.title(key+ ' : ' + chan)\n",
    "#plt.savefig(\"./plots/reverse_cal/OF_chi2_%s_scatter.png\"%(c))\n",
    "plt.show()"
   ]
  },
  {
   "cell_type": "code",
   "execution_count": 79,
   "metadata": {},
   "outputs": [
    {
     "data": {
      "text/plain": [
       "381316"
      ]
     },
     "execution_count": 79,
     "metadata": {},
     "output_type": "execute_result"
    }
   ],
   "source": [
    "len(y)"
   ]
  },
  {
   "cell_type": "code",
   "execution_count": 83,
   "metadata": {},
   "outputs": [
    {
     "data": {
      "text/plain": [
       "<matplotlib.collections.PathCollection at 0x7fb1d0bb3150>"
      ]
     },
     "execution_count": 83,
     "metadata": {},
     "output_type": "execute_result"
    },
    {
     "data": {
      "image/png": "[encoded data removed]",
      "text/plain": [
       "<Figure size 432x288 with 1 Axes>"
      ]
     },
     "metadata": {
      "needs_background": "light"
     },
     "output_type": "display_data"
    }
   ],
   "source": [
    "plt.scatter([1,2,3],[1,2,3])"
   ]
  },
  {
   "cell_type": "raw",
   "metadata": {},
   "source": [
    "# Event selection\n",
    "#Selecting saturated events\n",
    "chan = 'PT'\n",
    "idx = 1\n",
    "key = list(series.keys())[idx]\n",
    "mask = (TriggerType[idx] == 1) & (OFamps[series[key]][chan] > 0.) & (TrigDet[idx] == 1) & (OFchiq[series[key]][chan] < 1.e5)\n",
    "x = OFamps[series[key]][chan][mask]*1e6\n",
    "y = OFchiq[series[key]][chan][mask]\n",
    "plt.scatter(x,y,s=5 ,color='r')\n",
    "\n",
    "# plt.vlines(1.5, 0.6e6, 3e6)\n",
    "# plt.vlines(2.0, 0.6e6, 3e6)\n",
    "# plt.hlines(0.6e6, 1.5, 2.0)\n",
    "# plt.hlines(3e6, 1.5, 2.0)\n",
    "\n",
    "#plt.xlim(0,40)\n",
    "# plt.ylim(1e4,1e8)\n",
    "\n",
    "\n",
    "plt.yscale(\"log\")\n",
    "plt.xlabel(\"OF amps [uA]\")\n",
    "plt.ylabel(\"OF chisq\")\n",
    "plt.title(series[key]+ ' : ' + chan)\n",
    "#plt.savefig(\"./plots/reverse_cal/OF_chi2_%s_scatter.png\"%(c))\n",
    "plt.show()\n"
   ]
  },
  {
   "cell_type": "code",
   "execution_count": 73,
   "metadata": {},
   "outputs": [
    {
     "name": "stderr",
     "output_type": "stream",
     "text": [
      "/cvmfs/sft.cern.ch/lcg/views/LCG_98py3cu10/x86_64-centos7-gcc8-opt/lib/python3.7/site-packages/ipykernel_launcher.py:18: RuntimeWarning: invalid value encountered in log10\n"
     ]
    },
    {
     "name": "stdout",
     "output_type": "stream",
     "text": [
      "23231221_015705 loaded\n",
      "23231220_190923 loaded\n",
      "23231220_122140 loaded\n",
      "23231220_053358 loaded\n",
      "23231220_012745 loaded\n",
      "23231219_184002 loaded\n",
      "23231219_110331 loaded\n",
      "23231219_034952 loaded\n",
      "23231218_223530 loaded\n",
      "23231218_190035 loaded\n",
      "23231218_152721 loaded\n",
      "23231218_093255 loaded\n",
      "23231217_212512 loaded\n",
      "23231217_171613 loaded\n",
      "23231217_135018 loaded\n",
      "Done!\n"
     ]
    },
    {
     "name": "stderr",
     "output_type": "stream",
     "text": [
      "Warning in <TROOT::Append>: Replacing existing TH1: h_pt (Potential memory leak).\n",
      "Warning in <TROOT::Append>: Replacing existing TH1: h_pt_log (Potential memory leak).\n"
     ]
    }
   ],
   "source": [
    "h_pt = rt.TH1F('h_pt','h_pt',550,0,55)\n",
    "h_pt.GetXaxis().SetTitle('PTOFamp [uA]')\n",
    "h_pt.GetYaxis().SetTitle('Counts')\n",
    "\n",
    "h_pt_log = rt.TH1F('h_pt_log','h_pt_log',500,-6,-4)\n",
    "h_pt_log.GetXaxis().SetTitle('PTOFamp')\n",
    "h_pt_log.GetYaxis().SetTitle('Counts')\n",
    "\n",
    "\n",
    "for idx, key in enumerate(series):\n",
    "#     if(idx != 1):\n",
    "#         continue\n",
    "    mask = (TriggerType[idx] == 1) & (TrigDet[idx] == 1) #& (OFamps[key][chan] > 1e-6) # & (OFchiq[series[key]][chan] < 1.e5)\n",
    "    x = OFamps[key][chan][mask]\n",
    "    for value in x:\n",
    "        if(value > 0.3e-6):\n",
    "            h_pt.Fill(value*1e6)\n",
    "        h_pt_log.Fill(np.log10(value))\n",
    "    print('%s loaded'%(key))\n",
    "print('Done!')"
   ]
  },
  {
   "cell_type": "raw",
   "metadata": {},
   "source": [
    "h_pt = rt.TH1F('h_pt','h_pt',500,0,50)\n",
    "\n",
    "h_pt.GetXaxis().SetTitle('PTOFamp [uA]')\n",
    "h_pt.GetYaxis().SetTitle('Counts')\n",
    "\n",
    "for idx, key in enumerate(series.keys()):\n",
    "#     if(idx == 0):\n",
    "#         continue\n",
    "    mask = (TriggerType[idx] == 1) & (OFamps[series[key]][chan] > 1e-6) & (TrigDet[idx] == 1) & (OFchiq[series[key]][chan] < 1.e5)\n",
    "    x = OFamps[series[key]][chan][mask]*1e6\n",
    "    for value in x:\n",
    "        h_pt.Fill(value)\n",
    "print('Done!')"
   ]
  },
  {
   "cell_type": "code",
   "execution_count": 72,
   "metadata": {},
   "outputs": [
    {
     "data": {
      "image/png": "[encoded data removed]",
      "text/plain": [
       "<IPython.core.display.Image object>"
      ]
     },
     "metadata": {},
     "output_type": "display_data"
    }
   ],
   "source": [
    "h_pt.Draw()\n",
    "can.SetLogy(1)\n",
    "can.Draw()"
   ]
  },
  {
   "cell_type": "code",
   "execution_count": 74,
   "metadata": {},
   "outputs": [
    {
     "data": {
      "image/png": "[encoded data removed]",
      "text/plain": [
       "<IPython.core.display.Image object>"
      ]
     },
     "metadata": {},
     "output_type": "display_data"
    }
   ],
   "source": [
    "h_pt_log.Draw()\n",
    "can.SetLogy(1)\n",
    "can.Draw()"
   ]
  },
  {
   "cell_type": "code",
   "execution_count": 12,
   "metadata": {},
   "outputs": [
    {
     "name": "stdout",
     "output_type": "stream",
     "text": [
      "30431\n",
      "30431\n"
     ]
    },
    {
     "data": {
      "image/png": "[encoded data removed]",
      "text/plain": [
       "<IPython.core.display.Image object>"
      ]
     },
     "metadata": {},
     "output_type": "display_data"
    }
   ],
   "source": [
    "can = rt.TCanvas()\n",
    "#gr_amp_t = rt.TGraph('gr_amp_t','gr_amp_t',0,10e3)\n",
    "chan = 'PT'\n",
    "idx = 0\n",
    "key = list(series.keys())[idx]\n",
    "mask = (TriggerType[idx] == 1) & (OFamps[series[key]][chan] > 0.) & (EventTime[idx] > 0.) & (TrigDet[idx] == 1)\n",
    "t0 = EventTime[idx][mask][0]\n",
    "#EventTime[0][mask] - t0\n",
    "\n",
    "x = EventTime[idx][mask] - t0\n",
    "y = OFamps[series[key]][chan][mask]*1e6\n",
    "gr_amp_t = rt.TGraph(len(x),x,y)\n",
    "gr_amp_t.SetTitle(series[key]+ ' : ' +key )\n",
    "gr_amp_t.GetXaxis().SetTitle('Time [s]')\n",
    "gr_amp_t.GetYaxis().SetTitle('PT OFamp [uA]')\n",
    "gr_amp_t.Draw('AP')\n",
    "can.SetLogy()\n",
    "can.Draw()\n",
    "print(len(x))\n",
    "print(len(y))"
   ]
  },
  {
   "cell_type": "code",
   "execution_count": null,
   "metadata": {},
   "outputs": [],
   "source": []
  }
 ],
 "metadata": {
  "kernelspec": {
   "display_name": "CDMS V04-00",
   "language": "python",
   "name": "cdms_v04-00"
  },
  "language_info": {
   "codemirror_mode": {
    "name": "ipython",
    "version": 3
   },
   "file_extension": ".py",
   "mimetype": "text/x-python",
   "name": "python",
   "nbconvert_exporter": "python",
   "pygments_lexer": "ipython3",
   "version": "3.7.6"
  }
 },
 "nbformat": 4,
 "nbformat_minor": 4
}
