{
 "cells": [
  {
   "cell_type": "markdown",
   "metadata": {},
   "source": [
    "# Disclaimer: This notebook was run using CDMS kernel V04-00"
   ]
  },
  {
   "cell_type": "code",
   "execution_count": 1,
   "metadata": {},
   "outputs": [
    {
     "name": "stderr",
     "output_type": "stream",
     "text": [
      "/cvmfs/cdms.opensciencegrid.org/releases/centos7/V04-00/lib/python3.7/site-packages/datacat/model.py:2: DeprecationWarning: Using or importing the ABCs from 'collections' instead of from 'collections.abc' is deprecated since Python 3.3,and in 3.9 it will stop working\n",
      "  from collections import OrderedDict, MutableMapping\n"
     ]
    }
   ],
   "source": [
    "import uproot\n",
    "import numpy as np\n",
    "import matplotlib.pyplot as plt\n",
    "from qetpy.utils import lowpassfilter \n",
    "from qetpy import autocuts\n",
    "import cdms\n",
    "#from CDMSDataCatalog import CDMSDataCatalog\n",
    "import scipy.optimize as optimize\n",
    "import matplotlib as mpl"
   ]
  },
  {
   "cell_type": "code",
   "execution_count": 2,
   "metadata": {},
   "outputs": [
    {
     "name": "stdout",
     "output_type": "stream",
     "text": [
      "Welcome to JupyROOT 6.22/00\n"
     ]
    }
   ],
   "source": [
    "import pickle as pkl\n",
    "import os, sys\n",
    "import ROOT as rt"
   ]
  },
  {
   "cell_type": "raw",
   "metadata": {},
   "source": [
    "%jsroot off"
   ]
  },
  {
   "cell_type": "code",
   "execution_count": 45,
   "metadata": {},
   "outputs": [
    {
     "name": "stdout",
     "output_type": "stream",
     "text": [
      "7hr  :  /sdf/group/supercdms/data/CDMS/CUTE/R37/Processed/Prompt/Prompt_V04-15_P0.2.1/Submerged//Prompt_V04-15_P0.2.1_23231219_034952.root\n",
      "6hr  :  /sdf/group/supercdms/data/CDMS/CUTE/R37/Processed/Prompt/Prompt_V04-15_P0.2.1/Submerged//Prompt_V04-15_P0.2.1_23231219_110331.root\n"
     ]
    }
   ],
   "source": [
    "#Define processed files\n",
    "#catalog = CDMSDataCatalog()\n",
    "#print(\"Will search for data at \", catalog.default_fetchdir)\n",
    "\n",
    "#base=\"/sdf/group/supercdms/data/CDMS/CUTE/R37/Processed/Prompt/Prompt_V04-15_P0.2.0/Submerged\"\n",
    "base = '/sdf/group/supercdms/data/CDMS/CUTE/R37/Processed/Prompt/Prompt_V04-15_P0.2.1/Submerged/'\n",
    "# series = {\n",
    "#     'prebake' : '23231211_165227',\n",
    "#     'postbake' : '23231213_115428'\n",
    "# }\n",
    "# series = {\n",
    "#     '50V' : '23231216_145300'\n",
    "# }\n",
    "series = {\n",
    "    '7hr' : '23231219_034952',\n",
    "    '6hr' : '23231219_110331'\n",
    "#    '5hr' : '23231217_212512', # 5 hr data \n",
    "#     '4hr' : '23231217_171613',  # 4 hr data\n",
    "#     '3hr' : '23231217_135018'\n",
    "}\n",
    "lname = {\n",
    "    '7hr' : '23231219_034952',\n",
    "    '6hr' : '23231219_110331'\n",
    "    \n",
    "#    '5hr' : '23231217_212512', # 5 hr data \n",
    "#     '4hr' : '23231217_171613',  # 4 hr data\n",
    "#     '3hr' : '23231217_135018'\n",
    "}\n",
    "filePath = {}\n",
    "\n",
    "# for key in series.keys():\n",
    "#     filePath[key] = '%s/Prompt_V04-15_P0.2.0_%s.root'%(base,series[key])\n",
    "    \n",
    "for key in series.keys():\n",
    "    filePath[key] = '%s/Prompt_V04-15_P0.2.1_%s.root'%(base,series[key])\n",
    "    print(key,' : ',filePath[key])\n"
   ]
  },
  {
   "cell_type": "code",
   "execution_count": 46,
   "metadata": {},
   "outputs": [
    {
     "name": "stdout",
     "output_type": "stream",
     "text": [
      "Done!\n"
     ]
    }
   ],
   "source": [
    "#Get RQs from processed files\n",
    "### Older version #####\n",
    "# RQ=[]\n",
    "# for i in np.arange(9):\n",
    "#     RQ.append(uproot.open(fetchresult[i].filePath)['rqDir/zip1']) \n",
    "\n",
    "# eventTree=[]\n",
    "# for i in np.arange(9):\n",
    "#     eventTree.append(uproot.open(fetchresult[i].filePath)['rqDir/eventTree']) \n",
    "##################################################################\n",
    "\n",
    "\n",
    "# RQ = []\n",
    "\n",
    "# for key in filePath.keys():\n",
    "#     RQ.append(uproot.open(filePath[key])['rqDir/zip6']) \n",
    "\n",
    "# eventTree=[]\n",
    "# for key in filePath.keys():\n",
    "#     eventTree.append(uproot.open(filePath[key])['rqDir/eventTree']) \n",
    "\n",
    "#dets = ['Z1','Z3','Z6']\n",
    "dets = ['Z5','Z6']\n",
    "zips = {\n",
    "    'Z1' : 'zip1',\n",
    "    'Z2' : 'zip2',\n",
    "    'Z3' : 'zip3',\n",
    "    'Z4' : 'zip4',\n",
    "    'Z5' : 'zip5',\n",
    "    'Z6' : 'zip6'\n",
    "}\n",
    "RQ = []\n",
    "\n",
    "for key in filePath.keys():\n",
    "    t = {}\n",
    "    for i,det in enumerate(dets):\n",
    "        t[det] = uproot.open(filePath[key])['rqDir/%s'%(zips[det])]\n",
    "    RQ.append(t)\n",
    "\n",
    "eventTree=[]\n",
    "for key in filePath.keys():\n",
    "    eventTree.append(uproot.open(filePath[key])['rqDir/eventTree']) \n",
    "\n",
    "print('Done!')"
   ]
  },
  {
   "cell_type": "code",
   "execution_count": 47,
   "metadata": {},
   "outputs": [
    {
     "name": "stdout",
     "output_type": "stream",
     "text": [
      "Detector =  Z5\n",
      "Detector =  Z6\n",
      "Done for 7hr..\n",
      "Detector =  Z5\n",
      "Detector =  Z6\n",
      "Done for 6hr..\n",
      "all done\n"
     ]
    }
   ],
   "source": [
    "#Get RQs from processed files\n",
    "#chan=['PBS2']\n",
    "chan=['PT','PAS1','PBS1','PCS1','PDS1','PES1','PFS1','PAS2','PBS2','PCS2','PDS2','PES2','PFS2']\n",
    "#series=['23231024_231640']\n",
    "OFchiq={}\n",
    "OFamps={}\n",
    "OFdelay={}\n",
    "OFamps0={}\n",
    "OFnorms={}\n",
    "bs={}\n",
    "for i,key in enumerate(series.keys()): # for each series\n",
    "    tc={}\n",
    "    ta={}\n",
    "    td={}\n",
    "    ta0={}\n",
    "    tn = {}\n",
    "    tbs = {}\n",
    "    for j,det in enumerate(dets):     # for each detector\n",
    "        ttc={}\n",
    "        tta={}\n",
    "        ttd={}\n",
    "        tta0={}\n",
    "        ttn = {}\n",
    "        ttbs = {}\n",
    "        print('Detector = ',det)\n",
    "        for c in chan:                # for each channel\n",
    "            \n",
    "            if(det == 'Z3' and c == 'PAS1'):\n",
    "                print('\\tSkipping Z3-PAS1...')\n",
    "                continue\n",
    "            #print('\\t chan = ',c)\n",
    "            ttc[c]=(RQ[i][det].array(c+\"OFchisq\"))\n",
    "            tta[c]=(RQ[i][det].array(c+\"OFamps\"))\n",
    "            tta0[c]=(RQ[i][det].array(c+\"OFamps0\"))\n",
    "            ttd[c]=(RQ[i][det].array(c+\"OFdelay\"))\n",
    "            \n",
    "            if(c!='PT'):\n",
    "                tn[c] = (RQ[i][det].array(c+\"norm\"))\n",
    "                ttbs[c]=(RQ[i][det].array(c+\"bs\"))\n",
    "        tc[det] = ttc\n",
    "        ta[det] = tta\n",
    "        td[det] = ttd\n",
    "        ta0[det] = tta0\n",
    "        tn[det] = ttn\n",
    "        tbs[det] = ttbs\n",
    "    OFchiq[series[key]]=tc\n",
    "    OFamps[series[key]]=ta\n",
    "    OFamps0[series[key]]=ta0\n",
    "    OFdelay[series[key]]=td\n",
    "    bs[series[key]]=tbs\n",
    "    OFnorms[series[key]]=tn\n",
    "    \n",
    "        \n",
    "    print('Done for %s..'%(key))\n",
    "print('all done')"
   ]
  },
  {
   "cell_type": "code",
   "execution_count": 48,
   "metadata": {},
   "outputs": [
    {
     "name": "stdout",
     "output_type": "stream",
     "text": [
      "Done!\n"
     ]
    }
   ],
   "source": [
    "#Get RQs from processed files\n",
    "# chan=['PBS2']\n",
    "# series=['23210325_211520','23210326_012655','23210326_130758','23210327_010110','23210327_190020','23210328_051029','23210328_142945','23210329_021134','23210329_114716']\n",
    "chan=['PT','PAS1','PBS1','PCS1','PDS1','PES1','PFS1','PAS2','PBS2','PCS2','PDS2','PES2','PFS2']\n",
    "#series=['23231024_231640']\n",
    "TriggerTime=[]\n",
    "TriggerType=[]\n",
    "EventNumber=[]\n",
    "TrigDet=[]\n",
    "TriggerMask=[]\n",
    "EventTime=[]\n",
    "for i,key in enumerate(series.keys()):\n",
    "#     if(i!=0):\n",
    "#         print('Skipping %s....'%(key))\n",
    "#         continue\n",
    "    TriggerTime.append(eventTree[i].array(\"TriggerTime\"))\n",
    "    TriggerType.append(eventTree[i].array(\"TriggerType\"))\n",
    "    EventNumber.append(eventTree[i].array(\"EventNumber\"))\n",
    "    TrigDet.append(eventTree[i].array(\"TriggerDetectorNum\"))\n",
    "    TriggerMask.append(eventTree[i].array(\"TriggerMask\"))\n",
    "    EventTime.append(eventTree[i].array(\"EventTime\"))\n",
    "print('Done!')"
   ]
  },
  {
   "cell_type": "raw",
   "metadata": {},
   "source": [
    "# Event selection\n",
    "#Selecting saturated events\n",
    "idx = 0\n",
    "key = list(series.keys())[idx]\n",
    "det = 'Z5'\n",
    "DetNum = int(det[-1])\n",
    "c = 'PT'\n",
    "\n",
    "\n",
    "mask = (TriggerType[idx] == 1) & (OFamps[series[key]][det][c] > 0.) & (TrigDet[idx] == DetNum)\n",
    "plt.scatter(OFamps[series[key]][det][c][mask]*1e6,OFchiq[series[key]][det][c][mask],s=5 ,color='b')\n",
    "\n",
    "# plt.vlines(1.5, 0.6e6, 3e6)\n",
    "# plt.vlines(2.0, 0.6e6, 3e6)\n",
    "# plt.hlines(0.6e6, 1.5, 2.0)\n",
    "# plt.hlines(3e6, 1.5, 2.0)\n",
    "\n",
    "# plt.xlim(0,1)\n",
    "# plt.ylim(2e4,2e5)\n",
    "plt.yscale(\"log\")\n",
    "plt.xlabel(\"OF amps [uA]\")\n",
    "plt.ylabel(\"OF chisq\")\n",
    "plt.title(det+ ' : ' + series[key])\n",
    "#plt.savefig(\"./plots/reverse_cal/OF_chi2_%s_scatter.png\"%(c))\n",
    "plt.show()\n"
   ]
  },
  {
   "cell_type": "code",
   "execution_count": 17,
   "metadata": {},
   "outputs": [],
   "source": [
    "can = rt.TCanvas()\n",
    "can.SetLogy()\n",
    "#rt.gStyle.SetOptStat(0)\n",
    "can.SetLogz()\n"
   ]
  },
  {
   "cell_type": "code",
   "execution_count": 19,
   "metadata": {},
   "outputs": [
    {
     "data": {
      "image/png": "[encoded data removed]",
      "text/plain": [
       "<IPython.core.display.Image object>"
      ]
     },
     "metadata": {},
     "output_type": "display_data"
    }
   ],
   "source": [
    "#gr_amp_t = rt.TGraph('gr_amp_t','gr_amp_t',0,10e3)\n",
    "chan = 'PT'\n",
    "det = 'Z6'\n",
    "DetNum = int(det[-1])\n",
    "idx = 0\n",
    "key = list(series.keys())[0]\n",
    "mask = (TriggerType[idx] == 1) & (OFamps[series[key]][det][chan] > 0.) & (TrigDet[idx] == DetNum) & (EventTime[idx] > 0.)\n",
    "#print(mask)\n",
    "t0 = EventTime[idx][mask][0]\n",
    "#EventTime[0][mask] - t0\n",
    "\n",
    "x = EventTime[idx][mask] - t0\n",
    "y = OFamps[series[key]][det][chan][mask]*1e6\n",
    "gr_amp_t = rt.TGraph(len(x),x,y)\n",
    "gr_amp_t.SetTitle('%s : %s (%s)'%(det,series[key],key))\n",
    "#gr_amp_t.SetTitle(det+ ' : ' +series[key]+ ' : ' +key )\n",
    "gr_amp_t.GetXaxis().SetTitle('Time [s]')\n",
    "gr_amp_t.GetYaxis().SetTitle('PT OFamp [uA]')\n",
    "gr_amp_t.Draw('AP')\n",
    "can.SetLogy()\n",
    "can.Draw()\n",
    "# print(len(x))\n",
    "# print(len(y))"
   ]
  },
  {
   "cell_type": "code",
   "execution_count": 50,
   "metadata": {},
   "outputs": [
    {
     "data": {
      "image/png": "[encoded data removed]",
      "text/plain": [
       "<IPython.core.display.Image object>"
      ]
     },
     "metadata": {},
     "output_type": "display_data"
    }
   ],
   "source": [
    "#gr_amp_t = rt.TGraph('gr_amp_t','gr_amp_t',0,10e3)\n",
    "chan = 'PT'\n",
    "det = 'Z6'\n",
    "DetNum = int(det[-1])\n",
    "idx = 1\n",
    "key = list(series.keys())[idx]\n",
    "mask = (TriggerType[idx] == 1) & (OFamps[series[key]][det][chan] > 0.) & (TrigDet[idx] == DetNum) & (EventTime[idx] > 0.)\n",
    "#print(mask)\n",
    "t0 = EventTime[idx][mask][0]\n",
    "#EventTime[0][mask] - t0\n",
    "\n",
    "x = EventTime[idx][mask] - t0\n",
    "y = OFamps[series[key]][det][chan][mask]*1e6\n",
    "gr_amp_t = rt.TGraph(len(x),x,y)\n",
    "gr_amp_t.SetTitle('%s : %s (%s)'%(det,series[key],key))\n",
    "#gr_amp_t.SetTitle(det+ ' : ' +series[key]+ ' : ' +key )\n",
    "gr_amp_t.GetXaxis().SetTitle('Time [s]')\n",
    "gr_amp_t.GetYaxis().SetTitle('PT OFamp [uA]')\n",
    "gr_amp_t.Draw('AP')\n",
    "can.SetLogy()\n",
    "can.Draw()\n",
    "# print(len(x))\n",
    "# print(len(y))"
   ]
  },
  {
   "cell_type": "code",
   "execution_count": 51,
   "metadata": {},
   "outputs": [
    {
     "name": "stdout",
     "output_type": "stream",
     "text": [
      "events =  90\n",
      "in time =  23818.0 sec\n",
      "rate = 0.003779 Hz\n"
     ]
    }
   ],
   "source": [
    "chan = 'PT'\n",
    "det = 'Z6'\n",
    "DetNum = int(det[-1])\n",
    "idx = 1\n",
    "key = list(series.keys())[idx]\n",
    "mask = (TriggerType[idx] == 1) & ((OFamps[series[key]][det][chan] > 1e-6) & (OFamps[series[key]][det][chan] < 2e-6)) & (TrigDet[idx] == DetNum) & (EventTime[idx] > 0.)\n",
    "#mask = (TriggerType[idx] == 1) & ((OFamps[series[key]][det][chan] > 1.) ) & (TrigDet[idx] == DetNum) & (EventTime[idx] > 0.)\n",
    "t0 = EventTime[idx][mask][0]\n",
    "#EventTime[0][mask] - t0\n",
    "\n",
    "x = EventTime[idx][mask] - t0\n",
    "events = np.sum(mask)\n",
    "t1 = np.max(x)\n",
    "print('events = ',events )\n",
    "print('in time = ',t1,'sec')\n",
    "print('rate = %f Hz'%(float(events)/t1))\n"
   ]
  },
  {
   "cell_type": "code",
   "execution_count": null,
   "metadata": {},
   "outputs": [],
   "source": [
    "89.0/25000"
   ]
  },
  {
   "cell_type": "code",
   "execution_count": 52,
   "metadata": {},
   "outputs": [
    {
     "data": {
      "image/png": "[encoded data removed]",
      "text/plain": [
       "<Figure size 432x288 with 1 Axes>"
      ]
     },
     "metadata": {
      "needs_background": "light"
     },
     "output_type": "display_data"
    }
   ],
   "source": [
    "# Event selection\n",
    "#Selecting saturated events\n",
    "idx = 1\n",
    "key = list(series.keys())[idx]\n",
    "det = 'Z6'\n",
    "DetNum = int(det[-1])\n",
    "c = 'PT'\n",
    "\n",
    "\n",
    "mask = (TriggerType[idx] == 1) & (OFamps[series[key]][det][c] > 0.) & (TrigDet[idx] == DetNum)\n",
    "plt.scatter(OFamps[series[key]][det][c][mask]*1e6,OFchiq[series[key]][det][c][mask],s=5 ,color='r')\n",
    "\n",
    "# plt.vlines(1.5, 0.6e6, 3e6)\n",
    "# plt.vlines(2.0, 0.6e6, 3e6)\n",
    "# plt.hlines(0.6e6, 1.5, 2.0)\n",
    "# plt.hlines(3e6, 1.5, 2.0)\n",
    "\n",
    "plt.xlim(0,2.5)\n",
    "# plt.ylim(2e4,2e5)\n",
    "plt.yscale(\"log\")\n",
    "plt.xlabel(\"OF amps [uA]\")\n",
    "plt.ylabel(\"OF chisq\")\n",
    "plt.title(det+ ' : ' + series[key])\n",
    "#plt.savefig(\"./plots/reverse_cal/OF_chi2_%s_scatter.png\"%(c))\n",
    "plt.show()\n"
   ]
  },
  {
   "cell_type": "code",
   "execution_count": 99,
   "metadata": {},
   "outputs": [
    {
     "data": {
      "text/plain": [
       "0.13886210221793635"
      ]
     },
     "execution_count": 99,
     "metadata": {},
     "output_type": "execute_result"
    }
   ],
   "source": [
    "(1.44/10.37)"
   ]
  },
  {
   "cell_type": "code",
   "execution_count": 98,
   "metadata": {},
   "outputs": [
    {
     "data": {
      "text/plain": [
       "0.24995178399228543"
      ]
     },
     "execution_count": 98,
     "metadata": {},
     "output_type": "execute_result"
    }
   ],
   "source": [
    "(1.44/10.37)*1.8"
   ]
  },
  {
   "cell_type": "code",
   "execution_count": 53,
   "metadata": {},
   "outputs": [
    {
     "name": "stdout",
     "output_type": "stream",
     "text": [
      "0 : 23871\n",
      "Series 23231219_034952:7hr done...\n",
      "1 : 22875\n",
      "Series 23231219_110331:6hr done...\n"
     ]
    }
   ],
   "source": [
    "det = 'Z6'\n",
    "idx = 0\n",
    "key = list(series.keys())[idx]\n",
    "\n",
    "hname = 'h_chi2_ofamp_pt_%s'%(det)\n",
    "htitle = 'chi^2 vs. Amp (%s, 7hr + 6hr);Amplitude (uA);chi2'%(det)\n",
    "h_chi2_ofamp_pt = rt.TH2F(hname,htitle,150,0, 150,100,np.logspace(4.3, 7, 101)) \n",
    "\n",
    "\n",
    "hname = 'h_chi2_ofamp_pt_%s_zoomed'%(det)\n",
    "htitle = 'chi^2 vs. Amp (%s, 7hr + 6hr);Amplitude (uA);chi2'%(det)\n",
    "h_chi2_ofamp_pt_zoomed = rt.TH2F(hname,htitle,100,0, 2.5,100,np.logspace(4.3, 6, 101)) \n",
    "\n",
    "hname = 'h_ofamp_pt_%s'%(det)\n",
    "htitle = '%s, 7hr + 6hr (chi2 < 6e4 & 1 < ofamp < 2)'%(det)\n",
    "h_ofamp_pt = rt.TH1F(hname,htitle,200,0.5,2.5)\n",
    "\n",
    "\n",
    "chan = 'PT'\n",
    "DetNum = int(det[-1])\n",
    "\n",
    "for idx, key in enumerate(series.keys()):\n",
    "    \n",
    "    mask = (TriggerType[idx] == 1) & (OFamps[series[key]][det][chan] > 0.) & (TrigDet[idx] == DetNum)\n",
    "    print(idx,':',np.sum(mask))\n",
    "    x = OFamps[series[key]][det][chan][mask]*1e6\n",
    "    y = OFchiq[series[key]][det][chan][mask]\n",
    "\n",
    "    for j in range(len(x)):\n",
    "        h_chi2_ofamp_pt.Fill(x[j],y[j])\n",
    "        h_chi2_ofamp_pt_zoomed.Fill(x[j],y[j])\n",
    "        if((x[j] < 2) and (x[j] > 1) and (y[j] < 6e4)):\n",
    "            h_ofamp_pt.Fill(x[j])\n",
    "    print('Series %s:%s done...'%(series[key],key))\n",
    "\n",
    "    "
   ]
  },
  {
   "cell_type": "code",
   "execution_count": 54,
   "metadata": {},
   "outputs": [
    {
     "data": {
      "image/png": "[encoded data removed]",
      "text/plain": [
       "<IPython.core.display.Image object>"
      ]
     },
     "metadata": {},
     "output_type": "display_data"
    }
   ],
   "source": [
    "h_chi2_ofamp_pt.Draw('colz')\n",
    "can.Draw()"
   ]
  },
  {
   "cell_type": "code",
   "execution_count": 55,
   "metadata": {},
   "outputs": [
    {
     "data": {
      "image/png": "[encoded data removed]",
      "text/plain": [
       "<IPython.core.display.Image object>"
      ]
     },
     "metadata": {},
     "output_type": "display_data"
    }
   ],
   "source": [
    "h_chi2_ofamp_pt_zoomed.Draw('colz')\n",
    "can.Draw()"
   ]
  },
  {
   "cell_type": "code",
   "execution_count": 56,
   "metadata": {},
   "outputs": [
    {
     "data": {
      "image/png": "[encoded data removed]",
      "text/plain": [
       "<IPython.core.display.Image object>"
      ]
     },
     "metadata": {},
     "output_type": "display_data"
    }
   ],
   "source": [
    "h_ofamp_pt.Draw()\n",
    "can.Draw()"
   ]
  },
  {
   "cell_type": "code",
   "execution_count": 66,
   "metadata": {},
   "outputs": [
    {
     "data": {
      "image/png": "[encoded data removed]",
      "text/plain": [
       "<IPython.core.display.Image object>"
      ]
     },
     "metadata": {},
     "output_type": "display_data"
    }
   ],
   "source": [
    "hist = h_ofamp_pt.Clone()\n",
    "\n",
    "mean = hist.GetMean()\n",
    "rms = hist.GetRMS()\n",
    "fit_range = [mean - 2*rms, mean + 2*rms]\n",
    "gaus = rt.TF1('gaus','gaus(0)',fit_range[0],fit_range[1])\n",
    "gaus.SetParameters(10, mean, rms)\n",
    "hist.Fit(gaus,'Q','',fit_range[0],fit_range[1])\n",
    "gaus = hist.GetFunction('gaus')\n",
    "mean = gaus.GetParameter(1)\n",
    "rms = gaus.GetParameter(2)\n",
    "mean_err = gaus.GetParError(1)\n",
    "rms_err = gaus.GetParError(2)\n",
    "\n",
    "#hist.Rebin(2)\n",
    "rt.gStyle.SetOptStat(0)\n",
    "#hist.SetName('Z6')\n",
    "hist.GetXaxis().SetTitle('PT OFamps [uA]')\n",
    "hist.GetYaxis().SetTitle('Counts')\n",
    "hist.SetTitle('Z6 [%s + %s]'%(series['7hr'],series['6hr']))\n",
    "hist.SetLineColor(rt.kBlue)\n",
    "hist.SetLineWidth(2)\n",
    "hist.Draw()\n",
    "textOnTop = rt.TLatex()\n",
    "# textOnTop.SetTextSize(0.05)\n",
    "# textOnTop.DrawLatexNDC(0.6,0.8,'#bf{%s}'%(c))\n",
    "textOnTop.SetTextSize(0.035)\n",
    "textOnTop.DrawLatexNDC(0.6,0.8,'#bf{Fitted mean = %0.2f #pm %0.2f uA}'%(mean, mean_err))\n",
    "textOnTop.DrawLatexNDC(0.6,0.75,'#bf{Fitted rms = %0.2f #pm %0.2f uA}'%(rms, rms_err))\n",
    "\n",
    "#textOnTop.DrawLatexNDC(0.5,0.65,'#bf{Collection efficiency = %0.2f%%}'%((means[c]/10.37)*100))\n",
    "can.Draw()"
   ]
  },
  {
   "cell_type": "code",
   "execution_count": 68,
   "metadata": {},
   "outputs": [
    {
     "data": {
      "text/plain": [
       "17.946668301736594"
      ]
     },
     "execution_count": 68,
     "metadata": {},
     "output_type": "execute_result"
    }
   ],
   "source": [
    "factor = 10.37/mean\n",
    "2.5*factor"
   ]
  },
  {
   "cell_type": "code",
   "execution_count": 80,
   "metadata": {},
   "outputs": [
    {
     "name": "stdout",
     "output_type": "stream",
     "text": [
      "0 : 23871\n",
      "Series 23231219_034952:7hr done...\n",
      "1 : 22875\n",
      "Series 23231219_110331:6hr done...\n"
     ]
    },
    {
     "name": "stderr",
     "output_type": "stream",
     "text": [
      "Warning in <TROOT::Append>: Replacing existing TH1: h_ofamp_pt_Z6 (Potential memory leak).\n"
     ]
    }
   ],
   "source": [
    "det = 'Z6'\n",
    "idx = 0\n",
    "key = list(series.keys())[idx]\n",
    "\n",
    "factor = 10.37/mean\n",
    "\n",
    "hname = 'h_ofamp_pt_%s'%(det)\n",
    "htitle = '%s, 7hr + 6hr (chi2 < 6e4 & 1 < ofamp < 2)'%(det)\n",
    "h_kev_pt = rt.TH1F(hname,htitle,300,0,30.0)\n",
    "\n",
    "\n",
    "chan = 'PT'\n",
    "DetNum = int(det[-1])\n",
    "\n",
    "for idx, key in enumerate(series.keys()):\n",
    "    \n",
    "    mask = (TriggerType[idx] == 1) & (OFamps[series[key]][det][chan] > 0.) & (TrigDet[idx] == DetNum)\n",
    "    print(idx,':',np.sum(mask))\n",
    "    x = OFamps[series[key]][det][chan][mask]*1e6\n",
    "    y = OFchiq[series[key]][det][chan][mask]\n",
    "\n",
    "    for j in range(len(x)):\n",
    "        \n",
    "        if((x[j] > 1.) and (x[j] < 2.) and (y[j] < 6e4)):\n",
    "            h_kev_pt.Fill(x[j]*factor)\n",
    "    print('Series %s:%s done...'%(series[key],key))\n",
    "\n",
    "    "
   ]
  },
  {
   "cell_type": "code",
   "execution_count": 81,
   "metadata": {},
   "outputs": [
    {
     "data": {
      "image/png": "[encoded data removed]",
      "text/plain": [
       "<IPython.core.display.Image object>"
      ]
     },
     "metadata": {},
     "output_type": "display_data"
    }
   ],
   "source": [
    "h_kev_pt.Draw()\n",
    "can.Draw()"
   ]
  },
  {
   "cell_type": "code",
   "execution_count": 83,
   "metadata": {},
   "outputs": [
    {
     "data": {
      "image/png": "[encoded data removed]",
      "text/plain": [
       "<IPython.core.display.Image object>"
      ]
     },
     "metadata": {},
     "output_type": "display_data"
    }
   ],
   "source": [
    "hist = h_kev_pt.Clone()\n",
    "\n",
    "mean = hist.GetMean()\n",
    "rms = hist.GetRMS()\n",
    "fit_range = [mean - 2*rms, mean + 2*rms]\n",
    "gaus = rt.TF1('gaus','gaus(0)',fit_range[0],fit_range[1])\n",
    "gaus.SetParameters(10, mean, rms)\n",
    "hist.Fit(gaus,'Q','',fit_range[0],fit_range[1])\n",
    "gaus = hist.GetFunction('gaus')\n",
    "mean = gaus.GetParameter(1)\n",
    "rms = gaus.GetParameter(2)\n",
    "mean_err = gaus.GetParError(1)\n",
    "rms_err = gaus.GetParError(2)\n",
    "\n",
    "#hist.Rebin(2)\n",
    "rt.gStyle.SetOptStat(0)\n",
    "#hist.SetName('Z6')\n",
    "hist.GetXaxis().SetTitle('PT OFamps [keV]')\n",
    "hist.GetYaxis().SetTitle('Counts')\n",
    "hist.SetTitle('Z6 [%s + %s]'%(series['7hr'],series['6hr']))\n",
    "hist.SetLineColor(rt.kBlue)\n",
    "hist.SetLineWidth(2)\n",
    "hist.Draw()\n",
    "textOnTop = rt.TLatex()\n",
    "# textOnTop.SetTextSize(0.05)\n",
    "# textOnTop.DrawLatexNDC(0.6,0.8,'#bf{%s}'%(c))\n",
    "textOnTop.SetTextSize(0.035)\n",
    "textOnTop.DrawLatexNDC(0.55,0.8,'#bf{Fitted mean = %0.2f #pm %0.2f keV}'%(mean, mean_err))\n",
    "textOnTop.DrawLatexNDC(0.55,0.75,'#bf{Fitted rms = %0.2f #pm %0.2f keV}'%(rms, rms_err))\n",
    "\n",
    "#textOnTop.DrawLatexNDC(0.5,0.65,'#bf{Collection efficiency = %0.2f%%}'%((means[c]/10.37)*100))\n",
    "can.Draw()"
   ]
  },
  {
   "cell_type": "code",
   "execution_count": 84,
   "metadata": {},
   "outputs": [
    {
     "data": {
      "text/plain": [
       "{'7hr': '23231219_034952', '6hr': '23231219_110331'}"
      ]
     },
     "execution_count": 84,
     "metadata": {},
     "output_type": "execute_result"
    }
   ],
   "source": [
    "series"
   ]
  },
  {
   "cell_type": "code",
   "execution_count": 100,
   "metadata": {},
   "outputs": [
    {
     "data": {
      "text/plain": [
       "0.18052073288331727"
      ]
     },
     "execution_count": 100,
     "metadata": {},
     "output_type": "execute_result"
    }
   ],
   "source": [
    "(1.44/10.37)*1.3"
   ]
  },
  {
   "cell_type": "code",
   "execution_count": 102,
   "metadata": {},
   "outputs": [
    {
     "name": "stdout",
     "output_type": "stream",
     "text": [
      "0 : 1500\n",
      "Series 23231219_034952:7hr done...\n"
     ]
    },
    {
     "name": "stderr",
     "output_type": "stream",
     "text": [
      "Warning in <TROOT::Append>: Replacing existing TH1: h_ofamp0_pt_Z6 (Potential memory leak).\n",
      "Warning in <TROOT::Append>: Replacing existing TH1: h_ofamp0_kev_pt_Z6 (Potential memory leak).\n"
     ]
    }
   ],
   "source": [
    "det = 'Z6'\n",
    "idx = 0\n",
    "key = list(series.keys())[idx]\n",
    "\n",
    "factor = 10.37/1.44\n",
    "\n",
    "hname = 'h_ofamp0_pt_%s'%(det)\n",
    "htitle = '%s, 7hr'%(det)\n",
    "h_baseline = rt.TH1F(hname,htitle,100,-0.2,0.2)\n",
    "hname = 'h_ofamp0_kev_pt_%s'%(det)\n",
    "htitle = '%s, 7hr'%(det)\n",
    "h_baseline_kev = rt.TH1F(hname,htitle,100,-1,1)\n",
    "\n",
    "chan = 'PT'\n",
    "DetNum = int(det[-1])\n",
    "\n",
    "mask = (TriggerType[idx] == 2) | (TriggerType[idx] == 3) & (TrigDet[idx] == DetNum)\n",
    "print(idx,':',np.sum(mask))\n",
    "x = OFamps0[series[key]][det][chan][mask]*1e6\n",
    "#y = OFchiq[series[key]][det][chan][mask]\n",
    "\n",
    "for j in range(len(x)):\n",
    "    h_baseline.Fill(x[j])\n",
    "    h_baseline_kev.Fill(x[j]*factor)\n",
    "\n",
    "print('Series %s:%s done...'%(series[key],key))\n",
    "\n",
    "    "
   ]
  },
  {
   "cell_type": "code",
   "execution_count": 95,
   "metadata": {},
   "outputs": [
    {
     "data": {
      "image/png": "[encoded data removed]",
      "text/plain": [
       "<IPython.core.display.Image object>"
      ]
     },
     "metadata": {},
     "output_type": "display_data"
    }
   ],
   "source": [
    "h_baseline.Draw()\n",
    "can.SetLogy(0)\n",
    "can.Draw()"
   ]
  },
  {
   "cell_type": "code",
   "execution_count": 97,
   "metadata": {},
   "outputs": [
    {
     "data": {
      "image/png": "[encoded data removed]",
      "text/plain": [
       "<IPython.core.display.Image object>"
      ]
     },
     "metadata": {},
     "output_type": "display_data"
    }
   ],
   "source": [
    "hist = h_baseline.Clone()\n",
    "\n",
    "mean = hist.GetMean()\n",
    "rms = hist.GetRMS()\n",
    "fit_range = [mean - 2*rms, mean + 2*rms]\n",
    "gaus = rt.TF1('gaus','gaus(0)',fit_range[0],fit_range[1])\n",
    "gaus.SetParameters(10, mean, rms)\n",
    "hist.Fit(gaus,'Q','',fit_range[0],fit_range[1])\n",
    "gaus = hist.GetFunction('gaus')\n",
    "mean = gaus.GetParameter(1)\n",
    "rms = gaus.GetParameter(2)\n",
    "mean_err = gaus.GetParError(1)\n",
    "rms_err = gaus.GetParError(2)\n",
    "\n",
    "#hist.Rebin(2)\n",
    "rt.gStyle.SetOptStat(0)\n",
    "#hist.SetName('Z6')\n",
    "hist.GetXaxis().SetTitle('PT OFamps0 [uA]')\n",
    "hist.GetYaxis().SetTitle('Counts')\n",
    "hist.SetTitle('Z6 [%s]'%(series['7hr']))\n",
    "hist.SetLineColor(rt.kBlue)\n",
    "hist.SetLineWidth(2)\n",
    "hist.Draw()\n",
    "textOnTop = rt.TLatex()\n",
    "# textOnTop.SetTextSize(0.05)\n",
    "# textOnTop.DrawLatexNDC(0.6,0.8,'#bf{%s}'%(c))\n",
    "textOnTop.SetTextSize(0.035)\n",
    "textOnTop.DrawLatexNDC(0.55,0.8,'#bf{Fitted mean = %0.2f #pm %0.2f uA}'%(mean, mean_err))\n",
    "textOnTop.DrawLatexNDC(0.55,0.75,'#bf{Fitted rms = %0.2f #pm %0.2f uA}'%(rms, rms_err))\n",
    "\n",
    "#textOnTop.DrawLatexNDC(0.5,0.65,'#bf{Collection efficiency = %0.2f%%}'%((means[c]/10.37)*100))\n",
    "can.Draw()"
   ]
  },
  {
   "cell_type": "code",
   "execution_count": 103,
   "metadata": {},
   "outputs": [
    {
     "data": {
      "image/png": "[encoded data removed]",
      "text/plain": [
       "<IPython.core.display.Image object>"
      ]
     },
     "metadata": {},
     "output_type": "display_data"
    }
   ],
   "source": [
    "h_baseline_kev.Draw()\n",
    "can.Draw()"
   ]
  },
  {
   "cell_type": "code",
   "execution_count": 105,
   "metadata": {},
   "outputs": [
    {
     "data": {
      "image/png": "[encoded data removed]",
      "text/plain": [
       "<IPython.core.display.Image object>"
      ]
     },
     "metadata": {},
     "output_type": "display_data"
    }
   ],
   "source": [
    "hist = h_baseline_kev.Clone()\n",
    "\n",
    "mean = hist.GetMean()\n",
    "rms = hist.GetRMS()\n",
    "fit_range = [mean - 2*rms, mean + 2*rms]\n",
    "gaus = rt.TF1('gaus','gaus(0)',fit_range[0],fit_range[1])\n",
    "gaus.SetParameters(10, mean, rms)\n",
    "hist.Fit(gaus,'Q','',fit_range[0],fit_range[1])\n",
    "gaus = hist.GetFunction('gaus')\n",
    "mean = gaus.GetParameter(1)\n",
    "rms = gaus.GetParameter(2)\n",
    "mean_err = gaus.GetParError(1)\n",
    "rms_err = gaus.GetParError(2)\n",
    "\n",
    "#hist.Rebin(2)\n",
    "rt.gStyle.SetOptStat(0)\n",
    "#hist.SetName('Z6')\n",
    "hist.GetXaxis().SetTitle('PT OFamps0 [keV]')\n",
    "hist.GetYaxis().SetTitle('Counts')\n",
    "hist.SetTitle('Z6 [%s]'%(series['7hr']))\n",
    "hist.SetLineColor(rt.kBlue)\n",
    "hist.SetLineWidth(2)\n",
    "hist.Draw()\n",
    "textOnTop = rt.TLatex()\n",
    "# textOnTop.SetTextSize(0.05)\n",
    "# textOnTop.DrawLatexNDC(0.6,0.8,'#bf{%s}'%(c))\n",
    "textOnTop.SetTextSize(0.035)\n",
    "textOnTop.DrawLatexNDC(0.58,0.8,'#bf{Fitted mean = %0.2f #pm %0.2f keV}'%(mean, mean_err))\n",
    "textOnTop.DrawLatexNDC(0.58,0.75,'#bf{Fitted rms = %0.2f #pm %0.2f keV}'%(rms, rms_err))\n",
    "\n",
    "#textOnTop.DrawLatexNDC(0.5,0.65,'#bf{Collection efficiency = %0.2f%%}'%((means[c]/10.37)*100))\n",
    "can.Draw()"
   ]
  },
  {
   "cell_type": "code",
   "execution_count": 106,
   "metadata": {},
   "outputs": [
    {
     "data": {
      "text/plain": [
       "0.21604166666666663"
      ]
     },
     "execution_count": 106,
     "metadata": {},
     "output_type": "execute_result"
    }
   ],
   "source": [
    "0.03*(10.37/1.44)"
   ]
  },
  {
   "cell_type": "code",
   "execution_count": 107,
   "metadata": {},
   "outputs": [
    {
     "data": {
      "text/plain": [
       "0.6190476190476191"
      ]
     },
     "execution_count": 107,
     "metadata": {},
     "output_type": "execute_result"
    }
   ],
   "source": [
    "130./210"
   ]
  },
  {
   "cell_type": "code",
   "execution_count": null,
   "metadata": {},
   "outputs": [],
   "source": []
  },
  {
   "cell_type": "code",
   "execution_count": null,
   "metadata": {},
   "outputs": [],
   "source": []
  },
  {
   "cell_type": "code",
   "execution_count": 57,
   "metadata": {},
   "outputs": [],
   "source": [
    "h_chi2_ofamp_pt = []\n",
    "h_chi2_ofamp_pt_zoomed = []\n",
    "h_ofamp_pt = []\n",
    "\n",
    "for key in series.keys():\n",
    "    th_chi2_ofamp_pt_zoomed = {}\n",
    "    th_chi2_ofamp_pt = {}\n",
    "    \n",
    "    th_ofamp_pt = {}\n",
    "    for i,det in enumerate(dets):\n",
    "        hname = 'h_chi2_ofamp_pt_%s_%s_zoomed'%(det,key)\n",
    "        htitle = 'chi^2 vs. Amp (%s, %s);Amplitude (uA);chi2'%(det,lname[key])\n",
    "        tth2dzoomed = rt.TH2F(hname,htitle,100,0, 20,100,np.logspace(4.3, 6, 101))        \n",
    "        th_chi2_ofamp_pt_zoomed[det] = tth2dzoomed\n",
    "        \n",
    "        hname = 'h_chi2_ofamp_pt_%s_%s'%(det,key)\n",
    "        htitle = 'chi^2 vs. Amplitude (%s, %s);Amplitude (uA);chi^2'%(det,lname[key])\n",
    "        tth2d = rt.TH2F(hname,htitle, 100,0, 100,100,np.logspace(4.3, 7, 101))\n",
    "        th_chi2_ofamp_pt[det] = tth2d\n",
    "        \n",
    "        hname = 'h_ofamp_pt_%s_%s'%(det,key)\n",
    "        htitle = '%s, %s (chi2 < 5e4 & 1 < ofamp < 2)'%(det, lname[key])\n",
    "        tth1d = rt.TH1F(hname,htitle,200,0.5,2.5)\n",
    "        th_ofamp_pt[det] = tth1d\n",
    "        \n",
    "    h_chi2_ofamp_pt.append(th_chi2_ofamp_pt)\n",
    "    h_chi2_ofamp_pt_zoomed.append(th_chi2_ofamp_pt_zoomed)\n",
    "    h_ofamp_pt.append(th_ofamp_pt)\n",
    "\n",
    "\n"
   ]
  },
  {
   "cell_type": "code",
   "execution_count": 61,
   "metadata": {},
   "outputs": [
    {
     "name": "stdout",
     "output_type": "stream",
     "text": [
      "0 : 28380\n",
      "Series 23231217_212512:5hr done...\n",
      "1 : 32831\n",
      "Series 23231217_171613:4hr done...\n",
      "2 : 44802\n",
      "Series 23231217_135018:3hr done...\n"
     ]
    }
   ],
   "source": [
    "chan = 'PT'\n",
    "det = 'Z6'\n",
    "\n",
    "for idx,key in enumerate(series.keys()):\n",
    "    mask = (TriggerType[idx] == 1) & (OFamps[series[key]][det][chan] > 0.) & (TrigDet[idx] == 6)\n",
    "    print(idx,':',np.sum(mask))\n",
    "    x = OFamps[series[key]][det][chan][mask]*1e6\n",
    "    y = OFchiq[series[key]][det][chan][mask]\n",
    "\n",
    "    for j in range(len(x)):\n",
    "        h_chi2_ofamp_pt[idx][det].Fill(x[j],y[j])\n",
    "        h_chi2_ofamp_pt_zoomed[idx][det].Fill(x[j],y[j])\n",
    "#         if((x[j] < 2) and (x[j] > 1) and (y[j] < 5e4)):\n",
    "#             h_ofamp_pt[idx][det].Fill(x[j])\n",
    "    print('Series %s:%s done...'%(series[key],key))\n",
    "\n",
    "    "
   ]
  },
  {
   "cell_type": "code",
   "execution_count": 72,
   "metadata": {},
   "outputs": [
    {
     "data": {
      "text/plain": [
       "array([-9.99999e+11, -9.99999e+11, -9.99999e+11, ..., -9.99999e+11,\n",
       "       -9.99999e+11, -9.99999e+11])"
      ]
     },
     "execution_count": 72,
     "metadata": {},
     "output_type": "execute_result"
    }
   ],
   "source": [
    "idx = 2\n",
    "key = list(series.keys())[idx]\n",
    "mask = (TriggerType[idx] == 1)  & (TrigDet[idx] == 6)\n",
    "OFamps[series[key]][det][chan][mask]*1e6"
   ]
  },
  {
   "cell_type": "code",
   "execution_count": 53,
   "metadata": {},
   "outputs": [
    {
     "data": {
      "text/plain": [
       "array([-9.99999000e+05,  6.43188778e-08, -9.99999000e+05, ...,\n",
       "       -9.99999000e+05, -9.99999000e+05, -9.99999000e+05])"
      ]
     },
     "execution_count": 53,
     "metadata": {},
     "output_type": "execute_result"
    }
   ],
   "source": [
    "can = rt.TCanvas()\n",
    "can.SetLogy()\n",
    "#rt.gStyle.SetOptStat(0)\n",
    "can.SetLogz()\n"
   ]
  },
  {
   "cell_type": "code",
   "execution_count": 59,
   "metadata": {},
   "outputs": [
    {
     "data": {
      "image/png": "[encoded data removed]",
      "text/plain": [
       "<IPython.core.display.Image object>"
      ]
     },
     "metadata": {},
     "output_type": "display_data"
    }
   ],
   "source": [
    "h_chi2_ofamp_pt[0][det].Draw('colz')\n",
    "can.Draw()"
   ]
  },
  {
   "cell_type": "code",
   "execution_count": null,
   "metadata": {},
   "outputs": [],
   "source": []
  },
  {
   "cell_type": "code",
   "execution_count": null,
   "metadata": {},
   "outputs": [],
   "source": []
  },
  {
   "cell_type": "code",
   "execution_count": null,
   "metadata": {},
   "outputs": [],
   "source": []
  },
  {
   "cell_type": "code",
   "execution_count": null,
   "metadata": {},
   "outputs": [],
   "source": []
  },
  {
   "cell_type": "raw",
   "metadata": {},
   "source": [
    "EventTime[0] #- EventTime[0][0]"
   ]
  },
  {
   "cell_type": "raw",
   "metadata": {},
   "source": [
    "EventTime[0] - EventTime[0][0]"
   ]
  },
  {
   "cell_type": "raw",
   "metadata": {},
   "source": [
    "# Event selection\n",
    "#Selecting saturated events\n",
    "c = 'PT'\n",
    "dat = '50V'\n",
    "mask = (TriggerType[0] == 1) & (OFamps[series[dat]][c] > 0.) & ((TrigDet[0] == 6))\n",
    "plt.scatter(OFamps[series[dat]][c][mask]*1e6,OFchiq[series[dat]][c][mask],s=5 ,color='r')\n",
    "\n",
    "# plt.vlines(1.05,1e4,2e5)\n",
    "# plt.vlines(2.3,1e4,2e5)\n",
    "# plt.hlines(2e5,1.05,2.3)\n",
    "\n",
    "# plt.xlim(0,10)\n",
    "# plt.ylim(1e4,1e8)\n",
    "plt.yscale(\"log\")\n",
    "plt.xlabel(\"OF amps [uA]\")\n",
    "plt.ylabel(\"OF chisq\")\n",
    "plt.title(series[dat]+ ' : ' + dat)\n",
    "#plt.savefig(\"./plots/reverse_cal/OF_chi2_%s_scatter.png\"%(c))\n",
    "plt.show()\n"
   ]
  },
  {
   "cell_type": "raw",
   "metadata": {},
   "source": [
    "np.sum(mask)"
   ]
  },
  {
   "cell_type": "code",
   "execution_count": 7,
   "metadata": {},
   "outputs": [],
   "source": [
    "#1.5*17.77\n",
    "#NTL_gain = 17.77\n",
    "NTL_gain = 1"
   ]
  },
  {
   "cell_type": "code",
   "execution_count": 8,
   "metadata": {},
   "outputs": [],
   "source": [
    "h_chi2_ofamp_pt = []\n",
    "h_chi2_ofamp_pt_zoomed = []\n",
    "h_ofamp_pt = []\n",
    "\n",
    "\n",
    "\n",
    "for key in series.keys():\n",
    "    h2d_zoomed = rt.TH2F('h_chi2_ofamp_pt_%s_zoomed'%(key),'chi^2  vs. Amplitude (%s);Amplitude (uA);chi^2'%(series[key]),100,0, 20,100,np.logspace(4.3, 6, 101))\n",
    "    h_chi2_ofamp_pt_zoomed.append(h2d_zoomed)\n",
    "    h2d = rt.TH2F('h_chi2_ofamp_pt_%s'%(key),'chi^2 vs. Amplitude (%s);Amplitude (uA);chi^2'%(series[key]),100,0, 10,100,np.logspace(4.3, 8, 101))\n",
    "    h_chi2_ofamp_pt.append(h2d)\n",
    "    h1d = rt.TH1F('h_ofamp_pt_%s'%(key),'%s (chi2 < 1e5 & 1 < ofamp < 2)'%(series[key]),200,0.5,2.5)\n",
    "    h_ofamp_pt.append(h1d)\n",
    "\n"
   ]
  },
  {
   "cell_type": "code",
   "execution_count": 36,
   "metadata": {},
   "outputs": [
    {
     "name": "stdout",
     "output_type": "stream",
     "text": [
      "log_bg done....\n"
     ]
    }
   ],
   "source": [
    "chan = 'PT'\n",
    "det = 'Z6'\n",
    "\n",
    "for i,key in enumerate(series.keys()):\n",
    "    mask = (TriggerType[i] == 1) & (OFamps[series[key]][chan] > 0.)# & (TrigDet[i] == 6)\n",
    "    x = (OFamps[series[key]][chan][mask]*1e6)/NTL_gain\n",
    "    y = OFchiq[series[key]][chan][mask]\n",
    "    for j in range(len(x)):\n",
    "        h_chi2_ofamp_pt[i].Fill(x[j],y[j])\n",
    "        h_chi2_ofamp_pt_zoomed[i].Fill(x[j],y[j])\n",
    "        #h_ofamp_pt[i].Fill(x[j])\n",
    "        if((x[j] < 2) and (x[j] > 1) and (y[j] < 1e5)):\n",
    "            h_ofamp_pt[i].Fill(x[j])\n",
    "    print('%s done....'%(key))"
   ]
  },
  {
   "cell_type": "code",
   "execution_count": 73,
   "metadata": {},
   "outputs": [
    {
     "data": {
      "text/plain": [
       "{'5hr': '23231217_212512', '4hr': '23231217_171613', '3hr': '23231217_135018'}"
      ]
     },
     "execution_count": 73,
     "metadata": {},
     "output_type": "execute_result"
    }
   ],
   "source": [
    "series"
   ]
  },
  {
   "cell_type": "code",
   "execution_count": 37,
   "metadata": {},
   "outputs": [
    {
     "data": {
      "image/png": "[encoded data removed]",
      "text/plain": [
       "<IPython.core.display.Image object>"
      ]
     },
     "metadata": {},
     "output_type": "display_data"
    }
   ],
   "source": [
    "can = rt.TCanvas()\n",
    "can.SetLogy()\n",
    "rt.gStyle.SetOptStat(0)\n",
    "can.SetLogz()\n",
    "h_chi2_ofamp_pt[0].Draw('colz')\n",
    "can.Draw()"
   ]
  },
  {
   "cell_type": "code",
   "execution_count": 19,
   "metadata": {},
   "outputs": [
    {
     "data": {
      "image/png": "[encoded data removed]",
      "text/plain": [
       "<IPython.core.display.Image object>"
      ]
     },
     "metadata": {},
     "output_type": "display_data"
    }
   ],
   "source": [
    "h_chi2_ofamp_pt_zoomed[0].Draw('colz')\n",
    "can.Draw()"
   ]
  },
  {
   "cell_type": "code",
   "execution_count": 32,
   "metadata": {},
   "outputs": [
    {
     "data": {
      "image/png": "[encoded data removed]",
      "text/plain": [
       "<IPython.core.display.Image object>"
      ]
     },
     "metadata": {},
     "output_type": "display_data"
    }
   ],
   "source": [
    "h_ofamp_pt[0].Draw()\n",
    "rt.gStyle.SetOptStat(11111)\n",
    "can.Draw()"
   ]
  },
  {
   "cell_type": "code",
   "execution_count": 27,
   "metadata": {},
   "outputs": [
    {
     "data": {
      "text/plain": [
       "132.0"
      ]
     },
     "execution_count": 27,
     "metadata": {},
     "output_type": "execute_result"
    }
   ],
   "source": [
    "h_ofamp_pt[0].GetEntries()"
   ]
  },
  {
   "cell_type": "code",
   "execution_count": 28,
   "metadata": {},
   "outputs": [
    {
     "data": {
      "text/plain": [
       "16702.0"
      ]
     },
     "execution_count": 28,
     "metadata": {},
     "output_type": "execute_result"
    }
   ],
   "source": [
    "h_chi2_ofamp_pt[0].GetEntries()"
   ]
  },
  {
   "cell_type": "code",
   "execution_count": null,
   "metadata": {},
   "outputs": [],
   "source": []
  },
  {
   "cell_type": "code",
   "execution_count": null,
   "metadata": {},
   "outputs": [],
   "source": []
  },
  {
   "cell_type": "code",
   "execution_count": 10,
   "metadata": {},
   "outputs": [],
   "source": [
    "can = rt.TCanvas()\n",
    "can.SetLogy()\n",
    "rt.gStyle.SetOptStat(0)\n",
    "can.SetLogz()"
   ]
  },
  {
   "cell_type": "code",
   "execution_count": 12,
   "metadata": {},
   "outputs": [
    {
     "ename": "IndexError",
     "evalue": "index 0 is out of bounds for axis 0 with size 0",
     "output_type": "error",
     "traceback": [
      "\u001b[0;31m---------------------------------------------------------------------------\u001b[0m",
      "\u001b[0;31mIndexError\u001b[0m                                Traceback (most recent call last)",
      "\u001b[0;32m<ipython-input-12-436e59f5f53f>\u001b[0m in \u001b[0;36m<module>\u001b[0;34m\u001b[0m\n\u001b[1;32m      5\u001b[0m \u001b[0midx\u001b[0m \u001b[0;34m=\u001b[0m \u001b[0;36m0\u001b[0m\u001b[0;34m\u001b[0m\u001b[0;34m\u001b[0m\u001b[0m\n\u001b[1;32m      6\u001b[0m \u001b[0mmask\u001b[0m \u001b[0;34m=\u001b[0m \u001b[0;34m(\u001b[0m\u001b[0mTriggerType\u001b[0m\u001b[0;34m[\u001b[0m\u001b[0midx\u001b[0m\u001b[0;34m]\u001b[0m \u001b[0;34m==\u001b[0m \u001b[0;36m1\u001b[0m\u001b[0;34m)\u001b[0m \u001b[0;34m&\u001b[0m \u001b[0;34m(\u001b[0m\u001b[0mOFamps\u001b[0m\u001b[0;34m[\u001b[0m\u001b[0mseries\u001b[0m\u001b[0;34m[\u001b[0m\u001b[0mkey\u001b[0m\u001b[0;34m]\u001b[0m\u001b[0;34m]\u001b[0m\u001b[0;34m[\u001b[0m\u001b[0mdet\u001b[0m\u001b[0;34m]\u001b[0m\u001b[0;34m[\u001b[0m\u001b[0mchan\u001b[0m\u001b[0;34m]\u001b[0m \u001b[0;34m>\u001b[0m \u001b[0;36m0.\u001b[0m\u001b[0;34m)\u001b[0m \u001b[0;34m&\u001b[0m \u001b[0;34m(\u001b[0m\u001b[0mEventTime\u001b[0m\u001b[0;34m[\u001b[0m\u001b[0midx\u001b[0m\u001b[0;34m]\u001b[0m \u001b[0;34m>\u001b[0m \u001b[0;36m0.\u001b[0m\u001b[0;34m)\u001b[0m \u001b[0;34m&\u001b[0m \u001b[0;34m(\u001b[0m\u001b[0mTrigDet\u001b[0m\u001b[0;34m[\u001b[0m\u001b[0midx\u001b[0m\u001b[0;34m]\u001b[0m \u001b[0;34m==\u001b[0m \u001b[0;36m6\u001b[0m\u001b[0;34m)\u001b[0m\u001b[0;34m\u001b[0m\u001b[0;34m\u001b[0m\u001b[0m\n\u001b[0;32m----> 7\u001b[0;31m \u001b[0mt0\u001b[0m \u001b[0;34m=\u001b[0m \u001b[0mEventTime\u001b[0m\u001b[0;34m[\u001b[0m\u001b[0midx\u001b[0m\u001b[0;34m]\u001b[0m\u001b[0;34m[\u001b[0m\u001b[0mmask\u001b[0m\u001b[0;34m]\u001b[0m\u001b[0;34m[\u001b[0m\u001b[0;36m0\u001b[0m\u001b[0;34m]\u001b[0m\u001b[0;34m\u001b[0m\u001b[0;34m\u001b[0m\u001b[0m\n\u001b[0m\u001b[1;32m      8\u001b[0m \u001b[0;31m#EventTime[0][mask] - t0\u001b[0m\u001b[0;34m\u001b[0m\u001b[0;34m\u001b[0m\u001b[0;34m\u001b[0m\u001b[0m\n\u001b[1;32m      9\u001b[0m \u001b[0;34m\u001b[0m\u001b[0m\n",
      "\u001b[0;31mIndexError\u001b[0m: index 0 is out of bounds for axis 0 with size 0"
     ]
    }
   ],
   "source": [
    "#gr_amp_t = rt.TGraph('gr_amp_t','gr_amp_t',0,10e3)\n",
    "chan = 'PT'\n",
    "key = '5hr'\n",
    "det = 'Z6'\n",
    "idx = 0\n",
    "mask = (TriggerType[idx] == 1) & (OFamps[series[key]][det][chan] > 0.) & (EventTime[idx] > 0.) & (TrigDet[idx] == 6)\n",
    "t0 = EventTime[idx][mask][0]\n",
    "#EventTime[0][mask] - t0\n",
    "\n",
    "x = EventTime[idx][mask] - t0\n",
    "y = OFamps[series[key]][det][chan][mask]*1e6\n",
    "gr_amp_t = rt.TGraph(len(x),x,y)\n",
    "gr_amp_t.SetTitle(series[key]+ ' : ' +key )\n",
    "gr_amp_t.GetXaxis().SetTitle('Time [s]')\n",
    "gr_amp_t.GetYaxis().SetTitle('PT OFamp [uA]')\n",
    "gr_amp_t.Draw('AP')\n",
    "can.SetLogy()\n",
    "can.Draw()\n",
    "print(len(x))\n",
    "print(len(y))"
   ]
  },
  {
   "cell_type": "code",
   "execution_count": 115,
   "metadata": {},
   "outputs": [
    {
     "name": "stdout",
     "output_type": "stream",
     "text": [
      "13391\n",
      "13391\n"
     ]
    },
    {
     "data": {
      "image/png": "[encoded data removed]",
      "text/plain": [
       "<IPython.core.display.Image object>"
      ]
     },
     "metadata": {},
     "output_type": "display_data"
    }
   ],
   "source": [
    "#gr_amp_t = rt.TGraph('gr_amp_t','gr_amp_t',0,10e3)\n",
    "chan = 'PT'\n",
    "key = 'postbake'\n",
    "idx = 1\n",
    "mask = (TriggerType[idx] == 1) & (OFamps[series[key]][chan] > 0.) & (EventTime[idx] > 0.)\n",
    "t0 = EventTime[idx][mask][0]\n",
    "#EventTime[0][mask] - t0\n",
    "\n",
    "x = EventTime[idx][mask] - t0\n",
    "y = OFamps[series[key]][chan][mask]*1e6\n",
    "gr_amp_t = rt.TGraph(len(x),x,y)\n",
    "gr_amp_t.SetTitle(series[key]+ ' : ' +key )\n",
    "gr_amp_t.GetXaxis().SetTitle('Time [s]')\n",
    "gr_amp_t.GetYaxis().SetTitle('PT OFamp [uA]')\n",
    "gr_amp_t.Draw('AP')\n",
    "can.SetLogy()\n",
    "can.Draw()\n",
    "print(len(x))\n",
    "print(len(y))"
   ]
  },
  {
   "cell_type": "code",
   "execution_count": null,
   "metadata": {},
   "outputs": [],
   "source": []
  },
  {
   "cell_type": "code",
   "execution_count": null,
   "metadata": {},
   "outputs": [],
   "source": []
  },
  {
   "cell_type": "code",
   "execution_count": null,
   "metadata": {},
   "outputs": [],
   "source": []
  },
  {
   "cell_type": "code",
   "execution_count": null,
   "metadata": {},
   "outputs": [],
   "source": []
  },
  {
   "cell_type": "code",
   "execution_count": 66,
   "metadata": {},
   "outputs": [
    {
     "name": "stdout",
     "output_type": "stream",
     "text": [
      "Done...\n"
     ]
    },
    {
     "name": "stderr",
     "output_type": "stream",
     "text": [
      "<>:5: DeprecationWarning: invalid escape sequence \\c\n",
      "<>:5: DeprecationWarning: invalid escape sequence \\c\n",
      "<>:5: DeprecationWarning: invalid escape sequence \\c\n",
      "<ipython-input-66-e9035d618231>:5: DeprecationWarning: invalid escape sequence \\c\n",
      "  h_chi2_ofamp_pt = rt.TH2F('h_chi2_ofamp_pt','\\chi^2 \\mbox{ vs. Amplitude} (%s);Amplitude (uA);\\chi^2'%(dat),100,0, 10,100,np.logspace(4.3, 6, 101))\n"
     ]
    }
   ],
   "source": [
    "c = 'PT'\n",
    "dat = 'prebake'\n",
    "mask = (TriggerType[0] == 1) & (OFamps[series[dat]][c] > 0.)\n",
    "#h_chi2_ofamp_pt = rt.TH2F('h_chi2_ofamp_pt','\\chi^2 \\mbox{ vs. Amplitude};Amplitude (A);\\chi^2',100,0, 2.5e-4,100,np.logspace(4.3, 8.4, 101))\n",
    "h_chi2_ofamp_pt = rt.TH2F('h_chi2_ofamp_pt','\\chi^2 \\mbox{ vs. Amplitude} (%s);Amplitude (uA);\\chi^2'%(dat),100,0, 10,100,np.logspace(4.3, 6, 101))\n",
    "h_ofamp_pt = rt.TH1F('h_ofamp_pt','%s (chi2 < 5e4 & 1 < ofamp < 2 )'%(dat),200,0.5,2.5)\n",
    "h_ofamp_pt.GetXaxis().SetTitle('PT OFAmps [uA]')\n",
    "x = OFamps[series[dat]][c][mask]*1e6\n",
    "y = OFchiq[series[dat]][c][mask]\n",
    "for i in range(len(OFchiq[series[dat]][c][mask])):\n",
    "    h_chi2_ofamp_pt.Fill(x[i],y[i])\n",
    "    if((x[i] < 2) and (x[i] > 1) and (y[i] < 5e4)):\n",
    "        h_ofamp_pt.Fill(x[i])\n",
    "print('Done...')"
   ]
  },
  {
   "cell_type": "code",
   "execution_count": 68,
   "metadata": {},
   "outputs": [
    {
     "data": {
      "image/png": "[encoded data removed]",
      "text/plain": [
       "<IPython.core.display.Image object>"
      ]
     },
     "metadata": {},
     "output_type": "display_data"
    }
   ],
   "source": [
    "can = rt.TCanvas()\n",
    "can.SetLogy()\n",
    "rt.gStyle.SetOptStat(0)\n",
    "can.SetLogz()\n",
    "h_chi2_ofamp_pt.Draw('colz')\n",
    "can.Draw()"
   ]
  },
  {
   "cell_type": "code",
   "execution_count": 69,
   "metadata": {},
   "outputs": [
    {
     "data": {
      "image/png": "[encoded data removed]",
      "text/plain": [
       "<IPython.core.display.Image object>"
      ]
     },
     "metadata": {},
     "output_type": "display_data"
    }
   ],
   "source": [
    "h_ofamp_pt.Draw()\n",
    "rt.gStyle.SetOptStat(11111)\n",
    "can.Draw()"
   ]
  },
  {
   "cell_type": "code",
   "execution_count": 27,
   "metadata": {},
   "outputs": [
    {
     "data": {
      "text/plain": [
       "107.0"
      ]
     },
     "execution_count": 27,
     "metadata": {},
     "output_type": "execute_result"
    }
   ],
   "source": [
    "h_ofamp_pt.GetEntries()"
   ]
  },
  {
   "cell_type": "code",
   "execution_count": 29,
   "metadata": {},
   "outputs": [
    {
     "data": {
      "text/plain": [
       "array([2.87639633e-08, 4.78958130e-08, 6.06340127e-08, 3.29056191e-08,\n",
       "       5.75420287e-08, 5.72963998e-08, 4.56184162e-08, 3.60516766e-08,\n",
       "       4.02845714e-08, 5.95859903e-08])"
      ]
     },
     "execution_count": 29,
     "metadata": {},
     "output_type": "execute_result"
    }
   ],
   "source": [
    "x[0:10]"
   ]
  },
  {
   "cell_type": "code",
   "execution_count": 13,
   "metadata": {},
   "outputs": [
    {
     "data": {
      "text/plain": [
       "12839"
      ]
     },
     "execution_count": 13,
     "metadata": {},
     "output_type": "execute_result"
    }
   ],
   "source": [
    "#len(OFamps[series[dat]][c][mask])\n",
    "len(OFchiq[series[dat]][c][mask])"
   ]
  },
  {
   "cell_type": "code",
   "execution_count": 13,
   "metadata": {},
   "outputs": [
    {
     "data": {
      "image/png": "[encoded data removed]",
      "text/plain": [
       "<Figure size 432x288 with 1 Axes>"
      ]
     },
     "metadata": {
      "needs_background": "light"
     },
     "output_type": "display_data"
    }
   ],
   "source": [
    "# Event selection\n",
    "#Selecting saturated events\n",
    "c = 'PT'\n",
    "dat = 'prebake'\n",
    "mask = (TriggerType[0] == 1) & (OFamps[series[dat]][c] > 0.)\n",
    "plt.scatter(OFamps[series[dat]][c][mask]*1e6,OFchiq[series[dat]][c][mask],s=5 ,color='r')\n",
    "\n",
    "# plt.vlines(1.05,1e4,2e5)\n",
    "# plt.vlines(2.3,1e4,2e5)\n",
    "# plt.hlines(2e5,1.05,2.3)\n",
    "\n",
    "# plt.xlim(0,10)\n",
    "# plt.ylim(1e4,1e8)\n",
    "plt.yscale(\"log\")\n",
    "plt.xlabel(\"OF amps [uA]\")\n",
    "plt.ylabel(\"OF chisq\")\n",
    "plt.title(series[dat]+ ' : ' + dat)\n",
    "#plt.savefig(\"./plots/reverse_cal/OF_chi2_%s_scatter.png\"%(c))\n",
    "plt.show()\n"
   ]
  },
  {
   "cell_type": "code",
   "execution_count": 14,
   "metadata": {},
   "outputs": [
    {
     "data": {
      "image/png": "[encoded data removed]",
      "text/plain": [
       "<Figure size 432x288 with 1 Axes>"
      ]
     },
     "metadata": {
      "needs_background": "light"
     },
     "output_type": "display_data"
    }
   ],
   "source": [
    "c = 'PT'\n",
    "dat = 'postbake'\n",
    "mask = (TriggerType[1] == 1) & (OFamps[series[dat]][c] > 0.)\n",
    "plt.scatter(OFamps[series[dat]][c][mask]*1e6,OFchiq[series[dat]][c][mask],s=5 ,color='b')\n",
    "\n",
    "# plt.vlines(1.05,1e4,2e5)\n",
    "# plt.vlines(2.3,1e4,2e5)\n",
    "# plt.hlines(2e5,1.05,2.3)\n",
    "\n",
    "#plt.xlim(0,10)\n",
    "#plt.ylim(1e4,1e8)\n",
    "plt.yscale(\"log\")\n",
    "plt.xlabel(\"OF amps [uA]\")\n",
    "plt.ylabel(\"OF chisq\")\n",
    "plt.title(series[dat]+ ' : ' + dat)\n",
    "#plt.savefig(\"./plots/reverse_cal/OF_chi2_%s_scatter.png\"%(c))\n",
    "plt.show()"
   ]
  },
  {
   "cell_type": "code",
   "execution_count": null,
   "metadata": {},
   "outputs": [],
   "source": []
  },
  {
   "cell_type": "code",
   "execution_count": null,
   "metadata": {},
   "outputs": [],
   "source": []
  },
  {
   "cell_type": "code",
   "execution_count": 82,
   "metadata": {},
   "outputs": [
    {
     "name": "stdout",
     "output_type": "stream",
     "text": [
      "Done...\n"
     ]
    },
    {
     "name": "stderr",
     "output_type": "stream",
     "text": [
      "<>:5: DeprecationWarning: invalid escape sequence \\c\n",
      "<>:5: DeprecationWarning: invalid escape sequence \\c\n",
      "<>:5: DeprecationWarning: invalid escape sequence \\c\n",
      "<ipython-input-82-929d0b625672>:5: DeprecationWarning: invalid escape sequence \\c\n",
      "  h_chi2_ofamp_pt_post = rt.TH2F('h_chi2_ofamp_pt_post','\\chi^2 \\mbox{ vs. Amplitude} (%s);Amplitude (uA);\\chi^2'%(dat),100,0, 10,100,np.logspace(4, 7, 101))\n",
      "Warning in <TROOT::Append>: Replacing existing TH1: h_chi2_ofamp_pt_post (Potential memory leak).\n",
      "Warning in <TROOT::Append>: Replacing existing TH1: h_ofamp_pt_post (Potential memory leak).\n"
     ]
    }
   ],
   "source": [
    "c = 'PT'\n",
    "dat = 'postbake'\n",
    "mask = (TriggerType[1] == 1) & (OFamps[series[dat]][c] > 0.)\n",
    "#h_chi2_ofamp_pt = rt.TH2F('h_chi2_ofamp_pt','\\chi^2 \\mbox{ vs. Amplitude};Amplitude (A);\\chi^2',100,0, 2.5e-4,100,np.logspace(4.3, 8.4, 101))\n",
    "h_chi2_ofamp_pt_post = rt.TH2F('h_chi2_ofamp_pt_post','\\chi^2 \\mbox{ vs. Amplitude} (%s);Amplitude (uA);\\chi^2'%(dat),100,0, 10,100,np.logspace(4, 7, 101))\n",
    "h_ofamp_pt_post = rt.TH1F('h_ofamp_pt_post','%s (chi2 < 5e4 & 1 < ofamp < 2 )'%(dat),200,0.5,2.5)\n",
    "h_ofamp_pt_post.GetXaxis().SetTitle('PT OFAmps [uA]')\n",
    "x = OFamps[series[dat]][c][mask]*1e6\n",
    "y = OFchiq[series[dat]][c][mask]\n",
    "for i in range(len(OFchiq[series[dat]][c][mask])):\n",
    "    h_chi2_ofamp_pt_post.Fill(x[i],y[i])\n",
    "    if((x[i] < 2) and (x[i] > 1) and (y[i] < 5e4)):\n",
    "        h_ofamp_pt_post.Fill(x[i])\n",
    "print('Done...')"
   ]
  },
  {
   "cell_type": "code",
   "execution_count": 83,
   "metadata": {},
   "outputs": [
    {
     "data": {
      "image/png": "[encoded data removed]",
      "text/plain": [
       "<IPython.core.display.Image object>"
      ]
     },
     "metadata": {},
     "output_type": "display_data"
    }
   ],
   "source": [
    "temp = h_ofamp_pt_post.Clone()\n",
    "temp.Scale(1.0/temp.Integral())\n",
    "temp.Draw()\n",
    "can.Draw()"
   ]
  },
  {
   "cell_type": "code",
   "execution_count": 84,
   "metadata": {},
   "outputs": [
    {
     "data": {
      "image/png": "[encoded data removed]",
      "text/plain": [
       "<IPython.core.display.Image object>"
      ]
     },
     "metadata": {},
     "output_type": "display_data"
    }
   ],
   "source": [
    "h_ofamp_pt_post.Draw()\n",
    "can.Draw()"
   ]
  },
  {
   "cell_type": "code",
   "execution_count": null,
   "metadata": {},
   "outputs": [],
   "source": []
  },
  {
   "cell_type": "code",
   "execution_count": null,
   "metadata": {},
   "outputs": [],
   "source": []
  },
  {
   "cell_type": "code",
   "execution_count": 51,
   "metadata": {},
   "outputs": [
    {
     "data": {
      "image/png": "[encoded data removed]",
      "text/plain": [
       "<IPython.core.display.Image object>"
      ]
     },
     "metadata": {},
     "output_type": "display_data"
    }
   ],
   "source": [
    "can = rt.TCanvas()\n",
    "can.SetLogy()\n",
    "#rt.gStyle.SetOptStat(0)\n",
    "can.SetLogz()\n",
    "h_chi2_ofamp_pt_post.Draw('colz')\n",
    "can.Draw()"
   ]
  },
  {
   "cell_type": "code",
   "execution_count": 71,
   "metadata": {},
   "outputs": [
    {
     "data": {
      "image/png": "[encoded data removed]",
      "text/plain": [
       "<IPython.core.display.Image object>"
      ]
     },
     "metadata": {},
     "output_type": "display_data"
    }
   ],
   "source": [
    "h_ofamp_pt_post.Draw()\n",
    "can.Draw()"
   ]
  },
  {
   "cell_type": "code",
   "execution_count": 72,
   "metadata": {},
   "outputs": [],
   "source": [
    "h_ofamp_pt.Scale(1./h_ofamp_pt.Integral())\n",
    "h_ofamp_pt.Rebin(2)\n",
    "h_ofamp_pt.SetLineColor(rt.kBlue)\n",
    "h_ofamp_pt.SetLineStyle(1)\n",
    "h_ofamp_pt.SetLineWidth(2)\n",
    "h_ofamp_pt.SetTitle(\"\")\n",
    "h_ofamp_pt.GetYaxis().SetTitle('Normalized')\n",
    "\n",
    "h_ofamp_pt_post.Scale(1./h_ofamp_pt_post.Integral())\n",
    "h_ofamp_pt_post.Rebin(2)\n",
    "h_ofamp_pt_post.SetLineColor(rt.kRed)\n",
    "h_ofamp_pt_post.SetLineStyle(1)\n",
    "h_ofamp_pt_post.SetLineWidth(2)\n",
    "h_ofamp_pt_post.SetTitle(\"\")\n",
    "h_ofamp_pt_post.GetYaxis().SetTitle('Normalized')\n"
   ]
  },
  {
   "cell_type": "code",
   "execution_count": 74,
   "metadata": {},
   "outputs": [
    {
     "data": {
      "image/png": "[encoded data removed]",
      "text/plain": [
       "<IPython.core.display.Image object>"
      ]
     },
     "metadata": {},
     "output_type": "display_data"
    }
   ],
   "source": [
    "h_ofamp_pt.Draw('hist')\n",
    "h_ofamp_pt_post.Draw('hist same')\n",
    "\n",
    "l = rt.TLegend(0.2, 0.75, 0.4, 0.85) # x,y of top left and x,y of bottom right\n",
    "l.AddEntry(h_ofamp_pt, \"prebake\", \"l\") # \"l\" to say it's just a line, no points\n",
    "l.AddEntry(h_ofamp_pt_post, \"postback\", \"l\")\n",
    "\n",
    "l.Draw()\n",
    "can.Draw()"
   ]
  },
  {
   "cell_type": "code",
   "execution_count": null,
   "metadata": {},
   "outputs": [],
   "source": []
  },
  {
   "cell_type": "code",
   "execution_count": null,
   "metadata": {},
   "outputs": [],
   "source": []
  },
  {
   "cell_type": "code",
   "execution_count": null,
   "metadata": {},
   "outputs": [],
   "source": []
  },
  {
   "cell_type": "code",
   "execution_count": null,
   "metadata": {},
   "outputs": [],
   "source": []
  },
  {
   "cell_type": "code",
   "execution_count": null,
   "metadata": {},
   "outputs": [],
   "source": []
  },
  {
   "cell_type": "code",
   "execution_count": null,
   "metadata": {},
   "outputs": [],
   "source": []
  },
  {
   "cell_type": "code",
   "execution_count": null,
   "metadata": {},
   "outputs": [],
   "source": []
  },
  {
   "cell_type": "code",
   "execution_count": null,
   "metadata": {},
   "outputs": [],
   "source": []
  },
  {
   "cell_type": "code",
   "execution_count": null,
   "metadata": {},
   "outputs": [],
   "source": []
  }
 ],
 "metadata": {
  "kernelspec": {
   "display_name": "CDMS V04-00",
   "language": "python",
   "name": "cdms_v04-00"
  },
  "language_info": {
   "codemirror_mode": {
    "name": "ipython",
    "version": 3
   },
   "file_extension": ".py",
   "mimetype": "text/x-python",
   "name": "python",
   "nbconvert_exporter": "python",
   "pygments_lexer": "ipython3",
   "version": "3.7.6"
  }
 },
 "nbformat": 4,
 "nbformat_minor": 4
}
