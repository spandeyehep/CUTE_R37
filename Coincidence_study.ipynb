{
 "cells": [
  {
   "cell_type": "code",
   "execution_count": 1,
   "metadata": {},
   "outputs": [
    {
     "name": "stderr",
     "output_type": "stream",
     "text": [
      "/cvmfs/cdms.opensciencegrid.org/releases/centos7/V04-00/lib/python3.7/site-packages/datacat/model.py:2: DeprecationWarning: Using or importing the ABCs from 'collections' instead of from 'collections.abc' is deprecated since Python 3.3,and in 3.9 it will stop working\n",
      "  from collections import OrderedDict, MutableMapping\n"
     ]
    },
    {
     "name": "stdout",
     "output_type": "stream",
     "text": [
      "Welcome to JupyROOT 6.22/00\n"
     ]
    }
   ],
   "source": [
    "import uproot\n",
    "import numpy as np\n",
    "import matplotlib.pyplot as plt\n",
    "from qetpy.utils import lowpassfilter \n",
    "from qetpy import autocuts\n",
    "import cdms\n",
    "#from CDMSDataCatalog import CDMSDataCatalog\n",
    "import scipy.optimize as optimize\n",
    "import matplotlib as mpl\n",
    "import pickle as pkl\n",
    "import os, sys\n",
    "import ROOT as rt\n",
    "import seaborn as sns\n",
    "import operator as op\n",
    "import pandas as pd\n",
    "from collections import Counter"
   ]
  },
  {
   "cell_type": "code",
   "execution_count": 2,
   "metadata": {},
   "outputs": [
    {
     "data": {
      "text/plain": [
       "52428.8"
      ]
     },
     "execution_count": 2,
     "metadata": {},
     "output_type": "execute_result"
    }
   ],
   "source": [
    "1.6*32768"
   ]
  },
  {
   "cell_type": "code",
   "execution_count": 3,
   "metadata": {},
   "outputs": [
    {
     "name": "stdout",
     "output_type": "stream",
     "text": [
      "23231220_190923  :  /sdf/group/supercdms/data/CDMS/CUTE/R37/Processed/Prompt/Prompt_V04-15_P0.2.1/Submerged/Prompt_V04-15_P0.2.1_23231220_190923.root\n",
      "23231220_122140  :  /sdf/group/supercdms/data/CDMS/CUTE/R37/Processed/Prompt/Prompt_V04-15_P0.2.1/Submerged/Prompt_V04-15_P0.2.1_23231220_122140.root\n",
      "23231220_053358  :  /sdf/group/supercdms/data/CDMS/CUTE/R37/Processed/Prompt/Prompt_V04-15_P0.2.1/Submerged/Prompt_V04-15_P0.2.1_23231220_053358.root\n",
      "23231220_012745  :  /sdf/group/supercdms/data/CDMS/CUTE/R37/Processed/Prompt/Prompt_V04-15_P0.2.1/Submerged/Prompt_V04-15_P0.2.1_23231220_012745.root\n",
      "23231219_184002  :  /sdf/group/supercdms/data/CDMS/CUTE/R37/Processed/Prompt/Prompt_V04-15_P0.2.1/Submerged/Prompt_V04-15_P0.2.1_23231219_184002.root\n",
      "23231219_110331  :  /sdf/group/supercdms/data/CDMS/CUTE/R37/Processed/Prompt/Prompt_V04-15_P0.2.1/Submerged/Prompt_V04-15_P0.2.1_23231219_110331.root\n",
      "23231219_034952  :  /sdf/group/supercdms/data/CDMS/CUTE/R37/Processed/Prompt/Prompt_V04-15_P0.2.1/Submerged/Prompt_V04-15_P0.2.1_23231219_034952.root\n",
      "23231218_223530  :  /sdf/group/supercdms/data/CDMS/CUTE/R37/Processed/Prompt/Prompt_V04-15_P0.2.1/Submerged/Prompt_V04-15_P0.2.1_23231218_223530.root\n",
      "23231218_190035  :  /sdf/group/supercdms/data/CDMS/CUTE/R37/Processed/Prompt/Prompt_V04-15_P0.2.1/Submerged/Prompt_V04-15_P0.2.1_23231218_190035.root\n",
      "23231218_152721  :  /sdf/group/supercdms/data/CDMS/CUTE/R37/Processed/Prompt/Prompt_V04-15_P0.2.1/Submerged/Prompt_V04-15_P0.2.1_23231218_152721.root\n",
      "23231218_093255  :  /sdf/group/supercdms/data/CDMS/CUTE/R37/Processed/Prompt/Prompt_V04-15_P0.2.1/Submerged/Prompt_V04-15_P0.2.1_23231218_093255.root\n",
      "23231217_212512  :  /sdf/group/supercdms/data/CDMS/CUTE/R37/Processed/Prompt/Prompt_V04-15_P0.2.1/Submerged/Prompt_V04-15_P0.2.1_23231217_212512.root\n",
      "23231217_171613  :  /sdf/group/supercdms/data/CDMS/CUTE/R37/Processed/Prompt/Prompt_V04-15_P0.2.1/Submerged/Prompt_V04-15_P0.2.1_23231217_171613.root\n",
      "23231217_135018  :  /sdf/group/supercdms/data/CDMS/CUTE/R37/Processed/Prompt/Prompt_V04-15_P0.2.1/Submerged/Prompt_V04-15_P0.2.1_23231217_135018.root\n"
     ]
    }
   ],
   "source": [
    "base=\"/sdf/group/supercdms/data/CDMS/CUTE/R37/Processed/Prompt/Prompt_V04-15_P0.2.1/Submerged\"\n",
    "\n",
    "# series = {\n",
    "#     '7hr' : '23231219_034952',\n",
    "#     '6hr' : '23231219_110331'\n",
    "    \n",
    "# }\n",
    "\n",
    "# lname = series\n",
    "# filePath = {}\n",
    "\n",
    "# for key in series.keys():\n",
    "    \n",
    "#     filePath[key] = '%s/Prompt_V04-15_P0.2.1_%s.root'%(base,series[key])\n",
    "#     if(os.path.exists(filePath[key])):\n",
    "#         print(key,' : ',filePath[key])\n",
    "#     else:\n",
    "#         print('not found: ',filePath[key])\n",
    "\n",
    "\n",
    "        \n",
    "\n",
    "series = ['23231220_190923','23231220_122140','23231220_053358','23231220_012745',\n",
    "         '23231219_184002','23231219_110331','23231219_034952','23231218_223530','23231218_190035',\n",
    "         '23231218_152721','23231218_093255','23231217_212512','23231217_171613','23231217_135018']\n",
    "\n",
    "filePath = []\n",
    "\n",
    "for ser in series:\n",
    "    \n",
    "    fp = '%s/Prompt_V04-15_P0.2.1_%s.root'%(base,ser)\n",
    "    if(os.path.exists(fp)):\n",
    "        print(ser,' : ',fp)\n",
    "        filePath.append(fp)\n",
    "    else:\n",
    "        print('not found: ',fp)"
   ]
  },
  {
   "cell_type": "code",
   "execution_count": 4,
   "metadata": {},
   "outputs": [
    {
     "name": "stdout",
     "output_type": "stream",
     "text": [
      "Done!\n"
     ]
    }
   ],
   "source": [
    "# Get trees from RQ file\n",
    "\n",
    "# RQ=[]\n",
    "# for i,key in enumerate(series.keys()):\n",
    "#     RQ.append(uproot.open(filePath[key])['rqDir/zip1']) \n",
    "\n",
    "# eventTree=[]\n",
    "# for i,key in enumerate(series.keys()):\n",
    "#     eventTree.append(uproot.open(filePath[key])['rqDir/eventTree']) \n",
    "\n",
    "\n",
    "dets = ['Z1','Z2','Z3']\n",
    "zips = {\n",
    "    'Z1' : 'zip1',\n",
    "    'Z2' : 'zip2',\n",
    "    'Z3' : 'zip3',\n",
    "    'Z4' : 'zip4',\n",
    "    'Z5' : 'zip5',\n",
    "    'Z6' : 'zip6'\n",
    "}\n",
    "RQ = []\n",
    "\n",
    "for idx,key in enumerate(series):\n",
    "    t = {}\n",
    "    for i,det in enumerate(dets):\n",
    "        t[det] = uproot.open(filePath[idx])['rqDir/%s'%(zips[det])]\n",
    "    RQ.append(t)\n",
    "\n",
    "eventTree=[]\n",
    "for idx,key in enumerate(series):\n",
    "    eventTree.append(uproot.open(filePath[idx])['rqDir/eventTree']) \n",
    "\n",
    "print('Done!')\n"
   ]
  },
  {
   "cell_type": "code",
   "execution_count": 6,
   "metadata": {},
   "outputs": [
    {
     "name": "stdout",
     "output_type": "stream",
     "text": [
      "Detector =  Z1\n",
      "Detector =  Z2\n",
      "Detector =  Z3\n",
      "\tSkipping Z3-PAS1...\n",
      "Done for 23231220_190923..\n",
      "Detector =  Z1\n",
      "Detector =  Z2\n",
      "Detector =  Z3\n",
      "\tSkipping Z3-PAS1...\n",
      "Done for 23231220_122140..\n",
      "Detector =  Z1\n",
      "Detector =  Z2\n",
      "Detector =  Z3\n",
      "\tSkipping Z3-PAS1...\n",
      "Done for 23231220_053358..\n",
      "Detector =  Z1\n",
      "Detector =  Z2\n",
      "Detector =  Z3\n",
      "\tSkipping Z3-PAS1...\n",
      "Done for 23231220_012745..\n",
      "Detector =  Z1\n",
      "Detector =  Z2\n",
      "Detector =  Z3\n",
      "\tSkipping Z3-PAS1...\n",
      "Done for 23231219_184002..\n",
      "Detector =  Z1\n",
      "Detector =  Z2\n",
      "Detector =  Z3\n",
      "\tSkipping Z3-PAS1...\n",
      "Done for 23231219_110331..\n",
      "Detector =  Z1\n",
      "Detector =  Z2\n",
      "Detector =  Z3\n",
      "\tSkipping Z3-PAS1...\n",
      "Done for 23231219_034952..\n",
      "Detector =  Z1\n",
      "Detector =  Z2\n",
      "Detector =  Z3\n",
      "\tSkipping Z3-PAS1...\n",
      "Done for 23231218_223530..\n",
      "Detector =  Z1\n",
      "Detector =  Z2\n",
      "Detector =  Z3\n",
      "\tSkipping Z3-PAS1...\n",
      "Done for 23231218_190035..\n",
      "Detector =  Z1\n",
      "Detector =  Z2\n",
      "Detector =  Z3\n",
      "\tSkipping Z3-PAS1...\n",
      "Done for 23231218_152721..\n",
      "Detector =  Z1\n",
      "Detector =  Z2\n",
      "Detector =  Z3\n",
      "\tSkipping Z3-PAS1...\n",
      "Done for 23231218_093255..\n",
      "Detector =  Z1\n",
      "Detector =  Z2\n",
      "Detector =  Z3\n",
      "\tSkipping Z3-PAS1...\n",
      "Done for 23231217_212512..\n",
      "Detector =  Z1\n",
      "Detector =  Z2\n",
      "Detector =  Z3\n",
      "\tSkipping Z3-PAS1...\n",
      "Done for 23231217_171613..\n",
      "Detector =  Z1\n",
      "Detector =  Z2\n",
      "Detector =  Z3\n",
      "\tSkipping Z3-PAS1...\n",
      "Done for 23231217_135018..\n",
      "all done\n"
     ]
    }
   ],
   "source": [
    "channels=['PT','PAS1','PBS1','PCS1','PDS1','PES1','PFS1','PAS2','PBS2','PCS2','PDS2','PES2','PFS2']\n",
    "#series=['23231024_231640']\n",
    "OFchiq={}\n",
    "OFamps={}\n",
    "OFdelay={}\n",
    "OFamps0={}\n",
    "OFnorms={}\n",
    "OFbs={}\n",
    "for i,key in enumerate(series): # for each series\n",
    "    tc={}\n",
    "    ta={}\n",
    "    td={}\n",
    "    ta0={}\n",
    "    tn = {}\n",
    "    tbs = {}\n",
    "    for j,det in enumerate(dets):     # for each detector\n",
    "        ttc={}\n",
    "        tta={}\n",
    "        ttd={}\n",
    "        tta0={}\n",
    "        ttn = {}\n",
    "        ttbs = {}\n",
    "        print('Detector = ',det)\n",
    "        for c in channels:                # for each channel\n",
    "            \n",
    "            if(det == 'Z3' and c == 'PAS1'):\n",
    "                print('\\tSkipping Z3-PAS1...')\n",
    "                continue\n",
    "            #print('\\t chan = ',c)\n",
    "            ttc[c]=(RQ[i][det].array(c+\"OFchisq\"))\n",
    "            tta[c]=(RQ[i][det].array(c+\"OFamps\"))\n",
    "            tta0[c]=(RQ[i][det].array(c+\"OFamps0\"))\n",
    "            ttd[c]=(RQ[i][det].array(c+\"OFdelay\"))\n",
    "            \n",
    "            if(c!='PT'):\n",
    "                tn[c] = (RQ[i][det].array(c+\"norm\"))\n",
    "                ttbs[c]=(RQ[i][det].array(c+\"bs\"))\n",
    "        tc[det] = ttc\n",
    "        ta[det] = tta\n",
    "        td[det] = ttd\n",
    "        ta0[det] = tta0\n",
    "        tn[det] = ttn\n",
    "        tbs[det] = ttbs\n",
    "    OFchiq[key]=tc\n",
    "    OFamps[key]=ta\n",
    "    OFamps0[key]=ta0\n",
    "    OFdelay[key]=td\n",
    "    OFbs[key]=tbs\n",
    "    OFnorms[key]=tn\n",
    "    \n",
    "        \n",
    "    print('Done for %s..'%(key))\n",
    "print('all done')"
   ]
  },
  {
   "cell_type": "code",
   "execution_count": 7,
   "metadata": {},
   "outputs": [
    {
     "name": "stdout",
     "output_type": "stream",
     "text": [
      "Done!\n"
     ]
    }
   ],
   "source": [
    "#Get RQs from processed files\n",
    "# chan=['PBS2']\n",
    "# series=['23210325_211520','23210326_012655','23210326_130758','23210327_010110','23210327_190020','23210328_051029','23210328_142945','23210329_021134','23210329_114716']\n",
    "channels=['PT','PAS1','PBS1','PCS1','PDS1','PES1','PFS1','PAS2','PBS2','PCS2','PDS2','PES2','PFS2']\n",
    "#series=['23231024_231640']\n",
    "TriggerTime=[]\n",
    "TriggerType=[]\n",
    "EventNumber=[]\n",
    "TrigDet=[]\n",
    "TriggerMask=[]\n",
    "EventTime=[]\n",
    "for i,key in enumerate(series):\n",
    "#     if(i!=0):\n",
    "#         print('Skipping %s....'%(key))\n",
    "#         continue\n",
    "    TriggerTime.append(eventTree[i].array(\"TriggerTime\"))\n",
    "    TriggerType.append(eventTree[i].array(\"TriggerType\"))\n",
    "    EventNumber.append(eventTree[i].array(\"EventNumber\"))\n",
    "    TrigDet.append(eventTree[i].array(\"TriggerDetectorNum\"))\n",
    "    TriggerMask.append(eventTree[i].array(\"TriggerMask\"))\n",
    "    EventTime.append(eventTree[i].array(\"EventTime\"))\n",
    "print('Done!')"
   ]
  },
  {
   "cell_type": "code",
   "execution_count": 17,
   "metadata": {},
   "outputs": [
    {
     "data": {
      "text/plain": [
       "1703118019.0"
      ]
     },
     "execution_count": 17,
     "metadata": {},
     "output_type": "execute_result"
    }
   ],
   "source": [
    "idx = 0\n",
    "(EventTime[idx])[2000]"
   ]
  },
  {
   "cell_type": "code",
   "execution_count": 16,
   "metadata": {},
   "outputs": [
    {
     "name": "stdout",
     "output_type": "stream",
     "text": [
      "0  :  0.0\n",
      "1  :  26.0\n",
      "2  :  51.0\n",
      "3  :  55.0\n",
      "4  :  81.0\n",
      "5  :  101.0\n",
      "6  :  114.0\n",
      "7  :  123.0\n",
      "8  :  131.0\n",
      "9  :  138.0\n"
     ]
    }
   ],
   "source": [
    "chan = 'PT'\n",
    "det = 'Z2'\n",
    "DetNum = int(det[-1])\n",
    "idx = 0\n",
    "key = series[idx]\n",
    "mask = (TriggerType[idx] == 1) & (OFamps[series[idx]][det][chan] > 0.) & (TrigDet[idx] == 2) & (EventTime[idx] > 0.)\n",
    "t0 = EventTime[idx][mask][0]\n",
    "for i in range(10):\n",
    "    print(i,' : ',(EventTime[idx][mask][i] - t0))"
   ]
  },
  {
   "cell_type": "code",
   "execution_count": 28,
   "metadata": {},
   "outputs": [
    {
     "name": "stdout",
     "output_type": "stream",
     "text": [
      "Z1 done\n",
      "Z2 done\n",
      "Z3 done\n"
     ]
    }
   ],
   "source": [
    "timestamps = {}\n",
    "\n",
    "chan = 'PT'\n",
    "for det in dets:\n",
    "    t = np.array([])\n",
    "    DetNum = int(det[-1]) \n",
    "    for idx, key in enumerate(series):\n",
    "        mask = (TriggerType[idx] == 1) & (OFamps[series[idx]][det][chan] > 0.) & (TrigDet[idx] == DetNum) & (EventTime[idx] > 0.)\n",
    "        t = np.append(t,EventTime[idx][mask])\n",
    "    timestamps[det] = t\n",
    "    print('%s done'%(det))"
   ]
  },
  {
   "cell_type": "code",
   "execution_count": 30,
   "metadata": {},
   "outputs": [
    {
     "name": "stdout",
     "output_type": "stream",
     "text": [
      "Z1 =  348488\n",
      "Z2 =  172690\n",
      "Z3 =  300608\n"
     ]
    }
   ],
   "source": [
    "print('Z1 = ',len(timestamps['Z1']))\n",
    "print('Z2 = ',len(timestamps['Z2']))\n",
    "print('Z3 = ',len(timestamps['Z3']))"
   ]
  },
  {
   "cell_type": "code",
   "execution_count": null,
   "metadata": {},
   "outputs": [],
   "source": [
    "timestamps = {}\n",
    "for idx, key in enumerate(series):\n",
    "    t = {}\n",
    "    for det in dets:\n",
    "        DetNum = int(det[-1])\n",
    "        \n",
    "        \n",
    "        \n",
    "        \n",
    "chan = 'PT'\n",
    "for det in dets:\n",
    "    t = np.array([])\n",
    "    DetNum = int(det[-1]) \n",
    "    \n",
    "        mask = (TriggerType[idx] == 1) & (OFamps[series[idx]][det][chan] > 0.) & (TrigDet[idx] == DetNum) & (EventTime[idx] > 0.)\n",
    "        t = np.append(t,EventTime[idx][mask])\n",
    "    timestamps[det] = t\n",
    "    print('%s done'%(det))"
   ]
  },
  {
   "cell_type": "code",
   "execution_count": null,
   "metadata": {},
   "outputs": [],
   "source": [
    "idx = 0\n",
    "key = series[idx]\n"
   ]
  },
  {
   "cell_type": "code",
   "execution_count": null,
   "metadata": {},
   "outputs": [],
   "source": []
  },
  {
   "cell_type": "code",
   "execution_count": null,
   "metadata": {},
   "outputs": [],
   "source": []
  },
  {
   "cell_type": "code",
   "execution_count": null,
   "metadata": {},
   "outputs": [],
   "source": []
  },
  {
   "cell_type": "code",
   "execution_count": null,
   "metadata": {},
   "outputs": [],
   "source": []
  },
  {
   "cell_type": "code",
   "execution_count": 18,
   "metadata": {},
   "outputs": [
    {
     "data": {
      "image/png": "[encoded data removed]",
      "text/plain": [
       "<IPython.core.display.Image object>"
      ]
     },
     "metadata": {},
     "output_type": "display_data"
    }
   ],
   "source": [
    "#gr_amp_t = rt.TGraph('gr_amp_t','gr_amp_t',0,10e3)\n",
    "chan = 'PT'\n",
    "det = 'Z2'\n",
    "DetNum = int(det[-1])\n",
    "x = np.array([])\n",
    "y = np.array([])\n",
    "\n",
    "for idx, key in enumerate(series):\n",
    "    mask = (TriggerType[idx] == 1) & (OFamps[series[idx]][det][chan] > 0.) & (TrigDet[idx] == 2) & (EventTime[idx] > 0.)\n",
    "    t0 = EventTime[idx][mask][0]\n",
    "    x = np.append(x,EventTime[idx][mask] - t0)\n",
    "    y = np.append(y, OFamps[key][det][chan][mask]*1e6)\n",
    "\n",
    "# idx = 0\n",
    "# key = series[idx]\n",
    "# mask = (TriggerType[idx] == 1) & (OFamps[series[idx]][det][chan] > 0.) & (TrigDet[idx] == DetNum) & (EventTime[idx] > 0.)\n",
    "# #print(mask)\n",
    "# t0 = EventTime[idx][mask][0]\n",
    "# #EventTime[0][mask] - t0\n",
    "\n",
    "# x = EventTime[idx][mask] - t0\n",
    "# y = OFamps[key][det][chan][mask]*1e6\n",
    "\n",
    "can = rt.TCanvas()\n",
    "gr = rt.TGraph(len(x),x,y)\n",
    "gr.SetTitle('%s (TrigDet = Z2)'%(det))\n",
    "#gr_amp_t.SetTitle(det+ ' : ' +series[key]+ ' : ' +key )\n",
    "gr.GetXaxis().SetTitle('Time [s]')\n",
    "gr.GetYaxis().SetTitle('PT OFamp [uA]')\n",
    "gr.Draw('AP*')\n",
    "can.SetLogy()\n",
    "can.Draw()\n",
    "# print(len(x))\n",
    "# print(len(y))"
   ]
  },
  {
   "cell_type": "code",
   "execution_count": 27,
   "metadata": {},
   "outputs": [
    {
     "data": {
      "image/png": "[encoded data removed]",
      "text/plain": [
       "<IPython.core.display.Image object>"
      ]
     },
     "metadata": {},
     "output_type": "display_data"
    }
   ],
   "source": [
    "#gr_amp_t = rt.TGraph('gr_amp_t','gr_amp_t',0,10e3)\n",
    "chan = 'PT'\n",
    "det = 'Z1'\n",
    "DetNum = int(det[-1])\n",
    "x = np.array([])\n",
    "y = np.array([])\n",
    "\n",
    "for idx, key in enumerate(series):\n",
    "    #mask = (TriggerType[idx] == 1) & (OFamps[series[idx]][det][chan] > 0.) & (TrigDet[idx] == 2) & (EventTime[idx] > 0.)\n",
    "    mask = (TriggerType[idx] == 1) & (TrigDet[idx] == 2) & (EventTime[idx] > 0.)\n",
    "    t0 = EventTime[idx][mask][0]\n",
    "    x = np.append(x,EventTime[idx][mask] - t0)\n",
    "    y = np.append(y, OFamps[key][det][chan][mask])\n",
    "\n",
    "# idx = 0\n",
    "# key = series[idx]\n",
    "# mask = (TriggerType[idx] == 1) & (OFamps[series[idx]][det][chan] > 0.) & (TrigDet[idx] == DetNum) & (EventTime[idx] > 0.)\n",
    "# #print(mask)\n",
    "# t0 = EventTime[idx][mask][0]\n",
    "# #EventTime[0][mask] - t0\n",
    "\n",
    "# x = EventTime[idx][mask] - t0\n",
    "# y = OFamps[key][det][chan][mask]*1e6\n",
    "\n",
    "can = rt.TCanvas()\n",
    "gr = rt.TGraph(len(x),x,y)\n",
    "gr.SetTitle('%s (TrigDet = Z2)'%(det))\n",
    "#gr_amp_t.SetTitle(det+ ' : ' +series[key]+ ' : ' +key )\n",
    "gr.GetXaxis().SetTitle('Time [s]')\n",
    "gr.GetYaxis().SetTitle('PT OFamp [uA]')\n",
    "gr.Draw('AP*')\n",
    "#can.SetLogy()\n",
    "can.Draw()\n",
    "# print(len(x))\n",
    "# print(len(y))"
   ]
  },
  {
   "cell_type": "code",
   "execution_count": 41,
   "metadata": {},
   "outputs": [
    {
     "name": "stdout",
     "output_type": "stream",
     "text": [
      "series          :\t # events with OFAmps > 0 in det Z1 when Z2 triggered\n",
      "\n",
      "23231220_190923 :\t 0\n",
      "23231220_122140 :\t 0\n",
      "23231220_053358 :\t 0\n",
      "23231220_012745 :\t 0\n",
      "23231219_184002 :\t 0\n",
      "23231219_110331 :\t 0\n",
      "23231219_034952 :\t 0\n",
      "23231218_223530 :\t 0\n",
      "23231218_190035 :\t 0\n",
      "23231218_152721 :\t 0\n",
      "23231218_093255 :\t 0\n",
      "23231217_212512 :\t 0\n",
      "23231217_171613 :\t 0\n",
      "23231217_135018 :\t 0\n"
     ]
    }
   ],
   "source": [
    "chan = 'PT'\n",
    "det = 'Z1'\n",
    "idx = 0\n",
    "key = series[idx]\n",
    "print('series          :\\t # events with OFAmps > 0 in det %s when Z2 triggered\\n'%(det))\n",
    "for idx, key in enumerate(series):\n",
    "    #mask = (TriggerType[idx] == 1) & (TrigDet[idx] == 2) & (EventTime[idx] > 0.)\n",
    "    #mask = ((TrigDet[idx] == 2) & (TrigDet[idx] == 1))\n",
    "    mask = (TrigDet[idx] == 2) & (OFamps[key][det][chan] > 0.)\n",
    "    print(key,':\\t',np.sum(mask))\n"
   ]
  },
  {
   "cell_type": "code",
   "execution_count": null,
   "metadata": {},
   "outputs": [],
   "source": []
  },
  {
   "cell_type": "code",
   "execution_count": null,
   "metadata": {},
   "outputs": [],
   "source": []
  }
 ],
 "metadata": {
  "kernelspec": {
   "display_name": "CDMS V04-00",
   "language": "python",
   "name": "cdms_v04-00"
  },
  "language_info": {
   "codemirror_mode": {
    "name": "ipython",
    "version": 3
   },
   "file_extension": ".py",
   "mimetype": "text/x-python",
   "name": "python",
   "nbconvert_exporter": "python",
   "pygments_lexer": "ipython3",
   "version": "3.7.6"
  }
 },
 "nbformat": 4,
 "nbformat_minor": 4
}
