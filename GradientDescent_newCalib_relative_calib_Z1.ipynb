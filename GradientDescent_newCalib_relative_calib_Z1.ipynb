{
 "cells": [
  {
   "cell_type": "code",
   "execution_count": 1,
   "metadata": {},
   "outputs": [
    {
     "name": "stdout",
     "output_type": "stream",
     "text": [
      "Loading modules....\n"
     ]
    },
    {
     "name": "stderr",
     "output_type": "stream",
     "text": [
      "<frozen importlib._bootstrap>:219: RuntimeWarning: numpy.ndarray size changed, may indicate binary incompatibility. Expected 80 from C header, got 96 from PyObject\n",
      "/usr/local/lib/python3.8/dist-packages/CDMSDataCatalog/CDMSDataCatalog.py:6: DeprecationWarning: pkg_resources is deprecated as an API. See https://setuptools.pypa.io/en/latest/pkg_resources.html\n",
      "  import pkg_resources\n",
      "/usr/local/lib/python3.8/dist-packages/pkg_resources/__init__.py:2868: DeprecationWarning: Deprecated call to `pkg_resources.declare_namespace('mpl_toolkits')`.\n",
      "Implementing implicit namespace packages (as specified in PEP 420) is preferred to `pkg_resources.declare_namespace`. See https://setuptools.pypa.io/en/latest/references/keywords.html#keyword-namespace-packages\n",
      "  declare_namespace(pkg)\n",
      "/usr/local/lib/python3.8/dist-packages/pkg_resources/__init__.py:2868: DeprecationWarning: Deprecated call to `pkg_resources.declare_namespace('sphinxcontrib')`.\n",
      "Implementing implicit namespace packages (as specified in PEP 420) is preferred to `pkg_resources.declare_namespace`. See https://setuptools.pypa.io/en/latest/references/keywords.html#keyword-namespace-packages\n",
      "  declare_namespace(pkg)\n"
     ]
    },
    {
     "name": "stdout",
     "output_type": "stream",
     "text": [
      "Welcome to JupyROOT 6.24/06\n",
      "modules loaded...\n"
     ]
    }
   ],
   "source": [
    "print('Loading modules....')\n",
    "\n",
    "import os, sys\n",
    "\n",
    "\n",
    "import uproot\n",
    "import numpy as np\n",
    "import matplotlib.pyplot as plt\n",
    "from qetpy.utils import lowpassfilter \n",
    "from qetpy import autocuts\n",
    "import cdms\n",
    "#from CDMSDataCatalog import CDMSDataCatalog\n",
    "import scipy.optimize as optimize\n",
    "import matplotlib as mpl\n",
    "import pickle as pkl\n",
    "import ROOT as rt\n",
    "import seaborn as sns\n",
    "import operator as op\n",
    "import pandas as pd\n",
    "from collections import Counter\n",
    "from tqdm import tqdm\n",
    "print('modules loaded...')"
   ]
  },
  {
   "cell_type": "code",
   "execution_count": 2,
   "metadata": {},
   "outputs": [],
   "source": [
    "dataset = 'v2.1.1'\n",
    "detNum = 1"
   ]
  },
  {
   "cell_type": "code",
   "execution_count": 3,
   "metadata": {},
   "outputs": [
    {
     "name": "stdout",
     "output_type": "stream",
     "text": [
      "23231219_034952  :  /fs/ddn/sdf/group/supercdms/data/CDMS/CUTE/R37/Processed/Tests/CUTE_T3_GeActivation_v2.1.1_V05-00_P0.2./Submerged/CUTE_T3_GeActivation_v2.1.1_V05-00_P0.2._23231219_034952.root\n",
      "23231219_110331  :  /fs/ddn/sdf/group/supercdms/data/CDMS/CUTE/R37/Processed/Tests/CUTE_T3_GeActivation_v2.1.1_V05-00_P0.2./Submerged/CUTE_T3_GeActivation_v2.1.1_V05-00_P0.2._23231219_110331.root\n",
      "23231218_223530  :  /fs/ddn/sdf/group/supercdms/data/CDMS/CUTE/R37/Processed/Tests/CUTE_T3_GeActivation_v2.1.1_V05-00_P0.2./Submerged/CUTE_T3_GeActivation_v2.1.1_V05-00_P0.2._23231218_223530.root\n",
      "23231217_212512  :  /fs/ddn/sdf/group/supercdms/data/CDMS/CUTE/R37/Processed/Tests/CUTE_T3_GeActivation_v2.1.1_V05-00_P0.2./Submerged/CUTE_T3_GeActivation_v2.1.1_V05-00_P0.2._23231217_212512.root\n",
      "Found series =  ['23231219_034952', '23231219_110331', '23231218_223530', '23231217_212512']\n",
      "Number of found series =  4\n"
     ]
    }
   ],
   "source": [
    "prod='CUTE_T3_GeActivation_%s_V05-00_P0.2.'%(dataset)\n",
    "base = '/fs/ddn/sdf/group/supercdms/data/CDMS/CUTE/R37/Processed/Tests/%s/Submerged'%(prod)\n",
    "\n",
    "if(dataset == 'prompt'):\n",
    "    base = '/fs/ddn/sdf/group/supercdms/data/CDMS/CUTE/R37/Processed/Prompt/Prompt_V04-15_P0.2.1/Submerged'\n",
    "    prod = 'Prompt_V04-15_P0.2.1'\n",
    "\n",
    "\n",
    "file_prefix = prod\n",
    "\n",
    "#Only 4 series\n",
    "series = ['23231219_034952','23231219_110331','23231218_223530','23231217_212512']\n",
    "\n",
    "# 11 data series\n",
    "# series = [\n",
    "#     '23231220_012745','23231219_184002','23231219_110331','23231219_034952','23231218_223530',\n",
    "#     '23231218_190035','23231218_152721','23231218_093255','23231217_212512','23231217_171613',\n",
    "#     '23231217_135018'\n",
    "#          ]\n",
    "\n",
    "# 20 data series\n",
    "# series = [\n",
    "#     '23231216_013604', '23231216_043946', '23231216_100125', '23231216_115012', '23231216_145300',\n",
    "#     '23231216_182937', '23231216_194929', '23231216_211119', '23231216_233807', '23231217_135018',\n",
    "#     '23231217_171613', '23231217_212512', '23231218_093255', '23231218_152721', '23231218_190035',\n",
    "#     '23231218_223530', '23231219_034952', '23231219_110331', '23231219_184002', '23231220_012745'\n",
    "# ]\n",
    "\n",
    "filePath = []\n",
    "found_series = []\n",
    "for ser in series:\n",
    "    \n",
    "    fp = '%s/%s_%s.root'%(base,file_prefix,ser)\n",
    "    if(os.path.exists(fp)):\n",
    "        print(ser,' : ',fp)\n",
    "        filePath.append(fp)\n",
    "        found_series.append(ser)\n",
    "    else:\n",
    "        print('not found: ',fp)\n",
    "series = found_series\n",
    "print('Found series = ',series)\n",
    "print('Number of found series = ',len(series))\n"
   ]
  },
  {
   "cell_type": "code",
   "execution_count": 4,
   "metadata": {},
   "outputs": [
    {
     "name": "stdout",
     "output_type": "stream",
     "text": [
      "Loading RQ and Event Tree...\n",
      "done..\n",
      "Loading OF spefic data....\n",
      "23231219_034952 loaded\n",
      "23231219_110331 loaded\n",
      "23231218_223530 loaded\n",
      "23231217_212512 loaded\n",
      "done!\n",
      " Loading Event specific data....\n",
      "23231219_034952 loaded\n",
      "23231219_110331 loaded\n",
      "23231218_223530 loaded\n",
      "23231217_212512 loaded\n",
      "Done!\n"
     ]
    }
   ],
   "source": [
    "print('Loading RQ and Event Tree...')\n",
    "RQ=[]\n",
    "for i,ser in enumerate(series):\n",
    "    RQ.append(uproot.open(filePath[i])['rqDir/zip%d'%(detNum)]) \n",
    "\n",
    "eventTree=[]\n",
    "for i,ser in enumerate(series):\n",
    "    eventTree.append(uproot.open(filePath[i])['rqDir/eventTree']) \n",
    "\n",
    "print('done..')\n",
    "\n",
    "\n",
    "print('Loading OF spefic data....')\n",
    "#Load RQs from processed files\n",
    "channels=['PT','PAS1','PBS1','PCS1','PDS1','PES1','PFS1','PAS2','PBS2','PCS2','PDS2','PES2','PFS2']\n",
    "\n",
    "OFchiq={}\n",
    "OFamps={}\n",
    "OFdelay={}\n",
    "OFamps0={}\n",
    "OFnorms={}\n",
    "OFbs={}\n",
    "\n",
    "for i,key in enumerate(series):\n",
    "    tc={}\n",
    "    ta={}\n",
    "    td={}\n",
    "    ta0={}\n",
    "    tn = {}\n",
    "    tbs = {}\n",
    "    for c in channels:\n",
    "        if(detNum == '3' and c == 'PAS1'):\n",
    "            print('\\tSkipping Z3-PAS1...')\n",
    "            continue\n",
    "        tc[c]=(RQ[i][c+\"OFchisq\"].array(library='np'))\n",
    "        ta[c]=(RQ[i][c+\"OFamps\"].array(library='np'))\n",
    "        ta0[c]=(RQ[i][c+\"OFamps0\"].array(library='np'))\n",
    "        td[c]=(RQ[i][c+\"OFdelay\"].array(library='np'))\n",
    "        \n",
    "        # tc[c]=(RQ[i].array(c+\"OFchisq\"))\n",
    "        # ta[c]=(RQ[i].array(c+\"OFamps\"))\n",
    "        # ta0[c]=(RQ[i].array(c+\"OFamps0\"))\n",
    "        # td[c]=(RQ[i].array(c+\"OFdelay\"))\n",
    "        if(c!='PT'):\n",
    "            tn[c] = (RQ[i][c+\"norm\"].array(library='np'))\n",
    "            tbs[c] = (RQ[i][c+\"bs\"].array(library='np'))\n",
    "            # tn[c] = (RQ[i].array(c+\"norm\"))\n",
    "            # tbs[c] = (RQ[i].array(c+\"bs\"))\n",
    "            \n",
    "    OFchiq[key]=tc\n",
    "    OFamps[key]=ta\n",
    "    OFamps0[key]=ta0\n",
    "    OFdelay[key]=td\n",
    "    OFnorms[key]=tn\n",
    "    OFbs[key]=tbs\n",
    "    print('%s loaded'%(key))\n",
    "    \n",
    "print('done!')\n",
    "\n",
    "print(' Loading Event specific data....')\n",
    "\n",
    "\n",
    "TriggerTime=[]\n",
    "TriggerType=[]\n",
    "EventNumber=[]\n",
    "TrigDet=[]\n",
    "TriggerMask=[]\n",
    "EventTime=[]\n",
    "\n",
    "R2 = {} # Radial parameter for S2\n",
    "R1 = {} # Radial parameter for S1\n",
    "amp_diff = {}  \n",
    "amp_diff_abs = {}\n",
    "for i,key in enumerate(series):\n",
    "    TriggerTime.append(eventTree[i][\"TriggerTime\"].array())\n",
    "    TriggerType.append(eventTree[i][\"TriggerType\"].array())\n",
    "    EventNumber.append(eventTree[i][\"EventNumber\"].array())\n",
    "    TrigDet.append(eventTree[i][\"TriggerDetectorNum\"].array())\n",
    "    TriggerMask.append(eventTree[i][\"TriggerMask\"].array())\n",
    "    EventTime.append(eventTree[i][\"EventTime\"].array())\n",
    "    \n",
    "    # TriggerTime.append(eventTree[i].array(\"TriggerTime\"))\n",
    "    # TriggerType.append(eventTree[i].array(\"TriggerType\"))\n",
    "    # EventNumber.append(eventTree[i].array(\"EventNumber\"))\n",
    "    # TrigDet.append(eventTree[i].array(\"TriggerDetectorNum\"))\n",
    "    # TriggerMask.append(eventTree[i].array(\"TriggerMask\"))\n",
    "    # EventTime.append(eventTree[i].array(\"EventTime\"))\n",
    "    R2[key] = OFdelay[key]['PFS2'] - OFdelay[key]['PAS2']\n",
    "    R1[key] = OFdelay[key]['PFS1'] - OFdelay[key]['PAS1']\n",
    "    amp_diff[key] = (OFamps[key]['PFS2'] - OFamps[key]['PAS2'])/(OFamps[key]['PFS2'] + OFamps[key]['PAS2'])\n",
    "    amp_diff_abs[key] = (OFamps[key]['PFS2'] - OFamps[key]['PAS2'])\n",
    "    print('%s loaded'%(key))\n",
    "\n",
    "print('Done!')"
   ]
  },
  {
   "cell_type": "code",
   "execution_count": 5,
   "metadata": {},
   "outputs": [
    {
     "name": "stdout",
     "output_type": "stream",
     "text": [
      "PAS1 loaded..: 143\n",
      "PBS1 loaded..: 143\n",
      "PCS1 loaded..: 143\n",
      "PDS1 loaded..: 143\n",
      "PES1 loaded..: 143\n",
      "PFS1 loaded..: 143\n",
      "PAS2 loaded..: 143\n",
      "PBS2 loaded..: 143\n",
      "PCS2 loaded..: 143\n",
      "PDS2 loaded..: 143\n",
      "PES2 loaded..: 143\n",
      "PFS2 loaded..: 143\n"
     ]
    }
   ],
   "source": [
    "chan = 'PT'\n",
    "amps = {}\n",
    "\n",
    "for c in channels:\n",
    "    if(c == 'PT'):\n",
    "        continue\n",
    "    temp = []\n",
    "    for idx, key in enumerate(series):\n",
    "        mask = (TriggerType[idx] == 1) & (TrigDet[idx] == detNum) & (OFamps[key][chan] > 3e-6) & (OFamps[key][chan] < 4.2e-6) & (OFchiq[key][chan] < 5e5) & (abs(OFdelay[key][chan])*1e3 < 20)\n",
    "        temp = np.append(temp, OFamps[key][c][mask])\n",
    "        #print(series,' : ',EventNumber[idx][mask])\n",
    "    amps[c] = temp\n",
    "    print('%s loaded..: %d'%(c, len(amps[c])))\n",
    "\n"
   ]
  },
  {
   "cell_type": "code",
   "execution_count": 6,
   "metadata": {},
   "outputs": [],
   "source": [
    "def grad(func,var,jump_var=0.001):\n",
    "    \"\"\"\n",
    "    The gradient operator, self-explanatory.\n",
    "    \"\"\"\n",
    "    func_now = func(*var)\n",
    "    func_change_list=[0]*len(var)\n",
    "    var_change_list=[0]*len(var)\n",
    "    \n",
    "    for i,x in enumerate(var):\n",
    "        var_changed=var*1;\n",
    "        var_changed[i]=(1+jump_var)*x\n",
    "        #print(var)\n",
    "        func_change_list[i]=func(*var_changed)-func_now\n",
    "        var_change_list[i]=jump_var*x\n",
    "        \n",
    "    grad_list=[0]*len(var)\n",
    "    for i in range(len(func_change_list)):\n",
    "        grad_list[i]=func_change_list[i]/var_change_list[i]\n",
    "        \n",
    "    return grad_list\n",
    "    \n",
    "def grad_descent(func,var_start,rate,max_steps,mode=\"min\"):\n",
    "    \"\"\"\n",
    "    Optimizes a function with gradient descent.\n",
    "    func: The function to minimize.\n",
    "    var_start: A list of the initial conditions. A list of floats.\n",
    "    rate: The learning rate. A list of floats. Adjust if you get bad results.\n",
    "    max_steps: The maximum number of times to loop through.\n",
    "    mode: \"max\" or \"min\" (default min); whether to maximize or mnimize func.\n",
    "    \"\"\"\n",
    "    for v in var_start:\n",
    "        if v==0:\n",
    "            print(\"ERROR: Don't start the var_start at 0!\")\n",
    "            return -1\n",
    "    switch=1\n",
    "    if mode==\"min\":\n",
    "        switch=-1\n",
    "    try:\n",
    "        x=func(*var_start)\n",
    "    except:\n",
    "        print(\"ERROR: Size of input arguments to function and starting variables must be the same!\")\n",
    "        return -1\n",
    "    if len(var_start)!=len(rate):\n",
    "        print(\"ERROR: Size of var_start must match size of rate.\")\n",
    "        return -1\n",
    "    best_var=var_start*1\n",
    "    for i in range(max_steps):\n",
    "        grad_best=grad(func,best_var)\n",
    "        for i,i_grad in enumerate(grad_best):\n",
    "            best_var[i]+=rate[i]*i_grad*switch\n",
    "    return best_var,func(*best_var)"
   ]
  },
  {
   "cell_type": "code",
   "execution_count": 9,
   "metadata": {},
   "outputs": [
    {
     "name": "stdout",
     "output_type": "stream",
     "text": [
      "([1.0, 1.0, 1.0, 1.0, 1.0, 1.0], 999.9)\n"
     ]
    }
   ],
   "source": [
    "def foo(a, b, c, d, e, f):    \n",
    "    temp = rt.TH1F('temp', 'temp', 200, 1.0, 4.5)\n",
    "    for i in range(len(amps['PAS1'])):\n",
    "        s = a*amps['PAS1'][i] + b*amps['PBS1'][i] + c*amps['PCS1'][i] + d*amps['PDS1'][i] + e*amps['PES1'][i] + f*amps['PFS1'][i]\n",
    "        temp.Fill(s)\n",
    "    if(temp.GetMean() == 0 or temp.GetRMS() == 0 or temp.GetBinContent(0) > 0.):\n",
    "        return(999.9)\n",
    "    else:\n",
    "        return(temp.GetRMS()/temp.GetMean())\n",
    "\n",
    "\n",
    "print(grad_descent(foo,[1,1,1,1,1,1],[0.1,0.1,0.1,0.1,0.1,0.1],100,mode=\"max\"))\n",
    "\n",
    "\n",
    "\n",
    "\n"
   ]
  },
  {
   "cell_type": "code",
   "execution_count": null,
   "metadata": {
    "editable": true,
    "slideshow": {
     "slide_type": ""
    },
    "tags": []
   },
   "outputs": [],
   "source": []
  }
 ],
 "metadata": {
  "kernelspec": {
   "display_name": "Python 3 (ipykernel)",
   "language": "python",
   "name": "python3"
  },
  "language_info": {
   "codemirror_mode": {
    "name": "ipython",
    "version": 3
   },
   "file_extension": ".py",
   "mimetype": "text/x-python",
   "name": "python",
   "nbconvert_exporter": "python",
   "pygments_lexer": "ipython3",
   "version": "3.8.10"
  }
 },
 "nbformat": 4,
 "nbformat_minor": 4
}
